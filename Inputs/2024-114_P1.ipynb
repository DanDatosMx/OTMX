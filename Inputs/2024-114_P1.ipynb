{
 "cells": [
  {
   "cell_type": "code",
   "execution_count": 6,
   "metadata": {},
   "outputs": [],
   "source": [
    "import pandas as pd\n",
    "from docx import Document\n",
    "from openpyxl import load_workbook\n",
    "import os\n",
    "from pathlib import Path\n",
    "from datetime import datetime\n",
    "from docx2pdf import convert\n"
   ]
  },
  {
   "cell_type": "code",
   "execution_count": 7,
   "metadata": {},
   "outputs": [],
   "source": [
    "# Cargar el archivo Excel\n",
    "ruta_archivo = \"C:/OTMX/Inputs/2024-114/Data_Renovaciones_FORD.xlsx\"  # Reemplaza con la ruta de tu archivo Excel\n",
    "datos_excel = pd.read_excel(ruta_archivo)\n"
   ]
  },
  {
   "cell_type": "code",
   "execution_count": 8,
   "metadata": {},
   "outputs": [],
   "source": [
    "# Ruta del archivo de Word y de Excel\n",
    "archivo_word = \"C:/OTMX/Inputs/2024-114/CotizaciónFord.docx\"\n",
    "archivo_excel = \"C:/OTMX/Inputs/2024-114/Data_Renovaciones_FORD.xlsx\"\n",
    "PathC = \"C:/OTMX\"\n",
    "NameItem = \"2024-114\"\n",
    "\n",
    "carpeta_output = Path(PathC) / \"Outputs\" / NameItem / \"Word Files\"\n",
    "\n",
    "Output_dir = Path(PathC) / \"Outputs\" / NameItem / \"Word Files\"\n",
    "Output_dir.mkdir(parents=True, exist_ok=True)"
   ]
  },
  {
   "cell_type": "code",
   "execution_count": 9,
   "metadata": {},
   "outputs": [],
   "source": [
    "# Cargar el archivo de Word\n",
    "documento_base = Document(archivo_word)"
   ]
  },
  {
   "cell_type": "code",
   "execution_count": 10,
   "metadata": {},
   "outputs": [
    {
     "name": "stderr",
     "output_type": "stream",
     "text": [
      "100%|██████████| 1/1 [00:03<00:00,  3.97s/it]\n"
     ]
    },
    {
     "name": "stdout",
     "output_type": "stream",
     "text": [
      "Archivo Word Generado No. 1: 30752315\n"
     ]
    },
    {
     "name": "stderr",
     "output_type": "stream",
     "text": [
      "100%|██████████| 1/1 [00:03<00:00,  3.57s/it]\n"
     ]
    },
    {
     "name": "stdout",
     "output_type": "stream",
     "text": [
      "Archivo Word Generado No. 2: 1000101727\n"
     ]
    },
    {
     "name": "stderr",
     "output_type": "stream",
     "text": [
      "100%|██████████| 1/1 [00:02<00:00,  2.48s/it]\n"
     ]
    },
    {
     "name": "stdout",
     "output_type": "stream",
     "text": [
      "Archivo Word Generado No. 3: 1000102544\n"
     ]
    },
    {
     "name": "stderr",
     "output_type": "stream",
     "text": [
      "100%|██████████| 1/1 [00:02<00:00,  2.60s/it]\n"
     ]
    },
    {
     "name": "stdout",
     "output_type": "stream",
     "text": [
      "Archivo Word Generado No. 4: 1000102163\n"
     ]
    },
    {
     "name": "stderr",
     "output_type": "stream",
     "text": [
      "100%|██████████| 1/1 [00:03<00:00,  3.09s/it]\n"
     ]
    },
    {
     "name": "stdout",
     "output_type": "stream",
     "text": [
      "Archivo Word Generado No. 5: 1000102166\n"
     ]
    },
    {
     "name": "stderr",
     "output_type": "stream",
     "text": [
      "100%|██████████| 1/1 [00:03<00:00,  3.18s/it]\n"
     ]
    },
    {
     "name": "stdout",
     "output_type": "stream",
     "text": [
      "Archivo Word Generado No. 6: 1000102241\n"
     ]
    },
    {
     "name": "stderr",
     "output_type": "stream",
     "text": [
      "100%|██████████| 1/1 [00:03<00:00,  3.06s/it]\n"
     ]
    },
    {
     "name": "stdout",
     "output_type": "stream",
     "text": [
      "Archivo Word Generado No. 7: 5590704152\n"
     ]
    },
    {
     "name": "stderr",
     "output_type": "stream",
     "text": [
      "100%|██████████| 1/1 [00:03<00:00,  3.03s/it]\n"
     ]
    },
    {
     "name": "stdout",
     "output_type": "stream",
     "text": [
      "Archivo Word Generado No. 8: 5590704156\n"
     ]
    },
    {
     "name": "stderr",
     "output_type": "stream",
     "text": [
      "100%|██████████| 1/1 [00:03<00:00,  3.27s/it]\n"
     ]
    },
    {
     "name": "stdout",
     "output_type": "stream",
     "text": [
      "Archivo Word Generado No. 9: 5590704158\n"
     ]
    },
    {
     "name": "stderr",
     "output_type": "stream",
     "text": [
      "100%|██████████| 1/1 [00:04<00:00,  4.43s/it]\n"
     ]
    },
    {
     "name": "stdout",
     "output_type": "stream",
     "text": [
      "Archivo Word Generado No. 10: 5590704159\n"
     ]
    },
    {
     "name": "stderr",
     "output_type": "stream",
     "text": [
      "100%|██████████| 1/1 [00:04<00:00,  4.60s/it]\n"
     ]
    },
    {
     "name": "stdout",
     "output_type": "stream",
     "text": [
      "Archivo Word Generado No. 11: 5590704160\n"
     ]
    },
    {
     "name": "stderr",
     "output_type": "stream",
     "text": [
      "100%|██████████| 1/1 [00:04<00:00,  4.42s/it]\n"
     ]
    },
    {
     "name": "stdout",
     "output_type": "stream",
     "text": [
      "Archivo Word Generado No. 12: 5591734061\n"
     ]
    },
    {
     "name": "stderr",
     "output_type": "stream",
     "text": [
      "100%|██████████| 1/1 [00:04<00:00,  4.64s/it]\n"
     ]
    },
    {
     "name": "stdout",
     "output_type": "stream",
     "text": [
      "Archivo Word Generado No. 13: 5599732923\n"
     ]
    },
    {
     "name": "stderr",
     "output_type": "stream",
     "text": [
      "100%|██████████| 1/1 [00:04<00:00,  4.52s/it]\n"
     ]
    },
    {
     "name": "stdout",
     "output_type": "stream",
     "text": [
      "Archivo Word Generado No. 14: 5590704154\n"
     ]
    },
    {
     "name": "stderr",
     "output_type": "stream",
     "text": [
      "100%|██████████| 1/1 [00:03<00:00,  3.38s/it]\n"
     ]
    },
    {
     "name": "stdout",
     "output_type": "stream",
     "text": [
      "Archivo Word Generado No. 15: 5590704161\n"
     ]
    },
    {
     "name": "stderr",
     "output_type": "stream",
     "text": [
      "100%|██████████| 1/1 [00:04<00:00,  4.58s/it]\n"
     ]
    },
    {
     "name": "stdout",
     "output_type": "stream",
     "text": [
      "Archivo Word Generado No. 16: 5591734053\n"
     ]
    },
    {
     "name": "stderr",
     "output_type": "stream",
     "text": [
      "100%|██████████| 1/1 [00:04<00:00,  4.58s/it]\n"
     ]
    },
    {
     "name": "stdout",
     "output_type": "stream",
     "text": [
      "Archivo Word Generado No. 17: 5592754001\n"
     ]
    },
    {
     "name": "stderr",
     "output_type": "stream",
     "text": [
      "100%|██████████| 1/1 [00:05<00:00,  5.01s/it]\n"
     ]
    },
    {
     "name": "stdout",
     "output_type": "stream",
     "text": [
      "Archivo Word Generado No. 18: 5598733225\n"
     ]
    },
    {
     "name": "stderr",
     "output_type": "stream",
     "text": [
      "100%|██████████| 1/1 [00:04<00:00,  4.57s/it]\n"
     ]
    },
    {
     "name": "stdout",
     "output_type": "stream",
     "text": [
      "Archivo Word Generado No. 19: 5590704153\n"
     ]
    },
    {
     "name": "stderr",
     "output_type": "stream",
     "text": [
      "100%|██████████| 1/1 [00:04<00:00,  4.32s/it]\n"
     ]
    },
    {
     "name": "stdout",
     "output_type": "stream",
     "text": [
      "Archivo Word Generado No. 20: 5591734055\n"
     ]
    },
    {
     "name": "stderr",
     "output_type": "stream",
     "text": [
      "100%|██████████| 1/1 [00:04<00:00,  4.39s/it]\n"
     ]
    },
    {
     "name": "stdout",
     "output_type": "stream",
     "text": [
      "Archivo Word Generado No. 21: 5594733806\n"
     ]
    },
    {
     "name": "stderr",
     "output_type": "stream",
     "text": [
      "100%|██████████| 1/1 [00:04<00:00,  4.52s/it]\n"
     ]
    },
    {
     "name": "stdout",
     "output_type": "stream",
     "text": [
      "Archivo Word Generado No. 22: 5594733891\n"
     ]
    },
    {
     "name": "stderr",
     "output_type": "stream",
     "text": [
      "100%|██████████| 1/1 [00:04<00:00,  4.34s/it]\n"
     ]
    },
    {
     "name": "stdout",
     "output_type": "stream",
     "text": [
      "Archivo Word Generado No. 23: 5598733272\n"
     ]
    },
    {
     "name": "stderr",
     "output_type": "stream",
     "text": [
      "100%|██████████| 1/1 [00:04<00:00,  4.52s/it]\n"
     ]
    },
    {
     "name": "stdout",
     "output_type": "stream",
     "text": [
      "Archivo Word Generado No. 24: 5599732961\n"
     ]
    },
    {
     "name": "stderr",
     "output_type": "stream",
     "text": [
      "100%|██████████| 1/1 [00:04<00:00,  4.44s/it]\n"
     ]
    },
    {
     "name": "stdout",
     "output_type": "stream",
     "text": [
      "Archivo Word Generado No. 25: 5592734004\n"
     ]
    },
    {
     "name": "stderr",
     "output_type": "stream",
     "text": [
      "100%|██████████| 1/1 [00:06<00:00,  6.24s/it]\n"
     ]
    },
    {
     "name": "stdout",
     "output_type": "stream",
     "text": [
      "Archivo Word Generado No. 26: 5592734006\n"
     ]
    },
    {
     "name": "stderr",
     "output_type": "stream",
     "text": [
      "100%|██████████| 1/1 [00:04<00:00,  4.55s/it]\n"
     ]
    },
    {
     "name": "stdout",
     "output_type": "stream",
     "text": [
      "Archivo Word Generado No. 27: 5594733887\n"
     ]
    },
    {
     "name": "stderr",
     "output_type": "stream",
     "text": [
      "100%|██████████| 1/1 [00:04<00:00,  4.41s/it]\n"
     ]
    },
    {
     "name": "stdout",
     "output_type": "stream",
     "text": [
      "Archivo Word Generado No. 28: 5595733689\n"
     ]
    },
    {
     "name": "stderr",
     "output_type": "stream",
     "text": [
      "100%|██████████| 1/1 [00:04<00:00,  4.50s/it]\n"
     ]
    },
    {
     "name": "stdout",
     "output_type": "stream",
     "text": [
      "Archivo Word Generado No. 29: 5593733955\n"
     ]
    },
    {
     "name": "stderr",
     "output_type": "stream",
     "text": [
      "100%|██████████| 1/1 [00:05<00:00,  5.99s/it]\n"
     ]
    },
    {
     "name": "stdout",
     "output_type": "stream",
     "text": [
      "Archivo Word Generado No. 30: 5596733557\n"
     ]
    },
    {
     "name": "stderr",
     "output_type": "stream",
     "text": [
      "100%|██████████| 1/1 [00:02<00:00,  2.61s/it]\n"
     ]
    },
    {
     "name": "stdout",
     "output_type": "stream",
     "text": [
      "Archivo Word Generado No. 31: 5590704151\n"
     ]
    },
    {
     "ename": "com_error",
     "evalue": "(-2146959355, 'Error en la ejecución de servidor', None, None)",
     "output_type": "error",
     "traceback": [
      "\u001b[1;31m---------------------------------------------------------------------------\u001b[0m",
      "\u001b[1;31mcom_error\u001b[0m                                 Traceback (most recent call last)",
      "File \u001b[1;32m~\\AppData\\Roaming\\Python\\Python312\\site-packages\\win32com\\client\\dynamic.py:84\u001b[0m, in \u001b[0;36m_GetGoodDispatch\u001b[1;34m(IDispatch, clsctx)\u001b[0m\n\u001b[0;32m     83\u001b[0m \u001b[38;5;28;01mtry\u001b[39;00m:\n\u001b[1;32m---> 84\u001b[0m     IDispatch \u001b[38;5;241m=\u001b[39m \u001b[43mpythoncom\u001b[49m\u001b[38;5;241;43m.\u001b[39;49m\u001b[43mconnect\u001b[49m\u001b[43m(\u001b[49m\u001b[43mIDispatch\u001b[49m\u001b[43m)\u001b[49m\n\u001b[0;32m     85\u001b[0m \u001b[38;5;28;01mexcept\u001b[39;00m pythoncom\u001b[38;5;241m.\u001b[39mole_error:\n",
      "\u001b[1;31mcom_error\u001b[0m: (-2147221021, 'Operación no disponible', None, None)",
      "\nDuring handling of the above exception, another exception occurred:\n",
      "\u001b[1;31mcom_error\u001b[0m                                 Traceback (most recent call last)",
      "Cell \u001b[1;32mIn[10], line 222\u001b[0m\n\u001b[0;32m    220\u001b[0m \u001b[38;5;66;03m#Guardar archivo PDF\u001b[39;00m\n\u001b[0;32m    221\u001b[0m archivo_salida_pdf \u001b[38;5;241m=\u001b[39m os\u001b[38;5;241m.\u001b[39mpath\u001b[38;5;241m.\u001b[39mjoin(carpeta_output, \u001b[38;5;124mf\u001b[39m\u001b[38;5;124m\"\u001b[39m\u001b[38;5;132;01m{\u001b[39;00mnombre_archivo\u001b[38;5;132;01m}\u001b[39;00m\u001b[38;5;124m_\u001b[39m\u001b[38;5;132;01m{\u001b[39;00mFolio\u001b[38;5;132;01m}\u001b[39;00m\u001b[38;5;124m.pdf\u001b[39m\u001b[38;5;124m\"\u001b[39m)\n\u001b[1;32m--> 222\u001b[0m \u001b[43mconvert\u001b[49m\u001b[43m(\u001b[49m\u001b[43marchivo_salida\u001b[49m\u001b[43m,\u001b[49m\u001b[43marchivo_salida_pdf\u001b[49m\u001b[43m)\u001b[49m\n\u001b[0;32m    225\u001b[0m \u001b[38;5;28mprint\u001b[39m(\u001b[38;5;124mf\u001b[39m\u001b[38;5;124m\"\u001b[39m\u001b[38;5;124mArchivo Word Generado No. \u001b[39m\u001b[38;5;132;01m{\u001b[39;00mindice\u001b[38;5;250m \u001b[39m\u001b[38;5;241m+\u001b[39m\u001b[38;5;250m \u001b[39m\u001b[38;5;241m1\u001b[39m\u001b[38;5;132;01m}\u001b[39;00m\u001b[38;5;124m: \u001b[39m\u001b[38;5;132;01m{\u001b[39;00mFolio\u001b[38;5;132;01m}\u001b[39;00m\u001b[38;5;124m\"\u001b[39m)\n",
      "File \u001b[1;32mc:\\Users\\u1165269\\AppData\\Local\\Programs\\Python\\Python312\\Lib\\site-packages\\docx2pdf\\__init__.py:106\u001b[0m, in \u001b[0;36mconvert\u001b[1;34m(input_path, output_path, keep_active)\u001b[0m\n\u001b[0;32m    104\u001b[0m     \u001b[38;5;28;01mreturn\u001b[39;00m macos(paths, keep_active)\n\u001b[0;32m    105\u001b[0m \u001b[38;5;28;01melif\u001b[39;00m sys\u001b[38;5;241m.\u001b[39mplatform \u001b[38;5;241m==\u001b[39m \u001b[38;5;124m\"\u001b[39m\u001b[38;5;124mwin32\u001b[39m\u001b[38;5;124m\"\u001b[39m:\n\u001b[1;32m--> 106\u001b[0m     \u001b[38;5;28;01mreturn\u001b[39;00m \u001b[43mwindows\u001b[49m\u001b[43m(\u001b[49m\u001b[43mpaths\u001b[49m\u001b[43m,\u001b[49m\u001b[43m \u001b[49m\u001b[43mkeep_active\u001b[49m\u001b[43m)\u001b[49m\n\u001b[0;32m    107\u001b[0m \u001b[38;5;28;01melse\u001b[39;00m:\n\u001b[0;32m    108\u001b[0m     \u001b[38;5;28;01mraise\u001b[39;00m \u001b[38;5;167;01mNotImplementedError\u001b[39;00m(\n\u001b[0;32m    109\u001b[0m         \u001b[38;5;124m\"\u001b[39m\u001b[38;5;124mdocx2pdf is not implemented for linux as it requires Microsoft Word to be installed\u001b[39m\u001b[38;5;124m\"\u001b[39m\n\u001b[0;32m    110\u001b[0m     )\n",
      "File \u001b[1;32mc:\\Users\\u1165269\\AppData\\Local\\Programs\\Python\\Python312\\Lib\\site-packages\\docx2pdf\\__init__.py:19\u001b[0m, in \u001b[0;36mwindows\u001b[1;34m(paths, keep_active)\u001b[0m\n\u001b[0;32m     16\u001b[0m \u001b[38;5;28;01mdef\u001b[39;00m \u001b[38;5;21mwindows\u001b[39m(paths, keep_active):\n\u001b[0;32m     17\u001b[0m     \u001b[38;5;28;01mimport\u001b[39;00m \u001b[38;5;21;01mwin32com\u001b[39;00m\u001b[38;5;21;01m.\u001b[39;00m\u001b[38;5;21;01mclient\u001b[39;00m\n\u001b[1;32m---> 19\u001b[0m     word \u001b[38;5;241m=\u001b[39m \u001b[43mwin32com\u001b[49m\u001b[38;5;241;43m.\u001b[39;49m\u001b[43mclient\u001b[49m\u001b[38;5;241;43m.\u001b[39;49m\u001b[43mDispatch\u001b[49m\u001b[43m(\u001b[49m\u001b[38;5;124;43m\"\u001b[39;49m\u001b[38;5;124;43mWord.Application\u001b[39;49m\u001b[38;5;124;43m\"\u001b[39;49m\u001b[43m)\u001b[49m\n\u001b[0;32m     20\u001b[0m     wdFormatPDF \u001b[38;5;241m=\u001b[39m \u001b[38;5;241m17\u001b[39m\n\u001b[0;32m     22\u001b[0m     \u001b[38;5;28;01mif\u001b[39;00m paths[\u001b[38;5;124m\"\u001b[39m\u001b[38;5;124mbatch\u001b[39m\u001b[38;5;124m\"\u001b[39m]:\n",
      "File \u001b[1;32m~\\AppData\\Roaming\\Python\\Python312\\site-packages\\win32com\\client\\__init__.py:118\u001b[0m, in \u001b[0;36mDispatch\u001b[1;34m(dispatch, userName, resultCLSID, typeinfo, UnicodeToString, clsctx)\u001b[0m\n\u001b[0;32m    116\u001b[0m \u001b[38;5;250m\u001b[39m\u001b[38;5;124;03m\"\"\"Creates a Dispatch based COM object.\"\"\"\u001b[39;00m\n\u001b[0;32m    117\u001b[0m \u001b[38;5;28;01massert\u001b[39;00m UnicodeToString \u001b[38;5;129;01mis\u001b[39;00m \u001b[38;5;28;01mNone\u001b[39;00m, \u001b[38;5;124m\"\u001b[39m\u001b[38;5;124mthis is deprecated and will go away\u001b[39m\u001b[38;5;124m\"\u001b[39m\n\u001b[1;32m--> 118\u001b[0m dispatch, userName \u001b[38;5;241m=\u001b[39m \u001b[43mdynamic\u001b[49m\u001b[38;5;241;43m.\u001b[39;49m\u001b[43m_GetGoodDispatchAndUserName\u001b[49m\u001b[43m(\u001b[49m\u001b[43mdispatch\u001b[49m\u001b[43m,\u001b[49m\u001b[43m \u001b[49m\u001b[43muserName\u001b[49m\u001b[43m,\u001b[49m\u001b[43m \u001b[49m\u001b[43mclsctx\u001b[49m\u001b[43m)\u001b[49m\n\u001b[0;32m    119\u001b[0m \u001b[38;5;28;01mreturn\u001b[39;00m __WrapDispatch(dispatch, userName, resultCLSID, typeinfo, clsctx\u001b[38;5;241m=\u001b[39mclsctx)\n",
      "File \u001b[1;32m~\\AppData\\Roaming\\Python\\Python312\\site-packages\\win32com\\client\\dynamic.py:104\u001b[0m, in \u001b[0;36m_GetGoodDispatchAndUserName\u001b[1;34m(IDispatch, userName, clsctx)\u001b[0m\n\u001b[0;32m    101\u001b[0m     \u001b[38;5;66;03m## ??? else userName remains None ???\u001b[39;00m\n\u001b[0;32m    102\u001b[0m \u001b[38;5;28;01melse\u001b[39;00m:\n\u001b[0;32m    103\u001b[0m     userName \u001b[38;5;241m=\u001b[39m \u001b[38;5;28mstr\u001b[39m(userName)\n\u001b[1;32m--> 104\u001b[0m \u001b[38;5;28;01mreturn\u001b[39;00m (\u001b[43m_GetGoodDispatch\u001b[49m\u001b[43m(\u001b[49m\u001b[43mIDispatch\u001b[49m\u001b[43m,\u001b[49m\u001b[43m \u001b[49m\u001b[43mclsctx\u001b[49m\u001b[43m)\u001b[49m, userName)\n",
      "File \u001b[1;32m~\\AppData\\Roaming\\Python\\Python312\\site-packages\\win32com\\client\\dynamic.py:86\u001b[0m, in \u001b[0;36m_GetGoodDispatch\u001b[1;34m(IDispatch, clsctx)\u001b[0m\n\u001b[0;32m     84\u001b[0m         IDispatch \u001b[38;5;241m=\u001b[39m pythoncom\u001b[38;5;241m.\u001b[39mconnect(IDispatch)\n\u001b[0;32m     85\u001b[0m     \u001b[38;5;28;01mexcept\u001b[39;00m pythoncom\u001b[38;5;241m.\u001b[39mole_error:\n\u001b[1;32m---> 86\u001b[0m         IDispatch \u001b[38;5;241m=\u001b[39m \u001b[43mpythoncom\u001b[49m\u001b[38;5;241;43m.\u001b[39;49m\u001b[43mCoCreateInstance\u001b[49m\u001b[43m(\u001b[49m\n\u001b[0;32m     87\u001b[0m \u001b[43m            \u001b[49m\u001b[43mIDispatch\u001b[49m\u001b[43m,\u001b[49m\u001b[43m \u001b[49m\u001b[38;5;28;43;01mNone\u001b[39;49;00m\u001b[43m,\u001b[49m\u001b[43m \u001b[49m\u001b[43mclsctx\u001b[49m\u001b[43m,\u001b[49m\u001b[43m \u001b[49m\u001b[43mpythoncom\u001b[49m\u001b[38;5;241;43m.\u001b[39;49m\u001b[43mIID_IDispatch\u001b[49m\n\u001b[0;32m     88\u001b[0m \u001b[43m        \u001b[49m\u001b[43m)\u001b[49m\n\u001b[0;32m     89\u001b[0m \u001b[38;5;28;01melse\u001b[39;00m:\n\u001b[0;32m     90\u001b[0m     \u001b[38;5;66;03m# may already be a wrapped class.\u001b[39;00m\n\u001b[0;32m     91\u001b[0m     IDispatch \u001b[38;5;241m=\u001b[39m \u001b[38;5;28mgetattr\u001b[39m(IDispatch, \u001b[38;5;124m\"\u001b[39m\u001b[38;5;124m_oleobj_\u001b[39m\u001b[38;5;124m\"\u001b[39m, IDispatch)\n",
      "\u001b[1;31mcom_error\u001b[0m: (-2146959355, 'Error en la ejecución de servidor', None, None)"
     ]
    }
   ],
   "source": [
    "\n",
    "# Imprimir cada fila con el número de póliza\n",
    "for indice, fila in datos_excel.iterrows():\n",
    "    # Obtener la información de las celdas\n",
    "    documento_base = Document(archivo_word)\n",
    "    \n",
    "\n",
    "    #Identificación\n",
    "    Folio = fila[\"Póliza\"]\n",
    "    \n",
    "    Ini_Vig = pd.Timestamp(fila[\"Inicio de Vigencia\"]).date()\n",
    "    Fin_Vig = pd.Timestamp(fila[\"Fin de Vigencia\"]).date()\n",
    "\n",
    "\n",
    "    #Datos Asegurado\n",
    "    Nombre = fila[\"NOMBRE\"]\n",
    "    Calle = fila[\"SAL_CALLE\"]\n",
    "    CodPost = fila[\"CP\"]\n",
    "    Colonia = fila[\"SAL_COLONIA\"]\n",
    "    Pais = fila[\"SAL_ESTADO\"]\n",
    "    rfc = fila[\"RFC\"]\n",
    "    telefono = fila[\"TELEFONO\"]\n",
    "\n",
    "    #Plan de Pago\n",
    "    Distribuidor = fila[\"AGENCIA\"]\n",
    "    Fch_Lim = pd.Timestamp(fila[\"Vigencia Fin\"]).date()\n",
    "\n",
    "\n",
    "    #Datos Emisión\n",
    "    Moneda = fila[\"Paquete\"]\n",
    "    Fch_Emi = pd.Timestamp(fila[\"Fin de Vigencia\"]).date()\n",
    "\n",
    "    #Pago = fila[\"Fin de Vigencia\"]\n",
    "\n",
    "    #Vehiculo Asegurado\n",
    "    Descripcion = fila[\"Descripcion\"]\n",
    "    Serie = fila[\"NIV\"]\n",
    "    Carga = fila[\"Submarca\"]\n",
    "    repuve = fila[\"Submarca\"]\n",
    "    Motor = fila[\"NIV\"]\n",
    "    Placas = fila[\"Programa\"]\n",
    "    Modelo = fila[\"Modelo\"]\n",
    "    Uso = fila[\"Regla\"]\n",
    "    Tipo = fila[\"Regla\"]\n",
    "\n",
    "    #Coberturas\n",
    "    Cob_01 = fila[\"Dmateriales\"]\n",
    "    Cob_02 = fila[\"Rtotal\"]\n",
    "    Cob_03 = fila[\"RC LUC\"]\n",
    "    Cob_04 = fila[\"RCMT\"]\n",
    "    Cob_05 = fila[\"GMO\"]\n",
    "    Cob_06 = fila[\"MAC\"]\n",
    "    Cob_07 = fila[\"PJ\"]\n",
    "    Cob_08 = fila[\"AV\"]\n",
    "    Cob_09 = fila[\"RC_OBG\"]\n",
    "    Cob_10 = fila[\"RC_EXT\"]\n",
    "    Cob_11 = fila[\"RC_OCP\"]\n",
    "    Cob_12 = fila[\"RC_VJ\"]\n",
    "    Cob_13 = fila[\"Rparcial\"]\n",
    "    Cob_14 = fila[\"Dmenores\"]\n",
    "    Cob_15 = fila[\"ASP\"]\n",
    "    Cob_16 = fila[\"Adap y Conversiones\"]\n",
    "    Cob_17 = fila[\"Equipo Especial\"]\n",
    "    Cob_18 = fila[\"RC DxC\"]\n",
    "    Cob_19 = fila[\"Rc Ecologica\"]\n",
    "\n",
    "\n",
    "    # Crear una copia del documento base para cada fila\n",
    "    documento = documento_base\n",
    "\n",
    "    # Reemplazar las variables en el archivo de Word\n",
    "    for paragraph in documento.paragraphs:\n",
    "        #Identificación\n",
    "        if \"<<Folio>>\" in paragraph.text:\n",
    "            paragraph.text = paragraph.text.replace(\"<<Folio>>\", str(Folio))\n",
    "        if \"<<Inicio de Vigencia>>\" in paragraph.text:\n",
    "            paragraph.text = paragraph.text.replace(\"<<Inicio de Vigencia>>\", str(Ini_Vig))\n",
    "        if \"<<Fin de Vigencia>>\" in paragraph.text:\n",
    "            paragraph.text = paragraph.text.replace(\"<<Fin de Vigencia>>\", str(Fin_Vig))\n",
    "        \n",
    "        #Datos Asegurado\n",
    "        if \"<<Nombre Titular>>\" in paragraph.text:\n",
    "            paragraph.text = paragraph.text.replace(\"<<Nombre Titular>>\", str(Nombre))\n",
    "\n",
    "        if \"<<Calle>>\" in paragraph.text:\n",
    "            paragraph.text = paragraph.text.replace(\"<<Calle>>\", str(Calle))\n",
    "\n",
    "        if \"<<CP>>\" in paragraph.text:\n",
    "            paragraph.text = paragraph.text.replace(\"<<CP>>\", str(CodPost))\n",
    "    \n",
    "        if \"<<Colonia, Municipio>>\" in paragraph.text:\n",
    "            paragraph.text = paragraph.text.replace(\"<<Colonia, Municipio>>\", str(Colonia))\n",
    "\n",
    "        if \"<<País, Estado>>\" in paragraph.text:\n",
    "            paragraph.text = paragraph.text.replace(\"<<País, Estado>>\", str(Pais))\n",
    "\n",
    "        if \"<<RFC>>\" in paragraph.text:\n",
    "            paragraph.text = paragraph.text.replace(\"<<RFC>>\", str(rfc))\n",
    "\n",
    "        if \"<<Teléfono>>\" in paragraph.text:\n",
    "            paragraph.text = paragraph.text.replace(\"<<Teléfono>>\", str(telefono))\n",
    "\n",
    "        #Plan de Pago\n",
    "\n",
    "        if \"<<Distribuidor>>\" in paragraph.text:\n",
    "            paragraph.text = paragraph.text.replace(\"<<Distribuidor>>\", str(Distribuidor))\n",
    "\n",
    "        if \"<<Fecha Límite>>\" in paragraph.text:\n",
    "            paragraph.text = paragraph.text.replace(\"<<Fecha Límite>>\", str(Fch_Lim))\n",
    "\n",
    "        #Datos Emisión\n",
    "\n",
    "        if \"<<Moneda>>\" in paragraph.text:\n",
    "            paragraph.text = paragraph.text.replace(\"<<Moneda>>\", str(Moneda))\n",
    "\n",
    "        if \"<<Fecha Emisión>>\" in paragraph.text:\n",
    "            paragraph.text = paragraph.text.replace(\"<<Fecha Emisión>>\", str(Fch_Emi))\n",
    "\n",
    "        if \"<<Pago>>\" in paragraph.text:\n",
    "            paragraph.text = paragraph.text.replace(\"<<Pago>>\", str(Moneda))\n",
    "\n",
    "        #Vehiculo Asegurado\n",
    "\n",
    "        if \"<<Descripción>>\" in paragraph.text:\n",
    "            paragraph.text = paragraph.text.replace(\"<<Descripción>>\", str(Descripcion))\n",
    "\n",
    "        if \"<<Serie>>\" in paragraph.text:\n",
    "            paragraph.text = paragraph.text.replace(\"<<Serie>>\", str(Serie))\n",
    "\n",
    "        if \"<<Cobertura_01 de Carga>>\" in paragraph.text:\n",
    "            paragraph.text = paragraph.text.replace(\"<<Cobertura_01 de Carga>>\", str(Carga))\n",
    "\n",
    "        if \"<<REPUVE>>\" in paragraph.text:\n",
    "            paragraph.text = paragraph.text.replace(\"<<REPUVE>>\", str(repuve))\n",
    "\n",
    "        if \"<<Motor>>\" in paragraph.text:\n",
    "            paragraph.text = paragraph.text.replace(\"<<Motor>>\", str(Motor))\n",
    "\n",
    "        if \"<<Placas>>\" in paragraph.text:\n",
    "            paragraph.text = paragraph.text.replace(\"<<Placas>>\", str(Placas))\n",
    "\n",
    "        if \"<<Modelo>>\" in paragraph.text:\n",
    "            paragraph.text = paragraph.text.replace(\"<<Modelo>>\", str(Modelo))\n",
    "\n",
    "        if \"<<Uso>>\" in paragraph.text:\n",
    "            paragraph.text = paragraph.text.replace(\"<<Uso>>\", str(Uso))\n",
    "\n",
    "        if \"<<Tipo>>\" in paragraph.text:\n",
    "            paragraph.text = paragraph.text.replace(\"<<Tipo>>\", str(Tipo))\n",
    "\n",
    "\n",
    "    for table in documento.tables:\n",
    "        for row in table.rows:\n",
    "            for cell in row.cells:\n",
    "                for paragraph in cell.paragraphs:\n",
    "                    #Coberturas\n",
    "                    if \"<<Cobertura_01>>\" in paragraph.text:\n",
    "                        paragraph.text = paragraph.text.replace(\"<<Cobertura_01>>\", str(Cob_01))\n",
    "                \n",
    "                    if \"<<Cobertura_02>>\" in paragraph.text:\n",
    "                        paragraph.text = paragraph.text.replace(\"<<Cobertura_02>>\", str(Cob_02))\n",
    "\n",
    "                    if \"<<Cobertura_03>>\" in paragraph.text:\n",
    "                        paragraph.text = paragraph.text.replace(\"<<Cobertura_03>>\", str(Cob_03))\n",
    "\n",
    "                    if \"<<Cobertura_04>>\" in paragraph.text:\n",
    "                        paragraph.text = paragraph.text.replace(\"<<Cobertura_04>>\", str(Cob_04))\n",
    "\n",
    "                    if \"<<Cobertura_05>>\" in paragraph.text:\n",
    "                        paragraph.text = paragraph.text.replace(\"<<Cobertura_05>>\", str(Cob_05))\n",
    "\n",
    "                    if \"<<Cobertura_06>>\" in paragraph.text:\n",
    "                        paragraph.text = paragraph.text.replace(\"<<Cobertura_06>>\", str(Cob_06))\n",
    "\n",
    "                    if \"<<Cobertura_07>>\" in paragraph.text:\n",
    "                        paragraph.text = paragraph.text.replace(\"<<Cobertura_07>>\", str(Cob_07))\n",
    "\n",
    "                    if \"<<Cobertura_08>>\" in paragraph.text:\n",
    "                        paragraph.text = paragraph.text.replace(\"<<Cobertura_08>>\", str(Cob_08))\n",
    "\n",
    "                    if \"<<Cobertura_09>>\" in paragraph.text:\n",
    "                        paragraph.text = paragraph.text.replace(\"<<Cobertura_09>>\", str(Cob_09))\n",
    "\n",
    "                    if \"<<Cobertura_10>>\" in paragraph.text:\n",
    "                        paragraph.text = paragraph.text.replace(\"<<Cobertura_10>>\", str(Cob_10))\n",
    "\n",
    "                    if \"<<Cobertura_11>>\" in paragraph.text:\n",
    "                        paragraph.text = paragraph.text.replace(\"<<Cobertura_11>>\", str(Cob_11))\n",
    "\n",
    "                    if \"<<Cobertura_12>>\" in paragraph.text:\n",
    "                        paragraph.text = paragraph.text.replace(\"<<Cobertura_12>>\", str(Cob_12))\n",
    "\n",
    "                    if \"<<Cobertura_13>>\" in paragraph.text:\n",
    "                        paragraph.text = paragraph.text.replace(\"<<Cobertura_13>>\", str(Cob_13))\n",
    "\n",
    "                    if \"<<Cobertura_14>>\" in paragraph.text:\n",
    "                        paragraph.text = paragraph.text.replace(\"<<Cobertura_14>>\", str(Cob_14))\n",
    "\n",
    "                    if \"<<Cobertura_15>>\" in paragraph.text:\n",
    "                        paragraph.text = paragraph.text.replace(\"<<Cobertura_15>>\", str(Cob_15))\n",
    "\n",
    "                    if \"<<Cobertura_16>>\" in paragraph.text:\n",
    "                        paragraph.text = paragraph.text.replace(\"<<Cobertura_16>>\", str(Cob_16))\n",
    "\n",
    "                    if \"<<Cobertura_17>>\" in paragraph.text:\n",
    "                        paragraph.text = paragraph.text.replace(\"<<Cobertura_17>>\", str(Cob_17))\n",
    "\n",
    "                    if \"<<Cobertura_18>>\" in paragraph.text:\n",
    "                        paragraph.text = paragraph.text.replace(\"<<Cobertura_18>>\", str(Cob_18))\n",
    "\n",
    "                    if \"<<Cobertura_19>>\" in paragraph.text:\n",
    "                        paragraph.text = paragraph.text.replace(\"<<Cobertura_19>>\", str(Cob_19))\n",
    "\n",
    "\n",
    "    # Guardar el archivo de Word en la carpeta de salida\n",
    "    nombre_archivo = os.path.splitext(os.path.basename(archivo_word))[0]\n",
    "    archivo_salida = os.path.join(carpeta_output, f\"{nombre_archivo}_{Folio}.docx\")\n",
    "    documento.save(archivo_salida)\n",
    "\n",
    "\n",
    "    #Guardar archivo PDF\n",
    "    archivo_salida_pdf = os.path.join(carpeta_output, f\"{nombre_archivo}_{Folio}.pdf\")\n",
    "    convert(archivo_salida,archivo_salida_pdf)\n",
    "\n",
    "    \n",
    "    print(f\"Archivo Word Generado No. {indice + 1}: {Folio}\")"
   ]
  }
 ],
 "metadata": {
  "kernelspec": {
   "display_name": "Python 3",
   "language": "python",
   "name": "python3"
  },
  "language_info": {
   "codemirror_mode": {
    "name": "ipython",
    "version": 3
   },
   "file_extension": ".py",
   "mimetype": "text/x-python",
   "name": "python",
   "nbconvert_exporter": "python",
   "pygments_lexer": "ipython3",
   "version": "3.12.0"
  }
 },
 "nbformat": 4,
 "nbformat_minor": 2
}
