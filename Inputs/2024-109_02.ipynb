{
 "cells": [
  {
   "cell_type": "code",
   "execution_count": 6,
   "metadata": {},
   "outputs": [],
   "source": [
    "#Importar librerías \n",
    "\n",
    "import pandas as pd\n",
    "import os\n",
    "from pathlib import Path\n",
    "import openpyxl\n",
    "\n",
    "\n",
    "PathC = \"C:/OTMX\"\n",
    "NameItem = \"2024-109\""
   ]
  },
  {
   "cell_type": "code",
   "execution_count": 7,
   "metadata": {},
   "outputs": [],
   "source": [
    "xlsx_dir = Path(PathC) / \"Outputs\" / NameItem\n",
    "\n",
    "# Define & create output directory\n",
    "output_dir = Path(PathC) / \"Outputs\" / NameItem / 'Files'\n",
    "output_dir.mkdir(parents=True, exist_ok=True)\n"
   ]
  },
  {
   "cell_type": "code",
   "execution_count": 8,
   "metadata": {},
   "outputs": [
    {
     "data": {
      "text/plain": [
       "Index(['Contratante', 'POLIZA GMM', 'POLIZA LENTES', 'SITIO', 'No Empleado',\n",
       "       'No Certificado', 'Apellido Paterno', 'Apellido Materno', 'Nombre(s)',\n",
       "       'Fecha de Nacimiento', 'Género', 'Parentesco', 'Fecha Movimiento',\n",
       "       'Tipo Movimiento', 'Observaciones'],\n",
       "      dtype='object')"
      ]
     },
     "execution_count": 8,
     "metadata": {},
     "output_type": "execute_result"
    }
   ],
   "source": [
    "File = \"Base_Forvia.xlsx\"\n",
    "\n",
    "PathFile = xlsx_dir / File\n",
    "df = pd.read_excel(PathFile)\n",
    "df.columns\n"
   ]
  },
  {
   "cell_type": "code",
   "execution_count": 9,
   "metadata": {},
   "outputs": [],
   "source": [
    "# Eliminar los espacios en blanco de la columna\n",
    "df['SITIO'] = df['SITIO'].str.replace(' ', '')\n",
    "\n",
    "# Obtener los valores únicos de la columna\n",
    "valores_unicos = df['SITIO'].unique()\n"
   ]
  },
  {
   "cell_type": "code",
   "execution_count": 10,
   "metadata": {},
   "outputs": [
    {
     "name": "stdout",
     "output_type": "stream",
     "text": [
      "Archivo separado y generado...FCESJR00.xlsx\n",
      "Archivo separado y generado...FCEENG02.xlsx\n",
      "Archivo separado y generado...FASFRAME01.xlsx\n",
      "Archivo separado y generado...FISRAMOS010.xlsx\n",
      "Archivo separado y generado...FISRD011.xlsx\n",
      "Archivo separado y generado...FISSLP012.xlsx\n",
      "Archivo separado y generado...FCMSILAO014.xlsx\n",
      "Archivo separado y generado...FCMQRO015.xlsx\n",
      "Archivo separado y generado...FCMR&D016.xlsx\n",
      "Archivo separado y generado...FCMRBU017.xlsx\n",
      "Archivo separado y generado...FCMSJI018.xlsx\n",
      "Archivo separado y generado...FASJIT02.xlsx\n",
      "Archivo separado y generado...FISSATELITE020.xlsx\n",
      "Archivo separado y generado...FISMTY021.xlsx\n",
      "Archivo separado y generado...FASMTY022.xlsx\n",
      "Archivo separado y generado...FISENG023.xlsx\n",
      "Archivo separado y generado...FASMECH03.xlsx\n",
      "Archivo separado y generado...FASRBU04.xlsx\n",
      "Archivo separado y generado...FISACCESSORIES06.xlsx\n",
      "Archivo separado y generado...FISINJECTION07.xlsx\n",
      "Archivo separado y generado...FISMGMT08.xlsx\n",
      "Archivo separado y generado...FISPUEBLATECH09.xlsx\n",
      "Archivo separado y generado...HHQ00.xlsx\n",
      "Archivo separado y generado...nan.xlsx\n",
      "Archivos separados y generados exitosamente.\n"
     ]
    }
   ],
   "source": [
    "# Crear un archivo separado para cada valor único de \"DISTRIBUIDOR\"\n",
    "for valor in valores_unicos:\n",
    "\n",
    "    # Filtrar el DataFrame original por el valor único de \"DISTRIBUIDOR\"\n",
    "    df_filtrado = df[df['SITIO'] == valor]\n",
    "\n",
    "    # Guardar el DataFrame filtrado con la columna \"MONTO\" agregada en un nuevo archivo\n",
    "    nombre_archivo = f'{valor}.xlsx'  # Puedes cambiar el formato del nombre del archivo si lo deseas\n",
    "\n",
    "    df_filtrado.to_excel(output_dir / nombre_archivo, index=False)\n",
    "    #Edición del archivo de excel\n",
    "    wb = openpyxl.load_workbook(output_dir / nombre_archivo)\n",
    "    sheet = wb.active\n",
    "    ancho = 20\n",
    "    # Recorre todas las columnas y establece el ancho deseado\n",
    "    for columna in sheet.columns:\n",
    "        sheet.column_dimensions[columna[0].column_letter].width = ancho\n",
    "        #sheet.column_dimensions[columna[0].column_letter].fill = fill\n",
    "\n",
    "    \n",
    "    wb.save(output_dir / nombre_archivo)\n",
    "    print('Archivo separado y generado...'   f'{valor}.xlsx')\n",
    "\n",
    "\n",
    "    \n",
    "\n",
    "print(\"Archivos separados y generados exitosamente.\")"
   ]
  }
 ],
 "metadata": {
  "kernelspec": {
   "display_name": "Python 3",
   "language": "python",
   "name": "python3"
  },
  "language_info": {
   "codemirror_mode": {
    "name": "ipython",
    "version": 3
   },
   "file_extension": ".py",
   "mimetype": "text/x-python",
   "name": "python",
   "nbconvert_exporter": "python",
   "pygments_lexer": "ipython3",
   "version": "3.12.0"
  }
 },
 "nbformat": 4,
 "nbformat_minor": 2
}
