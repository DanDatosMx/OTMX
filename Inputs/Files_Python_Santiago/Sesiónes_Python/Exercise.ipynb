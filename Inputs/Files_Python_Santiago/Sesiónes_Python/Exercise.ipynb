{
 "cells": [
  {
   "cell_type": "markdown",
   "metadata": {},
   "source": [
    "Ejercicios\n"
   ]
  },
  {
   "cell_type": "code",
   "execution_count": 12,
   "metadata": {},
   "outputs": [],
   "source": [
    "#Importar librearias\n",
    "import pandas as pd\n",
    "import os"
   ]
  },
  {
   "cell_type": "code",
   "execution_count": 13,
   "metadata": {},
   "outputs": [
    {
     "name": "stderr",
     "output_type": "stream",
     "text": [
      "<>:3: SyntaxWarning: invalid escape sequence '\\O'\n",
      "<>:3: SyntaxWarning: invalid escape sequence '\\O'\n",
      "C:\\Users\\u1165269\\AppData\\Local\\Temp\\ipykernel_49780\\4068572.py:3: SyntaxWarning: invalid escape sequence '\\O'\n",
      "  df = pd.read_excel('C:\\OTMX\\Inputs\\DATAMARSH-MARZO-EJEMPLO.xlsx')\n"
     ]
    },
    {
     "data": {
      "text/plain": [
       "Index(['AÑO HASTA', 'MES DESDE', 'MES FACTURA', 'NOMBRE AGENCIA',\n",
       "       'NOMBRE CORTO', 'ESTADO', 'CODIGO GRUPO', 'GRUPO SECUNDARIO',\n",
       "       'SEGMENTO GRUPO', 'RAMO', 'SUB RAMO', 'JURIDICO',\n",
       "       'DESCRIPCION FORMA PAGO', 'FRECUENCIA PAGO', 'PORC. COM. COMPARTIDA',\n",
       "       'COMISION COMPARTIDA', 'TIPO', 'DESCRIPCIÒN CONDUCTO',\n",
       "       'DESCRIPCIÃ¿N MOTIVO', 'UNIDAD', 'NOMBRE DEL PRODUCTO',\n",
       "       'NOMBRE DEL PLAN', 'NOMBRE ZONA', 'TIPO MOV.POLIZA', 'TIPO MOVIMIENTO',\n",
       "       'NUMERO_DE_POLIZA', 'POLIZA', 'SEGMENTO POLIZA', 'FECHA_FACTURA',\n",
       "       'DESDE', 'HASTA', 'FECHA EMISION', 'ENDOSO', 'PRIMA', 'MONTO',\n",
       "       'TOTAL_COMISION', 'COMISION_VIDA', 'COMISION', 'SUMA ASEGURADA',\n",
       "       'PRODUCTO', 'TIPO CANAL', 'CANAL', 'SUBSEGEMENTO', 'PEP',\n",
       "       'SENIOR RELATIONSHIP', 'GERENTE PLACEMENT',\n",
       "       'EJECUTIVO MEMBER MANAGEMENT', 'COLOCADO POR', 'SPECIALTY',\n",
       "       'SUB CATEGORY', 'FECHA SOLICITADO ASEG. ENDOSO',\n",
       "       'FECHA RECIBIDO ASEG. ENDOSO', 'CALIDAD DE LA EMISIÒN ENDOSO',\n",
       "       'TIPO REPROCESO', 'RESPONSABLE REPROCESO',\n",
       "       'FECHA INSTRUCCIÓN NEGOCIO A PLACEMENT BROKER',\n",
       "       'FECHA ASEGURADORA PIDE DOCUMENTOS', 'FECHA SOLICITUD A ASEGURADORA',\n",
       "       'FECHA DE RECIBIDO', 'ULTIMA FECHA DE SOLICIITUD A LA ASEGURADORA',\n",
       "       'CANTIDAD DEVOLUCIONES', 'Company Number', 'Gerente cuenta MMB',\n",
       "       'DECLARATIVA', 'GBM', 'FRONTING'],\n",
       "      dtype='object')"
      ]
     },
     "execution_count": 13,
     "metadata": {},
     "output_type": "execute_result"
    }
   ],
   "source": [
    "#Subir datos del excel\n",
    "\n",
    "df = pd.read_excel('C:\\OTMX\\Inputs\\DATAMARSH-MARZO-EJEMPLO.xlsx')\n",
    "\n",
    "df.columns"
   ]
  },
  {
   "cell_type": "code",
   "execution_count": 14,
   "metadata": {},
   "outputs": [],
   "source": [
    "#Hacer subconjunto\n",
    "\n",
    "df = df[['MES DESDE','NOMBRE CORTO','TIPO MOVIMIENTO','NUMERO_DE_POLIZA','MONTO']]"
   ]
  },
  {
   "cell_type": "code",
   "execution_count": 16,
   "metadata": {},
   "outputs": [
    {
     "data": {
      "text/html": [
       "<div>\n",
       "<style scoped>\n",
       "    .dataframe tbody tr th:only-of-type {\n",
       "        vertical-align: middle;\n",
       "    }\n",
       "\n",
       "    .dataframe tbody tr th {\n",
       "        vertical-align: top;\n",
       "    }\n",
       "\n",
       "    .dataframe thead th {\n",
       "        text-align: right;\n",
       "    }\n",
       "</style>\n",
       "<table border=\"1\" class=\"dataframe\">\n",
       "  <thead>\n",
       "    <tr style=\"text-align: right;\">\n",
       "      <th></th>\n",
       "      <th>MES DESDE</th>\n",
       "      <th>MONTO</th>\n",
       "    </tr>\n",
       "  </thead>\n",
       "  <tbody>\n",
       "    <tr>\n",
       "      <th>count</th>\n",
       "      <td>152.000000</td>\n",
       "      <td>152.000000</td>\n",
       "    </tr>\n",
       "    <tr>\n",
       "      <th>mean</th>\n",
       "      <td>4.460526</td>\n",
       "      <td>3405.835000</td>\n",
       "    </tr>\n",
       "    <tr>\n",
       "      <th>std</th>\n",
       "      <td>3.818535</td>\n",
       "      <td>73412.519154</td>\n",
       "    </tr>\n",
       "    <tr>\n",
       "      <th>min</th>\n",
       "      <td>1.000000</td>\n",
       "      <td>-603082.200000</td>\n",
       "    </tr>\n",
       "    <tr>\n",
       "      <th>25%</th>\n",
       "      <td>2.000000</td>\n",
       "      <td>0.000000</td>\n",
       "    </tr>\n",
       "    <tr>\n",
       "      <th>50%</th>\n",
       "      <td>3.000000</td>\n",
       "      <td>276.035000</td>\n",
       "    </tr>\n",
       "    <tr>\n",
       "      <th>75%</th>\n",
       "      <td>6.250000</td>\n",
       "      <td>773.455000</td>\n",
       "    </tr>\n",
       "    <tr>\n",
       "      <th>max</th>\n",
       "      <td>12.000000</td>\n",
       "      <td>603082.200000</td>\n",
       "    </tr>\n",
       "  </tbody>\n",
       "</table>\n",
       "</div>"
      ],
      "text/plain": [
       "        MES DESDE          MONTO\n",
       "count  152.000000     152.000000\n",
       "mean     4.460526    3405.835000\n",
       "std      3.818535   73412.519154\n",
       "min      1.000000 -603082.200000\n",
       "25%      2.000000       0.000000\n",
       "50%      3.000000     276.035000\n",
       "75%      6.250000     773.455000\n",
       "max     12.000000  603082.200000"
      ]
     },
     "execution_count": 16,
     "metadata": {},
     "output_type": "execute_result"
    }
   ],
   "source": [
    "#Hacer estadíticos\n",
    "df.describe()\n"
   ]
  },
  {
   "cell_type": "code",
   "execution_count": 17,
   "metadata": {},
   "outputs": [],
   "source": [
    "#Nueva columna\n",
    "\n",
    "df['NUEVA_COL'] = 'EJERCICIO'"
   ]
  },
  {
   "cell_type": "code",
   "execution_count": 18,
   "metadata": {},
   "outputs": [],
   "source": [
    "#Reemplazar comilla\n",
    "\n",
    "df['NUMERO_DE_POLIZA'] = df['NUMERO_DE_POLIZA'].str.replace(\"'\",\"\")"
   ]
  },
  {
   "cell_type": "code",
   "execution_count": 19,
   "metadata": {},
   "outputs": [],
   "source": [
    "#Reenombrar columna\n",
    "\n",
    "df = df.rename(columns={'NUMERO_DE_POLIZA':'POLIZA'})"
   ]
  }
 ],
 "metadata": {
  "kernelspec": {
   "display_name": "Python 3",
   "language": "python",
   "name": "python3"
  },
  "language_info": {
   "codemirror_mode": {
    "name": "ipython",
    "version": 3
   },
   "file_extension": ".py",
   "mimetype": "text/x-python",
   "name": "python",
   "nbconvert_exporter": "python",
   "pygments_lexer": "ipython3",
   "version": "3.12.0"
  }
 },
 "nbformat": 4,
 "nbformat_minor": 2
}
