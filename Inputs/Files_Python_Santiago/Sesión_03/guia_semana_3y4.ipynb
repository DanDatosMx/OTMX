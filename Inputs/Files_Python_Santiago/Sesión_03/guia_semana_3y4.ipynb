{
 "cells": [
  {
   "cell_type": "markdown",
   "metadata": {},
   "source": [
    "Eliminar las variables creadas en las variables de Jupyter"
   ]
  },
  {
   "cell_type": "code",
   "execution_count": 31,
   "metadata": {},
   "outputs": [],
   "source": [
    "%reset"
   ]
  },
  {
   "cell_type": "markdown",
   "metadata": {},
   "source": [
    "Importo librerías"
   ]
  },
  {
   "cell_type": "code",
   "execution_count": 5,
   "metadata": {},
   "outputs": [],
   "source": [
    "import pandas as pd \n",
    "import os\n",
    "import datetime\n",
    "from datetime import timedelta"
   ]
  },
  {
   "cell_type": "markdown",
   "metadata": {},
   "source": [
    "IF condicionales"
   ]
  },
  {
   "cell_type": "code",
   "execution_count": null,
   "metadata": {},
   "outputs": [],
   "source": [
    "if condicion1:\n",
    "    #ejecutar si se cumple\n",
    "elif condicion2:\n",
    "    #ejecutar si la condicion1 no se cumple y la dos sí\n",
    "else:\n",
    "    #si las dos condiciones no se cumplieron ejecute esto"
   ]
  },
  {
   "cell_type": "code",
   "execution_count": null,
   "metadata": {},
   "outputs": [
    {
     "name": "stdout",
     "output_type": "stream",
     "text": [
      "igual a 5\n"
     ]
    }
   ],
   "source": [
    "x = 5\n",
    "\n",
    "if x>5:\n",
    "    print(\"mayor que 5\")\n",
    "elif x<5:\n",
    "    print('menor que 5')\n",
    "else:\n",
    "    print('igual a 5')"
   ]
  },
  {
   "cell_type": "code",
   "execution_count": null,
   "metadata": {},
   "outputs": [],
   "source": [
    "#Otra forma de ver los condicionales con numpy\n",
    "\n",
    "conditions = [\n",
    "    (dataset1['dias']<80)&(dataset1['cant_tallas']>3),\n",
    "    (dataset1['dias']<80)&(dataset1['cant_tallas']<=2),\n",
    "    (dataset1['dias']>=80)&(dataset1['cant_tallas']<=2),\n",
    "    (dataset1['dias']>=80)&(dataset1['cant_tallas']=>3),\n",
    "    (np.isnan(dataset1['dias']))&(dataset1['cant_tallas']>=3)\n",
    "]\n",
    "\n",
    "choices = ['Inventario_sano','Puntas_recientes','Puntas_Antiguas',\n",
    "        'inventario_antiguo_sano','inv_muy_antiguosano']\n",
    "\n",
    "dataset['clasif'] = np.select(conditions, choices, default='Puntas_muy_antiguas')"
   ]
  },
  {
   "cell_type": "markdown",
   "metadata": {},
   "source": [
    "FOR - Iterar sobre secuencia de elementos"
   ]
  },
  {
   "cell_type": "code",
   "execution_count": null,
   "metadata": {},
   "outputs": [
    {
     "name": "stdout",
     "output_type": "stream",
     "text": [
      "Santiago\n",
      "Juan\n",
      "María\n",
      "A\n"
     ]
    }
   ],
   "source": [
    "nombres = [\"Santiago\", \"Juan\", \"María\",'A']\n",
    "\n",
    "for aaa in nombres:\n",
    "    print(aaa)"
   ]
  },
  {
   "cell_type": "markdown",
   "metadata": {},
   "source": [
    "While - iteración y condición"
   ]
  },
  {
   "cell_type": "code",
   "execution_count": null,
   "metadata": {},
   "outputs": [
    {
     "name": "stdout",
     "output_type": "stream",
     "text": [
      "0\n",
      "1\n",
      "2\n",
      "3\n",
      "4\n"
     ]
    }
   ],
   "source": [
    "numero = 0\n",
    "\n",
    "while numero < 5:\n",
    "    print(numero)\n",
    "    numero += 1"
   ]
  },
  {
   "cell_type": "markdown",
   "metadata": {},
   "source": [
    "Funciones"
   ]
  },
  {
   "cell_type": "code",
   "execution_count": null,
   "metadata": {},
   "outputs": [],
   "source": [
    "def nombre_de_funcion(parametro1, parametro2, ...):\n",
    "    # Código a ejecutar\n",
    "    # Puede incluir return para devolver un valor"
   ]
  },
  {
   "cell_type": "code",
   "execution_count": 6,
   "metadata": {},
   "outputs": [],
   "source": [
    "def sumar(a, b):\n",
    "    resultado = a + b\n",
    "    return resultado"
   ]
  },
  {
   "cell_type": "code",
   "execution_count": 8,
   "metadata": {},
   "outputs": [
    {
     "data": {
      "text/plain": [
       "8"
      ]
     },
     "execution_count": 8,
     "metadata": {},
     "output_type": "execute_result"
    }
   ],
   "source": [
    "sumar(3,5)"
   ]
  },
  {
   "cell_type": "markdown",
   "metadata": {},
   "source": [
    "Ejemplos de uso:\n",
    "Voy a cargar varios archivos de Excel que se encuentran en una misma carpeta"
   ]
  },
  {
   "cell_type": "code",
   "execution_count": 2,
   "metadata": {},
   "outputs": [
    {
     "name": "stdout",
     "output_type": "stream",
     "text": [
      "['DATAMARSH-ABRIL.xlsx', 'DATAMARSH-ENERO.xlsx', 'DATAMARSH-FEBRERO.xlsx', 'DATAMARSH-MARZO.xlsx']\n"
     ]
    }
   ],
   "source": [
    "# Ruta de la carpeta que contiene los archivos .xls\n",
    "carpeta = 'C:/Users/u1295560/OneDrive - MMC/Desktop/CONCILIACIONES/2024/CONSOLIDADO MARSH'\n",
    "\n",
    "# Obtener la lista de archivos en la carpeta\n",
    "archivos = os.listdir(carpeta)\n",
    "print(archivos) #imprimir esa lista"
   ]
  },
  {
   "cell_type": "markdown",
   "metadata": {},
   "source": [
    "Bucle para cargar todos los datos de la lista y agregarles una columna"
   ]
  },
  {
   "cell_type": "code",
   "execution_count": 3,
   "metadata": {},
   "outputs": [],
   "source": [
    "# Crear una lista para almacenar los dataframes de cada archivo\n",
    "dataframes = []\n",
    "\n",
    "# Iterar sobre cada archivo en la carpeta\n",
    "for archivo in archivos:\n",
    "    # Ruta completa del archivo\n",
    "    ruta_archivo = os.path.join(carpeta, archivo)\n",
    "    # Leer cada archivo y volverlo un df\n",
    "    df = pd.read_excel(ruta_archivo)\n",
    "    #crear una nueva columna para cada dataframe llamada mes que me tome el valor del nombre del archivo menos los últimos 5 caracteres\n",
    "    df['MES'] = archivo[:-5]\n",
    "    # Agregar el dataframe a la lista\n",
    "    dataframes.append(df)\n",
    "\n",
    "# Concatenar todos los dataframes en uno solo\n",
    "marsh = pd.concat(dataframes)"
   ]
  },
  {
   "cell_type": "markdown",
   "metadata": {},
   "source": [
    "Subo un nuevo archivo"
   ]
  },
  {
   "cell_type": "code",
   "execution_count": 36,
   "metadata": {},
   "outputs": [],
   "source": [
    "os.chdir('C:/Users/u1295560/OneDrive - MMC/Desktop/CONCILIACIONES/presentación')"
   ]
  },
  {
   "cell_type": "code",
   "execution_count": 37,
   "metadata": {},
   "outputs": [],
   "source": [
    "data = pd.read_excel('consolidado_cruces.xlsx')"
   ]
  },
  {
   "cell_type": "markdown",
   "metadata": {},
   "source": [
    "Si intento volver esta columna a datetime me genera error porque viene con diferentes tipos de fecha"
   ]
  },
  {
   "cell_type": "code",
   "execution_count": 40,
   "metadata": {},
   "outputs": [
    {
     "ename": "ValueError",
     "evalue": "time data \"3/1/2024\" doesn't match format \"%Y-%m-%d\", at position 125. You might want to try:\n    - passing `format` if your strings have a consistent format;\n    - passing `format='ISO8601'` if your strings are all ISO8601 but not necessarily in exactly the same format;\n    - passing `format='mixed'`, and the format will be inferred for each element individually. You might want to use `dayfirst` alongside this.",
     "output_type": "error",
     "traceback": [
      "\u001b[1;31m---------------------------------------------------------------------------\u001b[0m",
      "\u001b[1;31mValueError\u001b[0m                                Traceback (most recent call last)",
      "Cell \u001b[1;32mIn[40], line 1\u001b[0m\n\u001b[1;32m----> 1\u001b[0m data[\u001b[39m'\u001b[39m\u001b[39mFECFACT\u001b[39m\u001b[39m'\u001b[39m] \u001b[39m=\u001b[39m pd\u001b[39m.\u001b[39;49mto_datetime(data[\u001b[39m'\u001b[39;49m\u001b[39mFECFACT\u001b[39;49m\u001b[39m'\u001b[39;49m])\n",
      "File \u001b[1;32m~\\AppData\\Roaming\\Python\\Python311\\site-packages\\pandas\\core\\tools\\datetimes.py:1046\u001b[0m, in \u001b[0;36mto_datetime\u001b[1;34m(arg, errors, dayfirst, yearfirst, utc, format, exact, unit, infer_datetime_format, origin, cache)\u001b[0m\n\u001b[0;32m   1044\u001b[0m             result \u001b[39m=\u001b[39m arg\u001b[39m.\u001b[39mtz_localize(\u001b[39m\"\u001b[39m\u001b[39mutc\u001b[39m\u001b[39m\"\u001b[39m)\n\u001b[0;32m   1045\u001b[0m \u001b[39melif\u001b[39;00m \u001b[39misinstance\u001b[39m(arg, ABCSeries):\n\u001b[1;32m-> 1046\u001b[0m     cache_array \u001b[39m=\u001b[39m _maybe_cache(arg, \u001b[39mformat\u001b[39;49m, cache, convert_listlike)\n\u001b[0;32m   1047\u001b[0m     \u001b[39mif\u001b[39;00m \u001b[39mnot\u001b[39;00m cache_array\u001b[39m.\u001b[39mempty:\n\u001b[0;32m   1048\u001b[0m         result \u001b[39m=\u001b[39m arg\u001b[39m.\u001b[39mmap(cache_array)\n",
      "File \u001b[1;32m~\\AppData\\Roaming\\Python\\Python311\\site-packages\\pandas\\core\\tools\\datetimes.py:250\u001b[0m, in \u001b[0;36m_maybe_cache\u001b[1;34m(arg, format, cache, convert_listlike)\u001b[0m\n\u001b[0;32m    248\u001b[0m unique_dates \u001b[39m=\u001b[39m unique(arg)\n\u001b[0;32m    249\u001b[0m \u001b[39mif\u001b[39;00m \u001b[39mlen\u001b[39m(unique_dates) \u001b[39m<\u001b[39m \u001b[39mlen\u001b[39m(arg):\n\u001b[1;32m--> 250\u001b[0m     cache_dates \u001b[39m=\u001b[39m convert_listlike(unique_dates, \u001b[39mformat\u001b[39;49m)\n\u001b[0;32m    251\u001b[0m     \u001b[39m# GH#45319\u001b[39;00m\n\u001b[0;32m    252\u001b[0m     \u001b[39mtry\u001b[39;00m:\n",
      "File \u001b[1;32m~\\AppData\\Roaming\\Python\\Python311\\site-packages\\pandas\\core\\tools\\datetimes.py:453\u001b[0m, in \u001b[0;36m_convert_listlike_datetimes\u001b[1;34m(arg, format, name, utc, unit, errors, dayfirst, yearfirst, exact)\u001b[0m\n\u001b[0;32m    451\u001b[0m \u001b[39m# `format` could be inferred, or user didn't ask for mixed-format parsing.\u001b[39;00m\n\u001b[0;32m    452\u001b[0m \u001b[39mif\u001b[39;00m \u001b[39mformat\u001b[39m \u001b[39mis\u001b[39;00m \u001b[39mnot\u001b[39;00m \u001b[39mNone\u001b[39;00m \u001b[39mand\u001b[39;00m \u001b[39mformat\u001b[39m \u001b[39m!=\u001b[39m \u001b[39m\"\u001b[39m\u001b[39mmixed\u001b[39m\u001b[39m\"\u001b[39m:\n\u001b[1;32m--> 453\u001b[0m     \u001b[39mreturn\u001b[39;00m _array_strptime_with_fallback(arg, name, utc, \u001b[39mformat\u001b[39;49m, exact, errors)\n\u001b[0;32m    455\u001b[0m result, tz_parsed \u001b[39m=\u001b[39m objects_to_datetime64ns(\n\u001b[0;32m    456\u001b[0m     arg,\n\u001b[0;32m    457\u001b[0m     dayfirst\u001b[39m=\u001b[39mdayfirst,\n\u001b[1;32m   (...)\u001b[0m\n\u001b[0;32m    461\u001b[0m     allow_object\u001b[39m=\u001b[39m\u001b[39mTrue\u001b[39;00m,\n\u001b[0;32m    462\u001b[0m )\n\u001b[0;32m    464\u001b[0m \u001b[39mif\u001b[39;00m tz_parsed \u001b[39mis\u001b[39;00m \u001b[39mnot\u001b[39;00m \u001b[39mNone\u001b[39;00m:\n\u001b[0;32m    465\u001b[0m     \u001b[39m# We can take a shortcut since the datetime64 numpy array\u001b[39;00m\n\u001b[0;32m    466\u001b[0m     \u001b[39m# is in UTC\u001b[39;00m\n",
      "File \u001b[1;32m~\\AppData\\Roaming\\Python\\Python311\\site-packages\\pandas\\core\\tools\\datetimes.py:484\u001b[0m, in \u001b[0;36m_array_strptime_with_fallback\u001b[1;34m(arg, name, utc, fmt, exact, errors)\u001b[0m\n\u001b[0;32m    473\u001b[0m \u001b[39mdef\u001b[39;00m \u001b[39m_array_strptime_with_fallback\u001b[39m(\n\u001b[0;32m    474\u001b[0m     arg,\n\u001b[0;32m    475\u001b[0m     name,\n\u001b[1;32m   (...)\u001b[0m\n\u001b[0;32m    479\u001b[0m     errors: \u001b[39mstr\u001b[39m,\n\u001b[0;32m    480\u001b[0m ) \u001b[39m-\u001b[39m\u001b[39m>\u001b[39m Index:\n\u001b[0;32m    481\u001b[0m \u001b[39m    \u001b[39m\u001b[39m\"\"\"\u001b[39;00m\n\u001b[0;32m    482\u001b[0m \u001b[39m    Call array_strptime, with fallback behavior depending on 'errors'.\u001b[39;00m\n\u001b[0;32m    483\u001b[0m \u001b[39m    \"\"\"\u001b[39;00m\n\u001b[1;32m--> 484\u001b[0m     result, timezones \u001b[39m=\u001b[39m array_strptime(arg, fmt, exact\u001b[39m=\u001b[39;49mexact, errors\u001b[39m=\u001b[39;49merrors, utc\u001b[39m=\u001b[39;49mutc)\n\u001b[0;32m    485\u001b[0m     \u001b[39mif\u001b[39;00m \u001b[39many\u001b[39m(tz \u001b[39mis\u001b[39;00m \u001b[39mnot\u001b[39;00m \u001b[39mNone\u001b[39;00m \u001b[39mfor\u001b[39;00m tz \u001b[39min\u001b[39;00m timezones):\n\u001b[0;32m    486\u001b[0m         \u001b[39mreturn\u001b[39;00m _return_parsed_timezone_results(result, timezones, utc, name)\n",
      "File \u001b[1;32m~\\AppData\\Roaming\\Python\\Python311\\site-packages\\pandas\\_libs\\tslibs\\strptime.pyx:530\u001b[0m, in \u001b[0;36mpandas._libs.tslibs.strptime.array_strptime\u001b[1;34m()\u001b[0m\n",
      "File \u001b[1;32m~\\AppData\\Roaming\\Python\\Python311\\site-packages\\pandas\\_libs\\tslibs\\strptime.pyx:351\u001b[0m, in \u001b[0;36mpandas._libs.tslibs.strptime.array_strptime\u001b[1;34m()\u001b[0m\n",
      "\u001b[1;31mValueError\u001b[0m: time data \"3/1/2024\" doesn't match format \"%Y-%m-%d\", at position 125. You might want to try:\n    - passing `format` if your strings have a consistent format;\n    - passing `format='ISO8601'` if your strings are all ISO8601 but not necessarily in exactly the same format;\n    - passing `format='mixed'`, and the format will be inferred for each element individually. You might want to use `dayfirst` alongside this."
     ]
    }
   ],
   "source": [
    "data['FECFACT'] = pd.to_datetime(data['FECFACT'])"
   ]
  },
  {
   "cell_type": "markdown",
   "metadata": {},
   "source": [
    "Creo una función con try and except en la que intente volver a datetime los valores, y en caso de que no pueda, que los omita"
   ]
  },
  {
   "cell_type": "code",
   "execution_count": 42,
   "metadata": {},
   "outputs": [],
   "source": [
    "def convertir_fecha(valor):\n",
    "    try:\n",
    "        return pd.to_datetime(valor, format='%Y-%m-%d')\n",
    "    except:\n",
    "        pass\n",
    "    try:\n",
    "        return pd.to_datetime(valor, format='%Y-%m-%dT%H:%M:%S.%f')\n",
    "    except:\n",
    "        pass\n",
    "    try:\n",
    "        return pd.to_datetime(valor, format='%d/%m/%Y')\n",
    "    except:\n",
    "        pass\n",
    "\n"
   ]
  },
  {
   "cell_type": "markdown",
   "metadata": {},
   "source": [
    "Aplico la función a nuestra columna"
   ]
  },
  {
   "cell_type": "code",
   "execution_count": 22,
   "metadata": {},
   "outputs": [],
   "source": [
    "data['DESDE'] = convertir_fecha(data['DESDE'])"
   ]
  },
  {
   "cell_type": "code",
   "execution_count": 44,
   "metadata": {},
   "outputs": [
    {
     "data": {
      "text/plain": [
       "MES                          object\n",
       "ASEGURADORA                  object\n",
       "UNIDAD                       object\n",
       "OFICIAL DE CUENTA            object\n",
       "NUMERO_DE_POLIZA             object\n",
       "NOMBRE ASEGURADO             object\n",
       "FECFACT              datetime64[ns]\n",
       "DESDE                datetime64[ns]\n",
       "HASTA                        object\n",
       "MONTO_ASEG                  float64\n",
       "NOMBRE_MARSH                 object\n",
       "TIPO_MARSH                   object\n",
       "MONTO_MARSH                  object\n",
       "FECHA_FACT_MARSH             object\n",
       "DESDE_MARSH                  object\n",
       "HASTA_MARSH                  object\n",
       "NOMBRE_DIF                   object\n",
       "DESDE_DIF                    object\n",
       "HASTA_DIF                    object\n",
       "CRUCE                          bool\n",
       "dtype: object"
      ]
     },
     "execution_count": 44,
     "metadata": {},
     "output_type": "execute_result"
    }
   ],
   "source": [
    "data.dtypes #verifico los tipos de datos"
   ]
  },
  {
   "cell_type": "code",
   "execution_count": 43,
   "metadata": {},
   "outputs": [],
   "source": [
    "# Aplica la función a las otras columnas de fechas, aquí se muestra que también se pueden aplicar con \".apply()\"\n",
    "data['FECFACT'] = data['FECFACT'].apply(convertir_fecha) \n",
    "data['HASTA'] = data['HASTA'].apply(convertir_fecha)  "
   ]
  },
  {
   "cell_type": "markdown",
   "metadata": {},
   "source": [
    "PYAUTOGUI"
   ]
  },
  {
   "cell_type": "markdown",
   "metadata": {},
   "source": [
    "Permite controlar o automatizar el mouse y el teclado en el sistema operativo"
   ]
  },
  {
   "cell_type": "code",
   "execution_count": 24,
   "metadata": {},
   "outputs": [],
   "source": [
    "#Importo librerías\n",
    "import pyautogui\n",
    "import time"
   ]
  },
  {
   "cell_type": "code",
   "execution_count": 76,
   "metadata": {},
   "outputs": [
    {
     "data": {
      "text/plain": [
       "Size(width=1920, height=1080)"
      ]
     },
     "execution_count": 76,
     "metadata": {},
     "output_type": "execute_result"
    }
   ],
   "source": [
    "#Identificar las medidas de la pantalla (no necesario)\n",
    "pyautogui.size()"
   ]
  },
  {
   "cell_type": "code",
   "execution_count": 82,
   "metadata": {},
   "outputs": [
    {
     "data": {
      "text/plain": [
       "Point(x=2633, y=470)"
      ]
     },
     "execution_count": 82,
     "metadata": {},
     "output_type": "execute_result"
    }
   ],
   "source": [
    "#Identificar posición\n",
    "pyautogui.position()"
   ]
  },
  {
   "cell_type": "code",
   "execution_count": 81,
   "metadata": {},
   "outputs": [],
   "source": [
    "# moverse a (x=2433, y=1083) en 3 segundos\n",
    "pyautogui.moveTo(2493, 1086, duration = 5)\n",
    " \n",
    "# simular un click en la posición\n",
    "pyautogui.click()"
   ]
  },
  {
   "cell_type": "code",
   "execution_count": 37,
   "metadata": {},
   "outputs": [],
   "source": [
    "# esperar dos segundos\n",
    "time.sleep(2)\n",
    " \n",
    "# escribir esto\n",
    "pyautogui.typewrite(\"CONCILIACIONES\")"
   ]
  },
  {
   "cell_type": "code",
   "execution_count": 83,
   "metadata": {},
   "outputs": [],
   "source": [
    "# moverse a la ubicación en 1 seg\n",
    "pyautogui.moveTo(2619, 480, duration = 1)\n",
    " \n",
    "# simular un click\n",
    "pyautogui.click()"
   ]
  },
  {
   "cell_type": "markdown",
   "metadata": {},
   "source": [
    "Otro ejemplo"
   ]
  },
  {
   "cell_type": "code",
   "execution_count": 84,
   "metadata": {},
   "outputs": [
    {
     "data": {
      "text/plain": [
       "Point(x=2619, y=480)"
      ]
     },
     "execution_count": 84,
     "metadata": {},
     "output_type": "execute_result"
    }
   ],
   "source": [
    "#Identificar posición\n",
    "pyautogui.position()"
   ]
  },
  {
   "cell_type": "code",
   "execution_count": 85,
   "metadata": {},
   "outputs": [],
   "source": [
    "# moverse a (x=2853, y=1091) en 3 segundos\n",
    "pyautogui.moveTo(2853, 1091, duration = 2)\n",
    " \n",
    "# simular un click en la posición\n",
    "pyautogui.click()"
   ]
  },
  {
   "cell_type": "code",
   "execution_count": 86,
   "metadata": {},
   "outputs": [],
   "source": [
    "pyautogui.moveTo(3288, 34, duration = 2)\n",
    " \n",
    "# simular un click en la posición\n",
    "pyautogui.click()"
   ]
  },
  {
   "cell_type": "code",
   "execution_count": 87,
   "metadata": {},
   "outputs": [],
   "source": [
    "# esperar dos segundos\n",
    "time.sleep(2)\n",
    " \n",
    "# escribir esto\n",
    "pyautogui.typewrite(\"Marco Galvis\")"
   ]
  },
  {
   "cell_type": "code",
   "execution_count": 88,
   "metadata": {},
   "outputs": [],
   "source": [
    "# moverse a la ubicación en 1 seg\n",
    "pyautogui.moveTo(3230, 281, duration = 1)\n",
    " \n",
    "# simular un click\n",
    "pyautogui.click()"
   ]
  },
  {
   "cell_type": "code",
   "execution_count": 89,
   "metadata": {},
   "outputs": [],
   "source": [
    "# moverse a la ubicación en 1 seg\n",
    "pyautogui.moveTo(3145, 1010, duration = 3)\n",
    " \n",
    "# simular un click\n",
    "pyautogui.click()"
   ]
  },
  {
   "cell_type": "code",
   "execution_count": 90,
   "metadata": {},
   "outputs": [],
   "source": [
    "# esperar tres segundos\n",
    "time.sleep(3)\n",
    " \n",
    "# escribir esto\n",
    "pyautogui.typewrite(\"Hola Marco\")"
   ]
  },
  {
   "cell_type": "code",
   "execution_count": 91,
   "metadata": {},
   "outputs": [],
   "source": [
    "# moverse a la ubicación en 1 seg\n",
    "pyautogui.moveTo(4073, 1010, duration = 3)\n",
    " \n",
    "# simular un click\n",
    "pyautogui.click()"
   ]
  },
  {
   "cell_type": "markdown",
   "metadata": {},
   "source": [
    "SELENIUM Webscrapping"
   ]
  },
  {
   "cell_type": "markdown",
   "metadata": {},
   "source": [
    "Selenium es una biblioteca de Python que se utiliza para automatizar pruebas en aplicaciones web. Permite interactuar con un navegador web de forma programática, lo que facilita la automatización de tareas como hacer clic en botones, completar formularios y extraer datos de páginas web."
   ]
  },
  {
   "cell_type": "code",
   "execution_count": null,
   "metadata": {},
   "outputs": [],
   "source": [
    "from selenium import webdriver #Importa la clase webdriver. Esta clase proporciona métodos y funciones para interactuar con un navegador web\n",
    "import time #Importa el módulo time, que proporciona funciones relacionadas con el tiempo, como pausas y esperas\n",
    "from selenium.webdriver.common.by import By #del modulo selenium.webdriver.common.by importar la clase By"
   ]
  },
  {
   "cell_type": "code",
   "execution_count": null,
   "metadata": {},
   "outputs": [],
   "source": [
    "# Configure Selenium to run in headless mode\n",
    "options = webdriver.ChromeOptions() #Crea un objeto options de la clase ChromeOptions. Este objeto se utiliza para configurar opciones específicas del navegador Chrome\n",
    "#options.add_argument('--headless')\n",
    "driver = webdriver.Chrome(options=options) #Crea un objeto driver de la clase webdriver.Chrome y lo inicializa con las opciones especificadas en el objeto options\n",
    "#Esto crea una instancia del navegador Chrome controlada por Selenium\n"
   ]
  },
  {
   "cell_type": "code",
   "execution_count": null,
   "metadata": {},
   "outputs": [],
   "source": [
    "home_page = \"https://www.youtube.com\"\n",
    "# Direct WebDriver to the target home page\n",
    "driver.get(home_page)"
   ]
  },
  {
   "cell_type": "code",
   "execution_count": null,
   "metadata": {},
   "outputs": [],
   "source": [
    "input_field = driver.find_element(By.NAME, 'search_query')\n",
    "input_field.send_keys('data analytics')\n",
    "time.sleep(3)"
   ]
  },
  {
   "cell_type": "code",
   "execution_count": null,
   "metadata": {},
   "outputs": [],
   "source": [
    "button = driver.find_element(By.ID,\"search-icon-legacy\")\n",
    "button.click()\n",
    "\n",
    "# Cerrar el browser\n",
    "#driver.quit()\n"
   ]
  }
 ],
 "metadata": {
  "kernelspec": {
   "display_name": "Python 3",
   "language": "python",
   "name": "python3"
  },
  "language_info": {
   "codemirror_mode": {
    "name": "ipython",
    "version": 3
   },
   "file_extension": ".py",
   "mimetype": "text/x-python",
   "name": "python",
   "nbconvert_exporter": "python",
   "pygments_lexer": "ipython3",
   "version": "3.11.3"
  },
  "orig_nbformat": 4
 },
 "nbformat": 4,
 "nbformat_minor": 2
}
