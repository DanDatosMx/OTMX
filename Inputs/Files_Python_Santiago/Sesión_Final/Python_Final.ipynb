{
 "cells": [
  {
   "cell_type": "markdown",
   "metadata": {},
   "source": [
    "Trabajo Final Python"
   ]
  },
  {
   "cell_type": "code",
   "execution_count": 1,
   "metadata": {},
   "outputs": [],
   "source": [
    "#Ejercicio práctico\n",
    "#Recibirán 4 archivos, 3 csv (Data de nuestro sistema marsh) y 1 xlsx (Data de la aseguradora)\n",
    "#El objetivo final es ver qué tiene la data de la aseguradora que esté en la data de marsh."
   ]
  },
  {
   "cell_type": "code",
   "execution_count": 2,
   "metadata": {},
   "outputs": [],
   "source": [
    "#Importamos las librerías\n",
    "import pandas as pd\n",
    "import glob\n",
    "import os"
   ]
  },
  {
   "cell_type": "markdown",
   "metadata": {},
   "source": [
    "-Cargar los 4 archivos a Python (los 3 csv cargarlos con bucle for)"
   ]
  },
  {
   "cell_type": "code",
   "execution_count": 3,
   "metadata": {},
   "outputs": [
    {
     "name": "stdout",
     "output_type": "stream",
     "text": [
      "['ASSA-MAYO.xlsx', 'ProduccionOnlineAssa202403.csv', 'ProduccionOnlineAssa202404.csv', 'ProduccionOnlineAssa202405.csv']\n"
     ]
    }
   ],
   "source": [
    "# \n",
    "\n",
    "# Ruta de la carpeta que contiene los archivos CSV\n",
    "carpeta = 'C:/OTMX/Documentation/Files_Python_Santiago/Sesión_Final/Inputs'\n",
    "\n",
    "# Obtener la lista de archivos en la carpeta\n",
    "archivos = os.listdir(carpeta)\n",
    "print(archivos) #imprimir esa lista"
   ]
  },
  {
   "cell_type": "code",
   "execution_count": 4,
   "metadata": {},
   "outputs": [],
   "source": [
    "# Crear un DataFrame vacío para almacenar los datos\n",
    "#datos = pd.DataFrame()\n",
    "\n",
    "dataframes_csv = []\n",
    "dataframes_xlsx = []\n",
    "\n",
    "\n",
    "# Iterar sobre cada archivo en la carpeta\n",
    "for archivo in archivos:\n",
    "    # Verificar si el archivo es un archivo CSV\n",
    "    if archivo.endswith('.csv'):\n",
    "        # Cargar el archivo CSV en un DataFrame\n",
    "        ruta_archivo = os.path.join(carpeta, archivo)\n",
    "        df_csv = pd.read_csv(ruta_archivo, delimiter='|')\n",
    "\n",
    "        # Establecer la primera fila como encabezado\n",
    "        #datos.columns = datos.iloc[0]\n",
    "        #datos = datos[1:]\n",
    "        # Agregar los datos al DataFrame principal\n",
    "        #datos = datos.append(df, ignore_index=True)\n",
    "        dataframes_csv.append(df_csv)\n",
    "\n",
    "            # Verificar si el archivo es un archivo XLSX\n",
    "    elif archivo.endswith('.xlsx'):\n",
    "        # Cargar el archivo XLSX en un DataFrame\n",
    "        ruta_archivo = os.path.join(carpeta, archivo)\n",
    "        df_xlsx = pd.read_excel(ruta_archivo)\n",
    "        \n",
    "        # Agregar los datos al DataFrame de archivos XLSX\n",
    "        dataframes_xlsx.append(df_xlsx)\n",
    "\n",
    "\n",
    "marsh = pd.concat(dataframes_csv)\n",
    "asg = pd.concat(dataframes_xlsx)\n",
    "\n"
   ]
  },
  {
   "cell_type": "markdown",
   "metadata": {},
   "source": [
    "-De la información de marsh dejar solamente estas columnas : 'NumeroPoliza','Estatus', 'FechaEmision', 'FechaInicioVigencia', 'FechaFinVigencia', 'Prima', 'TotalPrima'"
   ]
  },
  {
   "cell_type": "code",
   "execution_count": 5,
   "metadata": {},
   "outputs": [
    {
     "data": {
      "text/plain": [
       "Index(['fecha_archivo', '﻿IdProduccion', 'IdPoliza', 'Apellido', 'Nombre',\n",
       "       'TipoIdentificacion', 'Cedula', 'Email', 'FechaNacimiento', 'Telefono1',\n",
       "       'Telefono2', 'Celular', 'Sexo', 'Estatus', 'FechaEmision',\n",
       "       'FechaInicioVigencia', 'FechaFinVigencia', 'Prima', 'TotalPrima',\n",
       "       'Producto', 'NumeroPoliza', 'FormaPago', 'FrecuenciaPago',\n",
       "       'CantidadLetras', 'LinkDoc', 'TipoDeEndoso', 'CodEndoso',\n",
       "       'PorcComision'],\n",
       "      dtype='object')"
      ]
     },
     "execution_count": 5,
     "metadata": {},
     "output_type": "execute_result"
    }
   ],
   "source": [
    "marsh.columns\n"
   ]
  },
  {
   "cell_type": "code",
   "execution_count": 6,
   "metadata": {},
   "outputs": [],
   "source": [
    "\n",
    "marsh = marsh[['NumeroPoliza','Estatus', 'FechaEmision', 'FechaInicioVigencia', 'FechaFinVigencia', 'Prima', 'TotalPrima']]"
   ]
  },
  {
   "cell_type": "markdown",
   "metadata": {},
   "source": [
    "#-Convertir todos los nombres de columnas a mayúsculas"
   ]
  },
  {
   "cell_type": "code",
   "execution_count": 7,
   "metadata": {},
   "outputs": [],
   "source": [
    "# Convertir los nombres de las columnas a mayúsculas\n",
    "marsh.columns = marsh.columns.str.upper()"
   ]
  },
  {
   "cell_type": "markdown",
   "metadata": {},
   "source": [
    "#-Hacer el left Join (aseguradora <- marsh)\n",
    "#Recordar que se pueden cambiar los nombres de las columnas para tenerlos iguales y hacer el cruce más sencillo."
   ]
  },
  {
   "cell_type": "markdown",
   "metadata": {},
   "source": [
    "NÚMERO DE PÓLIZA y TIPO POLIZA= En la data de la aseguradora aparece como POLIZA y en la data de marsh aparece como NUMEROPOLIZA.\n"
   ]
  },
  {
   "cell_type": "code",
   "execution_count": 8,
   "metadata": {},
   "outputs": [],
   "source": [
    "#Renombrar columna para el cruce\n",
    "marsh = marsh.rename(columns={'NUMEROPOLIZA':'POLIZA'})"
   ]
  },
  {
   "cell_type": "markdown",
   "metadata": {},
   "source": [
    "\n",
    "\n",
    "TIPO= En la data de la aseguradora aparece como TIPO y en la data de marsh como ESTATUS."
   ]
  },
  {
   "cell_type": "code",
   "execution_count": 9,
   "metadata": {},
   "outputs": [],
   "source": [
    "#Renombrar columna para el cruce\n",
    "marsh = marsh.rename(columns={'ESTATUS':'TIPO'})"
   ]
  },
  {
   "cell_type": "code",
   "execution_count": 10,
   "metadata": {},
   "outputs": [],
   "source": [
    "\n",
    "#Es importante tener en cuenta que el tipo de movimiento si es nueva o renovación aparece diferente en los dos dataframes, homologarlos primero para poder\n",
    "#hacer el cruce, en la data de la aseguradora aparece como EMI y EMR, reemplazar EMI por NUEVA y EMR por RENOVACION para poder hacer el cruce.\n",
    "\n",
    "# Reemplazar los valores en la columna 'TIPO'\n",
    "asg['TIPO'] = asg['TIPO'].replace({'EMI': 'NUEVA', 'EMR': 'RENOVACION'})"
   ]
  },
  {
   "cell_type": "code",
   "execution_count": 11,
   "metadata": {},
   "outputs": [
    {
     "data": {
      "text/plain": [
       "TIPO                 object\n",
       "POLIZA               object\n",
       "DESDE                object\n",
       "HASTA                object\n",
       "Canal de Dist.       object\n",
       "FACTURACION          object\n",
       "VIGENCIA EFECTIVA    object\n",
       "PRIMA                object\n",
       "dtype: object"
      ]
     },
     "execution_count": 11,
     "metadata": {},
     "output_type": "execute_result"
    }
   ],
   "source": [
    "\n",
    "#También verificar que las columnas de POLIZA no tengan algún caracter diferente que no permita cruzarlas.\n",
    "asg.dtypes"
   ]
  },
  {
   "cell_type": "code",
   "execution_count": 12,
   "metadata": {},
   "outputs": [
    {
     "data": {
      "text/plain": [
       "POLIZA                  object\n",
       "TIPO                    object\n",
       "FECHAEMISION            object\n",
       "FECHAINICIOVIGENCIA     object\n",
       "FECHAFINVIGENCIA        object\n",
       "PRIMA                  float64\n",
       "TOTALPRIMA             float64\n",
       "dtype: object"
      ]
     },
     "execution_count": 12,
     "metadata": {},
     "output_type": "execute_result"
    }
   ],
   "source": [
    "marsh.dtypes"
   ]
  },
  {
   "cell_type": "code",
   "execution_count": 13,
   "metadata": {},
   "outputs": [
    {
     "name": "stderr",
     "output_type": "stream",
     "text": [
      "C:\\Users\\u1165269\\AppData\\Local\\Temp\\ipykernel_26264\\3762069699.py:4: UserWarning: Parsing dates in %d/%m/%Y format when dayfirst=False (the default) was specified. Pass `dayfirst=True` or specify a format to silence this warning.\n",
      "  asg['DESDE'] = pd.to_datetime(asg['DESDE']).dt.strftime('%d-%m-%Y')\n"
     ]
    }
   ],
   "source": [
    "#Para la aseguradora\n",
    "\n",
    "#Convertir los tipos de fecha\n",
    "asg['DESDE'] = pd.to_datetime(asg['DESDE']).dt.strftime('%d-%m-%Y')\n",
    "# Ahora que la columna es de tipo fecha, puedes darle formato utilizando la función strftime\n",
    "#asg['DESDE'] = asg['DESDE'].dt.strftime('%d-%m-%Y')"
   ]
  },
  {
   "cell_type": "code",
   "execution_count": 14,
   "metadata": {},
   "outputs": [],
   "source": [
    "#Para marsh\n",
    "#Convertir los tipos de fecha\n",
    "marsh['FECHAINICIOVIGENCIA'] = pd.to_datetime(marsh['FECHAINICIOVIGENCIA'])\n",
    "# Ahora que la columna es de tipo fecha, puedes darle formato utilizando la función strftime\n",
    "marsh['FECHAINICIOVIGENCIA'] = marsh['FECHAINICIOVIGENCIA'].dt.strftime('%d-%m-%Y')\n"
   ]
  },
  {
   "cell_type": "code",
   "execution_count": 15,
   "metadata": {},
   "outputs": [],
   "source": [
    "# Quitamos el guión medio\n",
    "asg['POLIZA'] = asg['POLIZA'].str.replace('-', '')\n",
    "#Se hacen los cruces\n",
    "df_All = pd.merge(asg,marsh,on='POLIZA',how='left',suffixes=['_asg','_marsh'])"
   ]
  },
  {
   "cell_type": "markdown",
   "metadata": {},
   "source": [
    "#-Crear una columna nueva que me compare si la columna \"DESDE\" es igual o diferente a la columna \"FECHAINICIOVIGENCIA\" (verificar los tipos de datos para poder hacer la comparación)"
   ]
  },
  {
   "cell_type": "code",
   "execution_count": 16,
   "metadata": {},
   "outputs": [],
   "source": [
    "import numpy as np\n",
    "\n",
    "condiciones = [df_All['DESDE'] == df_All['FECHAINICIOVIGENCIA']]\n",
    "choices = ['1']\n",
    "\n",
    "df_All['VAL'] = np.select(condiciones,choices,default='0')"
   ]
  },
  {
   "cell_type": "code",
   "execution_count": 18,
   "metadata": {},
   "outputs": [],
   "source": [
    "#-Exportar en un excel con varias hojas, la primera el cruce, la segunda la data completa de la aseguradora y la tercera la data completa de marsh\n",
    "\n",
    "import xlsxwriter\n",
    "\n",
    "writer = pd.ExcelWriter('C:/OTMX/Outputs/df_All.xlsx')\n",
    "\n",
    "df_All.to_excel(writer,sheet_name='All',index=False)\n",
    "asg.to_excel(writer,sheet_name='ASG',index=False)\n",
    "marsh.to_excel(writer,sheet_name='MARSH',index=False)\n",
    "\n",
    "writer.close()\n",
    "\n",
    "\n"
   ]
  }
 ],
 "metadata": {
  "kernelspec": {
   "display_name": "Python 3",
   "language": "python",
   "name": "python3"
  },
  "language_info": {
   "codemirror_mode": {
    "name": "ipython",
    "version": 3
   },
   "file_extension": ".py",
   "mimetype": "text/x-python",
   "name": "python",
   "nbconvert_exporter": "python",
   "pygments_lexer": "ipython3",
   "version": "3.12.0"
  }
 },
 "nbformat": 4,
 "nbformat_minor": 2
}
