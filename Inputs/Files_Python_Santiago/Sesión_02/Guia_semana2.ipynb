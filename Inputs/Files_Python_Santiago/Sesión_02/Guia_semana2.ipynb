{
 "cells": [
  {
   "cell_type": "markdown",
   "metadata": {},
   "source": [
    "Importo librerías"
   ]
  },
  {
   "cell_type": "code",
   "execution_count": 1,
   "metadata": {},
   "outputs": [],
   "source": [
    "import pandas as pd #manejo de datos\n",
    "import os #Para trabajar con los directorios del equipo\n",
    "import locale #Para cambiar el idioma local a español\n"
   ]
  },
  {
   "cell_type": "code",
   "execution_count": 2,
   "metadata": {},
   "outputs": [
    {
     "data": {
      "text/plain": [
       "'es_ES.UTF-8'"
      ]
     },
     "execution_count": 2,
     "metadata": {},
     "output_type": "execute_result"
    }
   ],
   "source": [
    "locale.setlocale(locale.LC_ALL,'es_ES.UTF-8') #Set en español"
   ]
  },
  {
   "cell_type": "code",
   "execution_count": 3,
   "metadata": {},
   "outputs": [],
   "source": [
    "#Esta parte no es necesaria pero es para que no aparezcan los warning \n",
    "import warnings \n",
    "\n",
    "# Configurar los warnings para que se ignoren\n",
    "warnings.filterwarnings(\"ignore\")"
   ]
  },
  {
   "cell_type": "markdown",
   "metadata": {},
   "source": [
    "Subo archivo"
   ]
  },
  {
   "cell_type": "code",
   "execution_count": 2,
   "metadata": {},
   "outputs": [],
   "source": [
    "data = pd.read_excel('C:/Users/u1295560/OneDrive - MMC/Documents/Archivos cap python/DATAMARSH-MARZO-EJEMPLO.xlsx')"
   ]
  },
  {
   "cell_type": "code",
   "execution_count": 3,
   "metadata": {},
   "outputs": [
    {
     "data": {
      "text/plain": [
       "Index(['AÑO HASTA', 'MES DESDE', 'MES FACTURA', 'NOMBRE AGENCIA',\n",
       "       'NOMBRE CORTO', 'ESTADO', 'CODIGO GRUPO', 'GRUPO SECUNDARIO',\n",
       "       'SEGMENTO GRUPO', 'RAMO', 'SUB RAMO', 'JURIDICO',\n",
       "       'DESCRIPCION FORMA PAGO', 'FRECUENCIA PAGO', 'PORC. COM. COMPARTIDA',\n",
       "       'COMISION COMPARTIDA', 'TIPO', 'DESCRIPCIÒN CONDUCTO',\n",
       "       'DESCRIPCIÃ¿N MOTIVO', 'UNIDAD', 'NOMBRE DEL PRODUCTO',\n",
       "       'NOMBRE DEL PLAN', 'NOMBRE ZONA', 'TIPO MOV.POLIZA', 'TIPO MOVIMIENTO',\n",
       "       'NUMERO_DE_POLIZA', 'POLIZA', 'SEGMENTO POLIZA', 'FECHA_FACTURA',\n",
       "       'DESDE', 'HASTA', 'FECHA EMISION', 'ENDOSO', 'PRIMA', 'MONTO',\n",
       "       'TOTAL_COMISION', 'COMISION_VIDA', 'COMISION', 'SUMA ASEGURADA',\n",
       "       'PRODUCTO', 'TIPO CANAL', 'CANAL', 'SUBSEGEMENTO', 'PEP',\n",
       "       'SENIOR RELATIONSHIP', 'GERENTE PLACEMENT',\n",
       "       'EJECUTIVO MEMBER MANAGEMENT', 'COLOCADO POR', 'SPECIALTY',\n",
       "       'SUB CATEGORY', 'FECHA SOLICITADO ASEG. ENDOSO',\n",
       "       'FECHA RECIBIDO ASEG. ENDOSO', 'CALIDAD DE LA EMISIÒN ENDOSO',\n",
       "       'TIPO REPROCESO', 'RESPONSABLE REPROCESO',\n",
       "       'FECHA INSTRUCCIÓN NEGOCIO A PLACEMENT BROKER',\n",
       "       'FECHA ASEGURADORA PIDE DOCUMENTOS', 'FECHA SOLICITUD A ASEGURADORA',\n",
       "       'FECHA DE RECIBIDO', 'ULTIMA FECHA DE SOLICIITUD A LA ASEGURADORA',\n",
       "       'CANTIDAD DEVOLUCIONES', 'Company Number', 'Gerente cuenta MMB',\n",
       "       'DECLARATIVA', 'GBM', 'FRONTING'],\n",
       "      dtype='object')"
      ]
     },
     "execution_count": 3,
     "metadata": {},
     "output_type": "execute_result"
    }
   ],
   "source": [
    "data.columns #veo las columnas"
   ]
  },
  {
   "cell_type": "code",
   "execution_count": 4,
   "metadata": {},
   "outputs": [],
   "source": [
    "subconjunto = data[['DESDE','NOMBRE CORTO','TIPO MOVIMIENTO','NUMERO_DE_POLIZA','MONTO']] #hago un subconjunto"
   ]
  },
  {
   "cell_type": "code",
   "execution_count": 5,
   "metadata": {},
   "outputs": [
    {
     "name": "stderr",
     "output_type": "stream",
     "text": [
      "C:\\Users\\u1295560\\AppData\\Local\\Temp\\ipykernel_13384\\2916899808.py:1: SettingWithCopyWarning: \n",
      "A value is trying to be set on a copy of a slice from a DataFrame.\n",
      "Try using .loc[row_indexer,col_indexer] = value instead\n",
      "\n",
      "See the caveats in the documentation: https://pandas.pydata.org/pandas-docs/stable/user_guide/indexing.html#returning-a-view-versus-a-copy\n",
      "  subconjunto['DESDE'] = subconjunto['DESDE'].astype(str) #vuelvo a str la columna de fecha solamente para mostrar más adelante cómo volverla a fecha\n"
     ]
    }
   ],
   "source": [
    "subconjunto['DESDE'] = subconjunto['DESDE'].astype(str) #vuelvo a str la columna de fecha solamente para mostrar más adelante cómo volverla a fecha \n",
    "#no necesario"
   ]
  },
  {
   "cell_type": "code",
   "execution_count": 6,
   "metadata": {},
   "outputs": [
    {
     "data": {
      "text/plain": [
       "DESDE                object\n",
       "NOMBRE CORTO         object\n",
       "TIPO MOVIMIENTO      object\n",
       "NUMERO_DE_POLIZA     object\n",
       "MONTO               float64\n",
       "dtype: object"
      ]
     },
     "execution_count": 6,
     "metadata": {},
     "output_type": "execute_result"
    }
   ],
   "source": [
    "subconjunto.dtypes #miro los tipos "
   ]
  },
  {
   "cell_type": "code",
   "execution_count": 7,
   "metadata": {},
   "outputs": [
    {
     "name": "stderr",
     "output_type": "stream",
     "text": [
      "C:\\Users\\u1295560\\AppData\\Local\\Temp\\ipykernel_13384\\2369098741.py:1: SettingWithCopyWarning: \n",
      "A value is trying to be set on a copy of a slice from a DataFrame.\n",
      "Try using .loc[row_indexer,col_indexer] = value instead\n",
      "\n",
      "See the caveats in the documentation: https://pandas.pydata.org/pandas-docs/stable/user_guide/indexing.html#returning-a-view-versus-a-copy\n",
      "  subconjunto['DESDE'] = pd.to_datetime(subconjunto['DESDE']) #vuelvo la columna DESDE a tipo fecha\n"
     ]
    }
   ],
   "source": [
    "subconjunto['DESDE'] = pd.to_datetime(subconjunto['DESDE']) #vuelvo la columna DESDE a tipo fecha"
   ]
  },
  {
   "cell_type": "code",
   "execution_count": 8,
   "metadata": {},
   "outputs": [
    {
     "data": {
      "text/plain": [
       "DESDE               datetime64[ns]\n",
       "NOMBRE CORTO                object\n",
       "TIPO MOVIMIENTO             object\n",
       "NUMERO_DE_POLIZA            object\n",
       "MONTO                      float64\n",
       "dtype: object"
      ]
     },
     "execution_count": 8,
     "metadata": {},
     "output_type": "execute_result"
    }
   ],
   "source": [
    "subconjunto.dtypes #miro los tipos"
   ]
  },
  {
   "cell_type": "code",
   "execution_count": 9,
   "metadata": {},
   "outputs": [
    {
     "name": "stderr",
     "output_type": "stream",
     "text": [
      "C:\\Users\\u1295560\\AppData\\Local\\Temp\\ipykernel_13384\\1476904397.py:2: SettingWithCopyWarning: \n",
      "A value is trying to be set on a copy of a slice from a DataFrame.\n",
      "Try using .loc[row_indexer,col_indexer] = value instead\n",
      "\n",
      "See the caveats in the documentation: https://pandas.pydata.org/pandas-docs/stable/user_guide/indexing.html#returning-a-view-versus-a-copy\n",
      "  subconjunto['AÑO'] = subconjunto['DESDE'].dt.strftime('%Y')\n"
     ]
    }
   ],
   "source": [
    "#crear una nueva columna año\n",
    "subconjunto['AÑO'] = subconjunto['DESDE'].dt.strftime('%Y')"
   ]
  },
  {
   "cell_type": "code",
   "execution_count": 10,
   "metadata": {},
   "outputs": [
    {
     "name": "stderr",
     "output_type": "stream",
     "text": [
      "C:\\Users\\u1295560\\AppData\\Local\\Temp\\ipykernel_13384\\140613615.py:2: SettingWithCopyWarning: \n",
      "A value is trying to be set on a copy of a slice from a DataFrame.\n",
      "Try using .loc[row_indexer,col_indexer] = value instead\n",
      "\n",
      "See the caveats in the documentation: https://pandas.pydata.org/pandas-docs/stable/user_guide/indexing.html#returning-a-view-versus-a-copy\n",
      "  subconjunto['MES'] = subconjunto['DESDE'].dt.strftime('%m')\n"
     ]
    }
   ],
   "source": [
    "#crear una nueva columna de mes\n",
    "subconjunto['MES'] = subconjunto['DESDE'].dt.strftime('%m')"
   ]
  },
  {
   "cell_type": "code",
   "execution_count": 11,
   "metadata": {},
   "outputs": [],
   "source": [
    "import calendar #con esta librería podemos convertir los números del 1 al 12 a los meses en nombres, ejemplo: el 2 lo convierte en febrero\n",
    "#esta librería convierte los nombres al mes en el idioma en el que esté tu trabajo local, por ese motivo se coloca en español\n",
    "\n",
    "def convertir_mes(numero_mes): #se crea una función a la que le paso el número del mes y por medio del método month_name de calendar me vuelve el número al nombre\n",
    "    return calendar.month_name[numero_mes]"
   ]
  },
  {
   "cell_type": "code",
   "execution_count": 12,
   "metadata": {},
   "outputs": [
    {
     "name": "stderr",
     "output_type": "stream",
     "text": [
      "C:\\Users\\u1295560\\AppData\\Local\\Temp\\ipykernel_13384\\3050203204.py:2: SettingWithCopyWarning: \n",
      "A value is trying to be set on a copy of a slice from a DataFrame.\n",
      "Try using .loc[row_indexer,col_indexer] = value instead\n",
      "\n",
      "See the caveats in the documentation: https://pandas.pydata.org/pandas-docs/stable/user_guide/indexing.html#returning-a-view-versus-a-copy\n",
      "  subconjunto['MES'] = subconjunto['MES'].astype(int)\n"
     ]
    }
   ],
   "source": [
    "#como quiero usar esta columna para convertir los números a mes, debo pasarla primero a tipo int porque calendar no funciona si es str\n",
    "subconjunto['MES'] = subconjunto['MES'].astype(int)"
   ]
  },
  {
   "cell_type": "code",
   "execution_count": 13,
   "metadata": {},
   "outputs": [
    {
     "name": "stderr",
     "output_type": "stream",
     "text": [
      "C:\\Users\\u1295560\\AppData\\Local\\Temp\\ipykernel_13384\\1229697366.py:1: SettingWithCopyWarning: \n",
      "A value is trying to be set on a copy of a slice from a DataFrame.\n",
      "Try using .loc[row_indexer,col_indexer] = value instead\n",
      "\n",
      "See the caveats in the documentation: https://pandas.pydata.org/pandas-docs/stable/user_guide/indexing.html#returning-a-view-versus-a-copy\n",
      "  subconjunto['NOMBRE_MES'] = subconjunto['MES'].apply(convertir_mes) #creo la columna \"NOMBRE_MES\" y le aplico la función a la columna \"MES\"\n"
     ]
    }
   ],
   "source": [
    "subconjunto['NOMBRE_MES'] = subconjunto['MES'].apply(convertir_mes) #creo la columna \"NOMBRE_MES\" y le aplico la función a la columna \"MES\""
   ]
  },
  {
   "cell_type": "code",
   "execution_count": 14,
   "metadata": {},
   "outputs": [
    {
     "name": "stderr",
     "output_type": "stream",
     "text": [
      "C:\\Users\\u1295560\\AppData\\Local\\Temp\\ipykernel_13384\\2874759380.py:1: SettingWithCopyWarning: \n",
      "A value is trying to be set on a copy of a slice from a DataFrame.\n",
      "Try using .loc[row_indexer,col_indexer] = value instead\n",
      "\n",
      "See the caveats in the documentation: https://pandas.pydata.org/pandas-docs/stable/user_guide/indexing.html#returning-a-view-versus-a-copy\n",
      "  subconjunto['DESDE'] = subconjunto['DESDE'].dt.strftime('%Y-%m-%d') #Puedo convertir la columna DESDE al formato de solamente \"AAAA-mm-dd\" pero en str porque aveces en el Excel no queremos formatos tan largos que incluyan tiempo\n"
     ]
    }
   ],
   "source": [
    "subconjunto['DESDE'] = subconjunto['DESDE'].dt.strftime('%Y-%m-%d') #Puedo convertir la columna DESDE al formato de solamente \"AAAA-mm-dd\" pero en str porque aveces en el Excel no queremos formatos tan largos que incluyan tiempo"
   ]
  },
  {
   "cell_type": "code",
   "execution_count": 15,
   "metadata": {},
   "outputs": [],
   "source": [
    "#FILTROS\n",
    "df_filtrado = subconjunto[subconjunto['TIPO MOVIMIENTO']==\"REN\"] #Aplico filtro de Renovación en TIPO MOVIMIENTO"
   ]
  },
  {
   "cell_type": "code",
   "execution_count": 16,
   "metadata": {},
   "outputs": [],
   "source": [
    "df_filtrado2 = subconjunto[(subconjunto['TIPO MOVIMIENTO']==\"REN\")&(subconjunto['NOMBRE CORTO']==\"ASSA\")] #aplico dos filtros, REN y ASSA"
   ]
  },
  {
   "cell_type": "code",
   "execution_count": 17,
   "metadata": {},
   "outputs": [
    {
     "data": {
      "text/plain": [
       "DESDE               0\n",
       "NOMBRE CORTO        1\n",
       "TIPO MOVIMIENTO     0\n",
       "NUMERO_DE_POLIZA    0\n",
       "MONTO               0\n",
       "AÑO                 0\n",
       "MES                 0\n",
       "NOMBRE_MES          0\n",
       "dtype: int64"
      ]
     },
     "execution_count": 17,
     "metadata": {},
     "output_type": "execute_result"
    }
   ],
   "source": [
    "subconjunto.isna().sum() #Con esto me doy cuenta cuántos NA hay por columna"
   ]
  },
  {
   "cell_type": "code",
   "execution_count": 18,
   "metadata": {},
   "outputs": [],
   "source": [
    "subconjunto = subconjunto.dropna(subset=['NOMBRE CORTO']) #borro las filas que tengan NA en la columna NOMBRE CORTO"
   ]
  },
  {
   "cell_type": "code",
   "execution_count": 19,
   "metadata": {},
   "outputs": [],
   "source": [
    "df_filtrado3 = subconjunto[subconjunto['NOMBRE CORTO'].str.contains('SURA')] #Hago un filtro por la columna NOMBRE CORTO de lo que contenga 'SURA' es decir si el valor es\n",
    "#\"SURAMERICANA\" igual lo va a filtrar porque contiene SURA, esta línea funciona si no hay NA en la misma"
   ]
  },
  {
   "cell_type": "markdown",
   "metadata": {},
   "source": [
    "EXPORTAR ARCHIVOS"
   ]
  },
  {
   "cell_type": "code",
   "execution_count": 20,
   "metadata": {},
   "outputs": [],
   "source": [
    "#UNICA HOJA\n",
    "subconjunto.to_excel('nombrearchivo.xlsx', sheet_name='data', index=False) #subconjunto es el dataframe, nombrearchivo el nombre que quiero ponerle\n",
    "#'data' es el nombre de la hoja del excel donde estará la info, index=False para que no exporte los resultados con el index de Python"
   ]
  },
  {
   "cell_type": "code",
   "execution_count": 21,
   "metadata": {},
   "outputs": [],
   "source": [
    "#VARIAS HOJAS\n",
    "#si quiero en la primer hoja exportar data y en la segunda subconjunto\n",
    "import xlsxwriter\n",
    "\n",
    "os.chdir('C:/Users/u1295560/OneDrive - MMC/Documents/Archivos cap python') #directorio donde quiero que exporte los resultados en caso de ser diferente\n",
    "#al directorio en el que se encuentra el \n",
    "\n",
    "# cree un escritor \n",
    "writer = pd.ExcelWriter('variashojas.xlsx')\n",
    "\n",
    "#escribe cada DataFrame en una hoja específica\n",
    "data.to_excel (writer, sheet_name='data', index=False)\n",
    "subconjunto.to_excel (writer, sheet_name='subconjunto',index=False)\n",
    "\n",
    "#cierre el escritor de Pandas Excel y genere el archivo de Excel\n",
    "writer.close()"
   ]
  }
 ],
 "metadata": {
  "kernelspec": {
   "display_name": "Python 3",
   "language": "python",
   "name": "python3"
  },
  "language_info": {
   "codemirror_mode": {
    "name": "ipython",
    "version": 3
   },
   "file_extension": ".py",
   "mimetype": "text/x-python",
   "name": "python",
   "nbconvert_exporter": "python",
   "pygments_lexer": "ipython3",
   "version": "3.11.3"
  },
  "orig_nbformat": 4
 },
 "nbformat": 4,
 "nbformat_minor": 2
}
