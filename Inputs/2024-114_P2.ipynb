{
 "cells": [
  {
   "cell_type": "code",
   "execution_count": 6,
   "metadata": {},
   "outputs": [],
   "source": [
    "import os\n",
    "from datetime import datetime\n",
    "from docx import Document\n",
    "from docx2pdf import convert\n",
    "from pdf2docx import Converter\n"
   ]
  },
  {
   "cell_type": "code",
   "execution_count": 7,
   "metadata": {},
   "outputs": [],
   "source": [
    "\n",
    "# Ruta de la carpeta que contiene los archivos Word\n",
    "carpeta_archivos = \"C:/OTMX/Outputs/2024-114/Word Files\"\n",
    "carpeta_pdf = \"C:/OTMX/Outputs/2024-114/PDF Files\"\n",
    "\n",
    "# Obtener la lista de archivos en la carpeta\n",
    "archivos = os.listdir(carpeta_archivos)\n"
   ]
  },
  {
   "cell_type": "code",
   "execution_count": 9,
   "metadata": {},
   "outputs": [
    {
     "ename": "AssertionError",
     "evalue": "",
     "output_type": "error",
     "traceback": [
      "\u001b[1;31m---------------------------------------------------------------------------\u001b[0m",
      "\u001b[1;31mAssertionError\u001b[0m                            Traceback (most recent call last)",
      "Cell \u001b[1;32mIn[9], line 28\u001b[0m\n\u001b[0;32m     19\u001b[0m \u001b[38;5;66;03m#cv = Converter(os.path.join(carpeta_archivos, archivo))\u001b[39;00m\n\u001b[0;32m     20\u001b[0m \u001b[38;5;66;03m#cv.convert(os.path.join(carpeta_pdf, pdf_archivo))\u001b[39;00m\n\u001b[0;32m     21\u001b[0m \u001b[38;5;66;03m#cv.close()\u001b[39;00m\n\u001b[1;32m   (...)\u001b[0m\n\u001b[0;32m     25\u001b[0m \n\u001b[0;32m     26\u001b[0m \u001b[38;5;66;03m#Guardar archivo PDF\u001b[39;00m\n\u001b[0;32m     27\u001b[0m archivo_salida_pdf \u001b[38;5;241m=\u001b[39m os\u001b[38;5;241m.\u001b[39mpath\u001b[38;5;241m.\u001b[39mjoin(carpeta_pdf, pdf_archivo)\n\u001b[1;32m---> 28\u001b[0m \u001b[43mconvert\u001b[49m\u001b[43m(\u001b[49m\u001b[43mcarpeta_pdf\u001b[49m\u001b[43m,\u001b[49m\u001b[43marchivo_salida_pdf\u001b[49m\u001b[43m)\u001b[49m\n\u001b[0;32m     30\u001b[0m \u001b[38;5;28mprint\u001b[39m(\u001b[38;5;124mf\u001b[39m\u001b[38;5;124m\"\u001b[39m\u001b[38;5;124mArchivo \u001b[39m\u001b[38;5;132;01m{\u001b[39;00marchivo\u001b[38;5;132;01m}\u001b[39;00m\u001b[38;5;124m procesado y guardado como \u001b[39m\u001b[38;5;132;01m{\u001b[39;00mpdf_archivo\u001b[38;5;132;01m}\u001b[39;00m\u001b[38;5;124m\"\u001b[39m)\n",
      "File \u001b[1;32mc:\\Users\\u1165269\\AppData\\Local\\Programs\\Python\\Python312\\Lib\\site-packages\\docx2pdf\\__init__.py:102\u001b[0m, in \u001b[0;36mconvert\u001b[1;34m(input_path, output_path, keep_active)\u001b[0m\n\u001b[0;32m    101\u001b[0m \u001b[38;5;28;01mdef\u001b[39;00m \u001b[38;5;21mconvert\u001b[39m(input_path, output_path\u001b[38;5;241m=\u001b[39m\u001b[38;5;28;01mNone\u001b[39;00m, keep_active\u001b[38;5;241m=\u001b[39m\u001b[38;5;28;01mFalse\u001b[39;00m):\n\u001b[1;32m--> 102\u001b[0m     paths \u001b[38;5;241m=\u001b[39m \u001b[43mresolve_paths\u001b[49m\u001b[43m(\u001b[49m\u001b[43minput_path\u001b[49m\u001b[43m,\u001b[49m\u001b[43m \u001b[49m\u001b[43moutput_path\u001b[49m\u001b[43m)\u001b[49m\n\u001b[0;32m    103\u001b[0m     \u001b[38;5;28;01mif\u001b[39;00m sys\u001b[38;5;241m.\u001b[39mplatform \u001b[38;5;241m==\u001b[39m \u001b[38;5;124m\"\u001b[39m\u001b[38;5;124mdarwin\u001b[39m\u001b[38;5;124m\"\u001b[39m:\n\u001b[0;32m    104\u001b[0m         \u001b[38;5;28;01mreturn\u001b[39;00m macos(paths, keep_active)\n",
      "File \u001b[1;32mc:\\Users\\u1165269\\AppData\\Local\\Programs\\Python\\Python312\\Lib\\site-packages\\docx2pdf\\__init__.py:83\u001b[0m, in \u001b[0;36mresolve_paths\u001b[1;34m(input_path, output_path)\u001b[0m\n\u001b[0;32m     81\u001b[0m output[\u001b[38;5;124m\"\u001b[39m\u001b[38;5;124minput\u001b[39m\u001b[38;5;124m\"\u001b[39m] \u001b[38;5;241m=\u001b[39m \u001b[38;5;28mstr\u001b[39m(input_path)\n\u001b[0;32m     82\u001b[0m \u001b[38;5;28;01mif\u001b[39;00m output_path:\n\u001b[1;32m---> 83\u001b[0m     \u001b[38;5;28;01massert\u001b[39;00m output_path\u001b[38;5;241m.\u001b[39mis_dir()\n\u001b[0;32m     84\u001b[0m \u001b[38;5;28;01melse\u001b[39;00m:\n\u001b[0;32m     85\u001b[0m     output_path \u001b[38;5;241m=\u001b[39m \u001b[38;5;28mstr\u001b[39m(input_path)\n",
      "\u001b[1;31mAssertionError\u001b[0m: "
     ]
    }
   ],
   "source": [
    "\n",
    "# Recorrer cada archivo en la carpeta\n",
    "for archivo in archivos:\n",
    "    # Verificar si el archivo es de tipo Word\n",
    "    if archivo.endswith(\".docx\"):\n",
    "        # Abrir el archivo Word\n",
    "        doc = Document(os.path.join(carpeta_archivos, archivo))\n",
    "\n",
    "        # Obtener la fecha actual\n",
    "        #fecha_actual = datetime.now().strftime(\"%d/%m/%Y\")\n",
    "\n",
    "        # Agregar la fecha al documento\n",
    "        #doc.add_paragraph(f\"Fecha: {fecha_actual}\")\n",
    "\n",
    "        # Guardar el archivo Word actualizado\n",
    "        #doc.save(os.path.join(carpeta_archivos, archivo))\n",
    "\n",
    "        # Convertir el archivo Word a PDF\n",
    "        pdf_archivo = archivo.replace(\".docx\", \".pdf\")\n",
    "        #cv = Converter(os.path.join(carpeta_archivos, archivo))\n",
    "        #cv.convert(os.path.join(carpeta_pdf, pdf_archivo))\n",
    "        #cv.close()\n",
    "\n",
    "        # Eliminar el archivo Word si lo deseas\n",
    "        # os.remove(os.path.join(carpeta_archivos, archivo))\n",
    "\n",
    "        #Guardar archivo PDF\n",
    "        archivo_salida_pdf = os.path.join(carpeta_pdf, pdf_archivo)\n",
    "        convert(carpeta_pdf,archivo_salida_pdf)\n",
    "\n",
    "        print(f\"Archivo {archivo} procesado y guardado como {pdf_archivo}\")\n"
   ]
  }
 ],
 "metadata": {
  "kernelspec": {
   "display_name": "Python 3",
   "language": "python",
   "name": "python3"
  },
  "language_info": {
   "codemirror_mode": {
    "name": "ipython",
    "version": 3
   },
   "file_extension": ".py",
   "mimetype": "text/x-python",
   "name": "python",
   "nbconvert_exporter": "python",
   "pygments_lexer": "ipython3",
   "version": "3.12.0"
  }
 },
 "nbformat": 4,
 "nbformat_minor": 2
}
