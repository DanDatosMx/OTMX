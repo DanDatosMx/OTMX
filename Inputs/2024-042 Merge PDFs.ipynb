{
 "cells": [
  {
   "cell_type": "code",
   "execution_count": 1,
   "metadata": {},
   "outputs": [],
   "source": [
    "# pip install PyPDF2\n",
    "from pathlib import Path\n",
    "from PyPDF2 import PdfMerger, PdfReader\n",
    "\n",
    "PathC = \"C:/OTMX\"\n",
    "NameItem = \"2024-042\""
   ]
  },
  {
   "cell_type": "code",
   "execution_count": 2,
   "metadata": {},
   "outputs": [],
   "source": [
    "# Define input directory for the pdf files\n",
    "#pdf_dir = Path(__file__).parent / \"Input\"\n",
    "pdf_dir = Path(PathC) / \"Inputs\" / NameItem\n"
   ]
  },
  {
   "cell_type": "code",
   "execution_count": 4,
   "metadata": {},
   "outputs": [],
   "source": [
    "# Define & create output directory\n",
    "#pdf_output_dir = Path(__file__).parent / \"OUPUT\"\n",
    "#pdf_output_dir.mkdir(parents=True, exist_ok=True)\n",
    "pdf_output_dir = Path(PathC) / \"Outputs\" / NameItem\n",
    "pdf_output_dir.mkdir(parents=True, exist_ok=True)\n"
   ]
  },
  {
   "cell_type": "code",
   "execution_count": 5,
   "metadata": {},
   "outputs": [],
   "source": [
    "# List all pdf files in the input directory\n",
    "pdf_files = list(pdf_dir.glob(\"*.pdf\"))"
   ]
  },
  {
   "cell_type": "code",
   "execution_count": 6,
   "metadata": {},
   "outputs": [],
   "source": [
    "# Use the first 10 characters as the 'key'\n",
    "#00000SCS22_CERT_CABALLEROGONZALEZOMAR_GMM-20829.pdf\n",
    "keys = set([file.name[:10] for file in pdf_files])\n",
    "BASE_FILE_NAME_LENGTH = 10"
   ]
  },
  {
   "cell_type": "code",
   "execution_count": 7,
   "metadata": {},
   "outputs": [],
   "source": [
    "# Determine the file name length of the base file\n",
    "for key in keys:\n",
    "    merger = PdfMerger()\n",
    "    for file in pdf_files:\n",
    "        if file.name.startswith(key):\n",
    "            merger.append(PdfReader(str(file), \"rb\"))\n",
    "            if len(file.name) >= BASE_FILE_NAME_LENGTH:\n",
    "                base_file_name = file.name\n",
    "    merger.write(str(pdf_output_dir / base_file_name))\n",
    "    merger.close()"
   ]
  },
  {
   "cell_type": "code",
   "execution_count": null,
   "metadata": {},
   "outputs": [],
   "source": [
    "#pyinstaller -F -w -i c-add.ico MergePDF.py"
   ]
  }
 ],
 "metadata": {
  "kernelspec": {
   "display_name": "Python 3",
   "language": "python",
   "name": "python3"
  },
  "language_info": {
   "codemirror_mode": {
    "name": "ipython",
    "version": 3
   },
   "file_extension": ".py",
   "mimetype": "text/x-python",
   "name": "python",
   "nbconvert_exporter": "python",
   "pygments_lexer": "ipython3",
   "version": "3.12.0"
  }
 },
 "nbformat": 4,
 "nbformat_minor": 2
}
