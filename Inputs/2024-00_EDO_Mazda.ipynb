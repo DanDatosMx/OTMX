{
 "cells": [
  {
   "cell_type": "code",
   "execution_count": 49,
   "metadata": {},
   "outputs": [
    {
     "name": "stdout",
     "output_type": "stream",
     "text": [
      "Trace | Import Library\n"
     ]
    }
   ],
   "source": [
    "# LLamar bibliotecas\n",
    "print('Trace | Import Library')\n",
    "import pandas as pd\n",
    "import numpy as np\n",
    "from pathlib import Path\n",
    "import os\n",
    "from openpyxl import workbook,load_workbook\n",
    "from openpyxl.styles import PatternFill, Border, Side, Alignment, Protection, Font\n",
    "import glob"
   ]
  },
  {
   "cell_type": "code",
   "execution_count": 50,
   "metadata": {},
   "outputs": [
    {
     "name": "stdout",
     "output_type": "stream",
     "text": [
      "Define path: C:/OTMX | Name Item: 2024_EDO_Mazda \n",
      "Successful folders creation\n"
     ]
    }
   ],
   "source": [
    "# Definir los directorios\n",
    "PathC = \"C:/OTMX\"\n",
    "NameItem = \"2024_EDO_Mazda\"\n",
    "Output_dir = Path(PathC) / \"Outputs\" / NameItem\n",
    "Output_dir.mkdir(parents=True, exist_ok=True)\n",
    "\n",
    "#Creamos la carpeta Temp para colocar los archivos modificados\n",
    "#Temp_dir = Path(PathC) / \"Inputs\" / NameItem / \"Temp\"\n",
    "#Temp_dir.mkdir(parents=True, exist_ok=True)\n",
    "\n",
    "print(f'Define path: {PathC} | Name Item: {NameItem} ')\n",
    "\n",
    "print('Successful folders creation')"
   ]
  },
  {
   "cell_type": "code",
   "execution_count": 51,
   "metadata": {},
   "outputs": [],
   "source": [
    "#Definimos la ruta del archivo\n",
    "xlsx_dir = Path(PathC) / \"Inputs\" / NameItem"
   ]
  },
  {
   "cell_type": "code",
   "execution_count": 52,
   "metadata": {},
   "outputs": [],
   "source": [
    "# Define & create output directory\n",
    "output_dir = Path(PathC) / \"Outputs\" / NameItem\n",
    "output_dir.mkdir(parents=True, exist_ok=True)"
   ]
  },
  {
   "cell_type": "code",
   "execution_count": 53,
   "metadata": {},
   "outputs": [
    {
     "data": {
      "text/plain": [
       "Index(['Grupo', 'Dealer', 'Aseguradora', 'Canal', 'Tipo Poliza', 'Poliza',\n",
       "       'Recibo', 'Asegurado', 'Serie', 'Ini_Vig', 'Fin_Vig', 'Prima_Neta',\n",
       "       'Prima_Total', 'UDI_Neto', 'UDI_IVA', 'UDI_Total', 'Limite', 'Alias'],\n",
       "      dtype='object')"
      ]
     },
     "execution_count": 53,
     "metadata": {},
     "output_type": "execute_result"
    }
   ],
   "source": [
    "#Dataframe\n",
    "Name01 = \"EDO_Mazda.xlsx\"\n",
    "PathFileName01 = xlsx_dir / Name01\n",
    "df = pd.read_excel(PathFileName01)\n",
    "df.columns"
   ]
  },
  {
   "cell_type": "code",
   "execution_count": 54,
   "metadata": {},
   "outputs": [],
   "source": [
    "df = df[['Dealer','Aseguradora','Canal','Tipo Poliza','Poliza','Recibo','Asegurado','Serie', 'Ini_Vig', 'Fin_Vig','Prima_Neta',\n",
    "       'Prima_Total', 'UDI_Neto', 'UDI_IVA', 'UDI_Total']]"
   ]
  },
  {
   "cell_type": "code",
   "execution_count": 55,
   "metadata": {},
   "outputs": [],
   "source": [
    "#Establecemos el bucle para el análisis\n",
    "import openpyxl\n",
    "from openpyxl.styles import PatternFill, Font\n",
    "from openpyxl import Workbook"
   ]
  },
  {
   "cell_type": "code",
   "execution_count": 56,
   "metadata": {},
   "outputs": [],
   "source": [
    "from openpyxl.styles import PatternFill, Font\n",
    "from openpyxl import Workbook\n",
    "\n",
    "for dealer in df[\"Dealer\"].unique():\n",
    "    df_temp = df[df[\"Dealer\"]== dealer]\n",
    "\n",
    "    #Convertimos el archivo de excel\n",
    "    df_temp.to_excel(output_dir / f\"Archivo_UDI_Agencia_{dealer}.xlsx\", index = False)\n",
    "\n",
    "    #Edición del archivo de excel\n",
    "    wb = openpyxl.load_workbook(output_dir / f\"Archivo_UDI_Agencia_{x}.xlsx\")\n",
    "    xs = wb.active\n",
    "    \n",
    "\n",
    "\n",
    "\n",
    "    #Guardar archivo\n",
    "    wb.save(output_dir / f\"Archivo_UDI_Agencia_{x}.xlsx\")\n",
    "\n"
   ]
  }
 ],
 "metadata": {
  "kernelspec": {
   "display_name": "Python 3",
   "language": "python",
   "name": "python3"
  },
  "language_info": {
   "codemirror_mode": {
    "name": "ipython",
    "version": 3
   },
   "file_extension": ".py",
   "mimetype": "text/x-python",
   "name": "python",
   "nbconvert_exporter": "python",
   "pygments_lexer": "ipython3",
   "version": "3.12.0"
  }
 },
 "nbformat": 4,
 "nbformat_minor": 2
}
