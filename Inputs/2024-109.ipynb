{
 "cells": [
  {
   "cell_type": "code",
   "execution_count": 108,
   "metadata": {},
   "outputs": [
    {
     "name": "stdout",
     "output_type": "stream",
     "text": [
      "Trace | importar Librerías\n"
     ]
    }
   ],
   "source": [
    "print(\"Trace | importar Librerías\")\n",
    "#LLamar a las bibliotecas\n",
    "import pandas as pd\n",
    "import numpy as np\n",
    "import openpyxl\n",
    "from pathlib import Path\n",
    "import os\n",
    "from openpyxl import workbook,load_workbook\n",
    "from openpyxl.styles import PatternFill, Border, Side, Alignment, Protection, Font\n",
    "\n",
    "PathC = \"C:/OTMX\"\n",
    "NameItem = \"2024-109\""
   ]
  },
  {
   "cell_type": "code",
   "execution_count": 109,
   "metadata": {},
   "outputs": [],
   "source": [
    "# Define & create output directory\n",
    "pdf_output_dir = Path(PathC) / \"Outputs\" / NameItem\n",
    "pdf_output_dir.mkdir(parents=True, exist_ok=True)"
   ]
  },
  {
   "cell_type": "markdown",
   "metadata": {},
   "source": [
    "Catálogos"
   ]
  },
  {
   "cell_type": "code",
   "execution_count": 110,
   "metadata": {},
   "outputs": [
    {
     "name": "stdout",
     "output_type": "stream",
     "text": [
      "Trace | Catalogues Files\n"
     ]
    }
   ],
   "source": [
    "#Carga de los catálogos\n",
    "print('Trace | Catalogues Files')"
   ]
  },
  {
   "cell_type": "code",
   "execution_count": 111,
   "metadata": {},
   "outputs": [
    {
     "name": "stdout",
     "output_type": "stream",
     "text": [
      "Trace | Catalogues Files | Pólizas\n"
     ]
    },
    {
     "data": {
      "text/plain": [
       "Index(['Razón social', 'GMM', 'GMM LENTES', 'Key_Pol'], dtype='object')"
      ]
     },
     "execution_count": 111,
     "metadata": {},
     "output_type": "execute_result"
    }
   ],
   "source": [
    "print('Trace | Catalogues Files | Pólizas')\n",
    "\n",
    "#Catálogo de póliza\n",
    "#Carga de catálogo general\n",
    "dfcat_pol = pd.read_excel(Path(PathC) / \"Catalogues\" / \"c_2024_109.xlsx\", sheet_name=\"POL\")\n",
    "dfcat_pol['GMM'] = dfcat_pol['GMM'].str.replace(' ', '')\n",
    "dfcat_pol['GMM LENTES'] = dfcat_pol['GMM LENTES'].str.replace(' ', '')\n",
    "\n",
    "#Renomrar columna para el cruce\n",
    "#dfcat_pol = dfcat_pol.rename(columns={'GMM':'Key'})\n",
    "dfcat_pol['Key_Pol'] = dfcat_pol['GMM']\n",
    "\n",
    "dfcat_pol.columns\n"
   ]
  },
  {
   "cell_type": "code",
   "execution_count": 112,
   "metadata": {},
   "outputs": [
    {
     "name": "stdout",
     "output_type": "stream",
     "text": [
      "Trace | Catalogues Files | Sitios\n"
     ]
    },
    {
     "data": {
      "text/plain": [
       "Index(['NUMERO DE POLIZA GNP', 'POLIZA', 'SITIO', 'Pol', 'Sit', 'Key'], dtype='object')"
      ]
     },
     "execution_count": 112,
     "metadata": {},
     "output_type": "execute_result"
    }
   ],
   "source": [
    "print('Trace | Catalogues Files | Sitios')\n",
    "\n",
    "#Catálogo de sitios\n",
    "#Carga de catálogo general\n",
    "dfcat_sit = pd.read_excel(Path(PathC) / \"Catalogues\" / \"c_2024_109.xlsx\", sheet_name=\"SITIO\")\n",
    "# Separar la información en una columna basada en un guion medio (\"-\")\n",
    "dfcat_sit[['Pol', 'Sit']] = dfcat_sit['Numero MAPP'].str.split('-', expand=True)\n",
    "dfcat_sit = dfcat_sit.rename(columns={'Numero MAPP':'POLIZA'})\n",
    "\n",
    "#Convertir a tipo entero\n",
    "dfcat_sit['Sit'] = dfcat_sit['Sit'].astype(int)\n",
    "\n",
    "#dfcat_sit['dos_ultimos'] = dfcat_sit['Pol'].str[-2:]\n",
    "\n",
    "dfcat_sit['Sit'] = dfcat_sit['Sit'].astype(str)\n",
    "dfcat_sit['Key'] = dfcat_sit['Pol'] + \"-\" + dfcat_sit['Sit']\n",
    "\n",
    "dfcat_sit.columns"
   ]
  },
  {
   "cell_type": "code",
   "execution_count": 113,
   "metadata": {},
   "outputs": [
    {
     "name": "stdout",
     "output_type": "stream",
     "text": [
      "Trace | Data File | \n",
      "DATA_FORVIA_CLIENTE.xlsx\n"
     ]
    }
   ],
   "source": [
    "print('Trace | Data File | ')\n",
    "# Ejemplo de uso\n",
    "#carpeta = \"C:/OTMX/Inputs/2024-109\"\n",
    "carpeta = Path(PathC) / 'Inputs' / NameItem\n",
    "NameFile = 'DATA_FORVIA_CLIENTE.xlsx'\n",
    "print(NameFile)"
   ]
  },
  {
   "cell_type": "code",
   "execution_count": 114,
   "metadata": {},
   "outputs": [],
   "source": [
    "df = pd.read_excel(carpeta / NameFile)\n",
    "#df = df.rename(columns={'Sitio':'POLIZA'})\n",
    "# Separar la información en una columna basada en un guion medio (\"-\")\n",
    "df[['Pol', 'Sit']] = df['Sitio'].str.split('-', expand=True)\n",
    "#df.columns.array\n"
   ]
  },
  {
   "cell_type": "code",
   "execution_count": 115,
   "metadata": {},
   "outputs": [],
   "source": [
    "#\n",
    "#df['F. Nacimiento'] = df['F. Nacimiento'].dt.strftime('%d-%m-%Y')"
   ]
  },
  {
   "cell_type": "code",
   "execution_count": 116,
   "metadata": {},
   "outputs": [],
   "source": [
    "#Convertir a tipo entero\n",
    "df['Sit'] = df['Sit'].astype(str)\n",
    "df['Key'] = df['Pol'] + \"-\" + df['Sit']\n",
    "df['Key_Pol'] = df['Pol']\n",
    "\n",
    "\n",
    "#\n",
    "df['No de Certificado'] = df['# Empleado']"
   ]
  },
  {
   "cell_type": "markdown",
   "metadata": {},
   "source": [
    "Cruce de datos"
   ]
  },
  {
   "cell_type": "code",
   "execution_count": 117,
   "metadata": {},
   "outputs": [],
   "source": [
    "# Utilizar la función BuscarV para buscar el valor de 'Edad' en df2 basado en 'ID' en df1\n",
    "#df['SITIO'] = df['POLIZA'].map(dfcat_sit.set_index('POLIZA')['SITIO'])\n",
    "#df.columns"
   ]
  },
  {
   "cell_type": "code",
   "execution_count": 118,
   "metadata": {},
   "outputs": [],
   "source": [
    "df = pd.merge(df,dfcat_sit,on='Key',how='left')"
   ]
  },
  {
   "cell_type": "code",
   "execution_count": 119,
   "metadata": {},
   "outputs": [
    {
     "data": {
      "text/plain": [
       "Index(['Sitio', '# Empleado', 'A. Paterno', 'A. Materno', 'Nombre Completo',\n",
       "       'F. Nacimiento', 'Género', 'Parentesco', 'F. Alta/Baja', 'Movimiento',\n",
       "       'Descripción del cambio', 'F. Aprobación', ' ID', 'Pol_x', 'Sit_x',\n",
       "       'Key', 'Key_Pol', 'No de Certificado', 'NUMERO DE POLIZA GNP', 'POLIZA',\n",
       "       'SITIO', 'Pol_y', 'Sit_y', 'Razón social', 'GMM', 'GMM LENTES',\n",
       "       'Observaciones'],\n",
       "      dtype='object')"
      ]
     },
     "execution_count": 119,
     "metadata": {},
     "output_type": "execute_result"
    }
   ],
   "source": [
    "\n",
    "df = pd.merge(df,dfcat_pol,on='Key_Pol',how='left')\n",
    "df['Observaciones'] = df['Descripción del cambio']\n",
    "df.columns\n",
    "\n"
   ]
  },
  {
   "cell_type": "code",
   "execution_count": 120,
   "metadata": {},
   "outputs": [],
   "source": [
    "#Edicion de la fecha de nacimmiento \n",
    "df['F. Nacimiento'] = pd.to_datetime(df['F. Nacimiento'], format='%d/%m/%Y %I:%M:%S %p')\n",
    "df['F. Nacimiento'] = df['F. Nacimiento'].dt.strftime('%d/%m/%Y')\n",
    "\n",
    "#Edicion de la fecha de movimiento \n",
    "df['F. Alta/Baja'] = pd.to_datetime(df['F. Alta/Baja'], format='%d/%m/%Y %I:%M:%S %p')\n",
    "df['F. Alta/Baja'] = df['F. Alta/Baja'].dt.strftime('%d/%m/%Y')\n"
   ]
  },
  {
   "cell_type": "code",
   "execution_count": 121,
   "metadata": {},
   "outputs": [],
   "source": [
    "\n",
    "#Edición No certificado \n",
    "df['No de Certificado'] = df['No de Certificado'].astype(str)\n",
    "df['No de Certificado'] = df['No de Certificado'].str[1:]"
   ]
  },
  {
   "cell_type": "code",
   "execution_count": 122,
   "metadata": {},
   "outputs": [
    {
     "data": {
      "text/plain": [
       "Index(['Contratante', 'POLIZA GMM', 'POLIZA LENTES', 'SITIO', 'No Empleado',\n",
       "       'No Certificado', 'Apellido Paterno', 'Apellido Materno', 'Nombre(s)',\n",
       "       'Fecha de Nacimiento', 'Género', 'Parentesco', 'Fecha Movimiento',\n",
       "       'Tipo Movimiento', 'Observaciones'],\n",
       "      dtype='object')"
      ]
     },
     "execution_count": 122,
     "metadata": {},
     "output_type": "execute_result"
    }
   ],
   "source": [
    "#Seleccionar las columnas\n",
    "df_xlsx = df[['Razón social','GMM', 'GMM LENTES','SITIO','# Empleado','No de Certificado',\n",
    "              'A. Paterno', 'A. Materno', 'Nombre Completo','F. Nacimiento','Género', 'Parentesco','F. Alta/Baja','Movimiento','Observaciones']]\n",
    "\n",
    "#Renombrar las columnas\n",
    "\n",
    "df_xlsx = df_xlsx.rename(columns={'Razón social':'Contratante',\n",
    "                                  'GMM':'POLIZA GMM',\n",
    "                                  'GMM LENTES':'POLIZA LENTES',\n",
    "                                  'SITIO':'SITIO',\n",
    "                                  '# Empleado':'No Empleado',\n",
    "                                  'No de Certificado':'No Certificado',\n",
    "                                  'A. Paterno':'Apellido Paterno',\n",
    "                                  'A. Materno':'Apellido Materno',\n",
    "                                  'Nombre Completo':'Nombre(s)',\n",
    "                                  'F. Nacimiento':'Fecha de Nacimiento',\n",
    "                                  'Género':'Género',\n",
    "                                  'Parentesco':'Parentesco',\n",
    "                                  'F. Alta/Baja':'Fecha Movimiento',\n",
    "                                  'Movimiento':'Tipo Movimiento',\n",
    "                                  'Observaciones':'Observaciones'                                                         \n",
    "                                  })\n",
    "\n",
    "df_xlsx.columns\n"
   ]
  },
  {
   "cell_type": "code",
   "execution_count": 123,
   "metadata": {},
   "outputs": [
    {
     "name": "stdout",
     "output_type": "stream",
     "text": [
      "Trace | Guardar archivo excel\n"
     ]
    }
   ],
   "source": [
    "print('Trace | Guardar archivo excel')\n",
    "\n",
    "from datetime import date\n",
    "fecha_actual = date.today().strftime(\"%d-%m-%Y\")\n",
    "nombre_archivo = f\"Base_Forvia_{fecha_actual}.xlsx\"\n",
    "\n",
    "\n",
    "#Guardar los archivos de excel\n",
    "df_xlsx.to_excel(Path(PathC) / 'Outputs' / NameItem / nombre_archivo, index=False)\n",
    "\n",
    "#Edición del archivo de excel\n",
    "wb = openpyxl.load_workbook( Path(PathC) / 'Outputs' / NameItem / nombre_archivo)\n",
    "sheet = wb.active\n",
    "ancho = 20\n",
    "# Recorre todas las columnas y establece el ancho deseado\n",
    "for columna in sheet.columns:\n",
    "    sheet.column_dimensions[columna[0].column_letter].width = ancho\n",
    "    #sheet.column_dimensions[columna[0].column_letter].fill = fill\n",
    "#Guardar el archivo\n",
    "wb.save(Path(PathC) / 'Outputs' / NameItem / nombre_archivo)"
   ]
  }
 ],
 "metadata": {
  "kernelspec": {
   "display_name": "Python 3",
   "language": "python",
   "name": "python3"
  },
  "language_info": {
   "codemirror_mode": {
    "name": "ipython",
    "version": 3
   },
   "file_extension": ".py",
   "mimetype": "text/x-python",
   "name": "python",
   "nbconvert_exporter": "python",
   "pygments_lexer": "ipython3",
   "version": "3.12.0"
  }
 },
 "nbformat": 4,
 "nbformat_minor": 2
}
