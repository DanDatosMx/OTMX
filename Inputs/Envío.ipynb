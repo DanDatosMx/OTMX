{
 "cells": [
  {
   "cell_type": "code",
   "execution_count": 3,
   "metadata": {},
   "outputs": [],
   "source": [
    "import win32com.client as win32\n",
    "import pandas as pd\n",
    "import os\n"
   ]
  },
  {
   "cell_type": "code",
   "execution_count": 4,
   "metadata": {},
   "outputs": [],
   "source": [
    "os.chdir('C:/OTMX')"
   ]
  },
  {
   "cell_type": "code",
   "execution_count": 9,
   "metadata": {},
   "outputs": [],
   "source": [
    "# Ruta de la carpeta que contiene los archivos Excel\n",
    "folder_path = 'C:/OTMX/Outputs/2024-043'\n",
    "\n",
    "# Obtener la lista de archivos Excel en la carpeta\n",
    "excel_files = [file for file in os.listdir(folder_path) if file.endswith('.xlsx')]\n",
    "\n",
    "# Verificar el número de archivos Excel\n",
    "num_files = len(excel_files)"
   ]
  },
  {
   "cell_type": "code",
   "execution_count": 10,
   "metadata": {},
   "outputs": [],
   "source": [
    "# Si no hay archivos Excel, mostrar un mensaje y salir del programa\n",
    "if num_files == 0:\n",
    "    print(\"No se encontraron archivos Excel en la carpeta.\")\n",
    "    exit()"
   ]
  },
  {
   "cell_type": "code",
   "execution_count": 12,
   "metadata": {},
   "outputs": [],
   "source": [
    "# Leer el primer archivo Excel de la lista\n",
    "#excel_file = os.path.join(folder_path, excel_files[0])\n",
    "#df = pd.read_excel(excel_file)\n",
    "#emails = df['correo'].tolist()"
   ]
  },
  {
   "cell_type": "code",
   "execution_count": null,
   "metadata": {},
   "outputs": [],
   "source": [
    "\n",
    "# Ruta del archivo Excel con la lista de correos\n",
    "excel_file = 'ruta_del_archivo_excel.xlsx'\n"
   ]
  },
  {
   "cell_type": "code",
   "execution_count": null,
   "metadata": {},
   "outputs": [],
   "source": [
    "\n",
    "# Leer el archivo Excel y obtener la lista de correos\n",
    "df = pd.read_excel(excel_file)\n",
    "emails = df['correo'].tolist()\n",
    "\n",
    "# Cuerpo del correo en formato HTML\n",
    "html_body = \"\"\"\n",
    "<html>\n",
    "<body>\n",
    "<h1>¡Hola!</h1>\n",
    "<p>Este es un ejemplo de un correo con formato HTML.</p>\n",
    "</body>\n",
    "</html>\n",
    "\"\"\"\n",
    "\n",
    "# Ruta del archivo Excel que deseas adjuntar\n",
    "attachment_file = 'ruta_del_archivo_adjunto.xlsx'\n",
    "\n",
    "# Crear una instancia de Outlook\n",
    "outlook = win32.Dispatch('Outlook.Application')\n",
    "\n",
    "# Crear un objeto de correo\n",
    "mail = outlook.CreateItem(0)\n",
    "\n",
    "# Agregar los destinatarios\n",
    "mail.To = ';'.join(emails)\n",
    "\n",
    "# Agregar el asunto del correo\n",
    "mail.Subject = 'Envío masivo de catálogo'\n",
    "\n",
    "# Agregar el cuerpo del correo en formato HTML\n",
    "mail.HTMLBody = html_body\n",
    "\n",
    "# Adjuntar el archivo Excel\n",
    "attachment = attachment_file\n",
    "mail.Attachments.Add(attachment)\n",
    "\n",
    "# Enviar el correo\n",
    "mail.Send()\n",
    "\n",
    "print(\"Envío masivo de correos completado.\")\n"
   ]
  }
 ],
 "metadata": {
  "kernelspec": {
   "display_name": "Python 3",
   "language": "python",
   "name": "python3"
  },
  "language_info": {
   "codemirror_mode": {
    "name": "ipython",
    "version": 3
   },
   "file_extension": ".py",
   "mimetype": "text/x-python",
   "name": "python",
   "nbconvert_exporter": "python",
   "pygments_lexer": "ipython3",
   "version": "3.12.0"
  }
 },
 "nbformat": 4,
 "nbformat_minor": 2
}
