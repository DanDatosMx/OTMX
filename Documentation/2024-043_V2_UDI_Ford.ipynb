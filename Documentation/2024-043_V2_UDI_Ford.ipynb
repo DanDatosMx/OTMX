{
 "cells": [
  {
   "cell_type": "code",
   "execution_count": 1,
   "metadata": {},
   "outputs": [],
   "source": [
    "#LLamar a las bibliotecas\n",
    "import pandas as pd\n",
    "import numpy as np\n",
    "from pathlib import Path\n",
    "import os\n",
    "from openpyxl import workbook,load_workbook\n",
    "from openpyxl.styles import PatternFill, Border, Side, Alignment, Protection, Font\n",
    "\n",
    "PathC = \"C:/OTMX\"\n",
    "NameItem = \"2024-043\"\n"
   ]
  },
  {
   "cell_type": "code",
   "execution_count": 2,
   "metadata": {},
   "outputs": [],
   "source": [
    "#Seleccionamos la base llamda malla\n",
    "#Definimos la ruta del archivo\n",
    "xlsx_dir = Path(PathC) / \"Inputs\" / NameItem"
   ]
  },
  {
   "cell_type": "code",
   "execution_count": 3,
   "metadata": {},
   "outputs": [],
   "source": [
    "# Define & create output directory\n",
    "pdf_output_dir = Path(PathC) / \"Outputs\" / NameItem\n",
    "pdf_output_dir.mkdir(parents=True, exist_ok=True)"
   ]
  },
  {
   "cell_type": "code",
   "execution_count": 4,
   "metadata": {},
   "outputs": [
    {
     "data": {
      "text/plain": [
       "Index(['Tipo', 'BID', 'Póliza', 'Fracción', 'Endoso', 'Inicio vigencia',\n",
       "       'Fin vigencia', 'Plazo', 'Descripción', 'Prima Neta', 'Prima Total',\n",
       "       'UDI', '% UDI', 'Cliente', 'Moneda', 'Periodo', 'Producto',\n",
       "       'Aseguradora', 'Agencia'],\n",
       "      dtype='object')"
      ]
     },
     "execution_count": 4,
     "metadata": {},
     "output_type": "execute_result"
    }
   ],
   "source": [
    "\n",
    "#Dataframe\n",
    "Name01 = \"Layout_UDI_Ford.xlsx\"\n",
    "PathFileName01 = xlsx_dir / Name01\n",
    "df01 = pd.read_excel(PathFileName01)\n",
    "df01.columns"
   ]
  },
  {
   "cell_type": "code",
   "execution_count": 5,
   "metadata": {},
   "outputs": [
    {
     "data": {
      "text/plain": [
       "array(['CDA PENINSULA, S.A. DE .C.V', 'SUPER AUTOS JALAPA, S.A. DE C.V.',\n",
       "       'TABASCO AUTOMOVILÍSTICA, S.A. DE C.V.',\n",
       "       'PRODUCTOS AUTOMOTRICES, S.A. DE C.V.',\n",
       "       'PICACHO AUTOMOTRIZ, S.A. DE C.V.',\n",
       "       'SÁNCHEZ AUTOMOTRIZ, S.A. DE C.V.',\n",
       "       'ALDEN SERVICIO IRAPUATO, S.A. DE C.V.',\n",
       "       'AUTOMOTRIZ MONTERREY, S.A.  de C.V.', 'RIVERA, S.A. DE C.V.',\n",
       "       'GIMSA AUTOMOTRIZ, S.A. DE C.V.', 'LINCOLN ESMERALDA ZAPATA',\n",
       "       'Auto Comercial Santa Fe, S.A. de C.V.',\n",
       "       'RAVISA MOTORS, S.A. DE C.V. (Querétaro)',\n",
       "       'PLASENCIA MOTORS DE GUADALAJARA, S.A. DE C.V.',\n",
       "       'CASA RAMOS, S.A.', 'MENDIVIL MOTORS, S.A. DE C.V.',\n",
       "       'MYLSA, S.A. DE C.V.', 'AUTOS MIL CIEN, S.A. DE C.V.'],\n",
       "      dtype=object)"
      ]
     },
     "execution_count": 5,
     "metadata": {},
     "output_type": "execute_result"
    }
   ],
   "source": [
    "#Sacamos los valores únicos de la agencias\n",
    "df01[\"Agencia\"].unique()"
   ]
  },
  {
   "cell_type": "code",
   "execution_count": 6,
   "metadata": {},
   "outputs": [],
   "source": [
    "#Establecemos el bucle para el análisis\n",
    "import openpyxl\n",
    "from openpyxl.styles import PatternFill, Font\n",
    "from openpyxl import Workbook\n"
   ]
  },
  {
   "cell_type": "code",
   "execution_count": 7,
   "metadata": {},
   "outputs": [],
   "source": [
    "# Puedes crear un objeto de estilo para el fondo azul y letras blancas\n",
    "fill = PatternFill(start_color=\"0000FF\", end_color=\"0000FF\", fill_type=\"solid\")\n",
    "font = Font(color=\"FFFFFF\")\n"
   ]
  },
  {
   "cell_type": "code",
   "execution_count": 8,
   "metadata": {},
   "outputs": [],
   "source": [
    "from openpyxl.styles import PatternFill, Font\n",
    "from openpyxl import Workbook\n",
    "\n",
    "for x in df01[\"Agencia\"].unique():\n",
    "    df_temp = df01[df01[\"Agencia\"]== x]\n",
    "    #Convertimos el archivo de excel\n",
    "    df_temp.to_excel(pdf_output_dir / f\"Archivo_UDI_Agencia_{x}.xlsx\", index = False)\n",
    "\n",
    "    #Edición del archivo de excel\n",
    "    wb = openpyxl.load_workbook(pdf_output_dir / f\"Archivo_UDI_Agencia_{x}.xlsx\")\n",
    "    sheet = wb.active\n",
    "    \n",
    "    ancho = 20\n",
    "    # Recorre todas las columnas y establece el ancho deseado\n",
    "    for columna in sheet.columns:\n",
    "        sheet.column_dimensions[columna[0].column_letter].width = ancho\n",
    "        #sheet.column_dimensions[columna[0].column_letter].fill = fill\n",
    " \n",
    "    #Insertar Filas\n",
    "\n",
    "    #Insertar logo Marsh\n",
    "\n",
    "    #Guardar el archivo\n",
    "    wb.save(pdf_output_dir / f\"Archivo_UDI_Agencia_{x}.xlsx\")\n"
   ]
  }
 ],
 "metadata": {
  "kernelspec": {
   "display_name": "Python 3",
   "language": "python",
   "name": "python3"
  },
  "language_info": {
   "codemirror_mode": {
    "name": "ipython",
    "version": 3
   },
   "file_extension": ".py",
   "mimetype": "text/x-python",
   "name": "python",
   "nbconvert_exporter": "python",
   "pygments_lexer": "ipython3",
   "version": "3.12.0"
  }
 },
 "nbformat": 4,
 "nbformat_minor": 2
}
