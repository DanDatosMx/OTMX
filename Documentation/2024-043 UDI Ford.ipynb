{
 "cells": [
  {
   "cell_type": "code",
   "execution_count": 1,
   "metadata": {},
   "outputs": [],
   "source": [
    "#LLamar a las bibliotecas\n",
    "import pandas as pd\n",
    "import numpy as np\n",
    "from pathlib import Path\n",
    "import os\n",
    "from openpyxl import workbook,load_workbook\n",
    "from openpyxl.styles import PatternFill, Border, Side, Alignment, Protection, Font\n",
    "\n",
    "PathC = \"C:/OTMX\"\n",
    "NameItem = \"2024-043\"\n"
   ]
  },
  {
   "cell_type": "code",
   "execution_count": 2,
   "metadata": {},
   "outputs": [],
   "source": [
    "#Seleccionamos la base llamda malla\n",
    "#Definimos la ruta del archivo\n",
    "xlsx_dir = Path(PathC) / \"Inputs\" / NameItem"
   ]
  },
  {
   "cell_type": "code",
   "execution_count": 3,
   "metadata": {},
   "outputs": [],
   "source": [
    "# Define & create output directory\n",
    "pdf_output_dir = Path(PathC) / \"Outputs\" / NameItem\n",
    "pdf_output_dir.mkdir(parents=True, exist_ok=True)"
   ]
  },
  {
   "cell_type": "code",
   "execution_count": 4,
   "metadata": {},
   "outputs": [
    {
     "data": {
      "text/plain": [
       "<bound method NDFrame.head of        POLIZA CODMONEDA APELLIDORAZONSOCIAL  BIDUDI  BIDFORD\n",
       "0    30846404       MXP       PaternoPrueba  F00511      511\n",
       "1    30846405       MXP       PaternoPrueba  F00687      687\n",
       "2    30846406       MXP       PaternoPrueba  F00633      633\n",
       "3    30846407       MXP       PaternoPrueba  F00633      633\n",
       "4    30846409       MXP       PaternoPrueba  F00046       46\n",
       "..        ...       ...                 ...     ...      ...\n",
       "710  30847330       MXP                 NaN  F00072       72\n",
       "711  30847331       MXP              CORTES  F00485      485\n",
       "712  30847332       MXP              CORTES  F00485      485\n",
       "713  30847333       MXP              CORTES  F00485      485\n",
       "714  30847334       MXP              CORTES  F00697      697\n",
       "\n",
       "[715 rows x 5 columns]>"
      ]
     },
     "execution_count": 4,
     "metadata": {},
     "output_type": "execute_result"
    }
   ],
   "source": [
    "\n",
    "#Dataframe\n",
    "Name01 = \"Data_Malla.xlsx\"\n",
    "PathFileName01 = xlsx_dir / Name01\n",
    "df01 = pd.read_excel(PathFileName01)\n",
    "df01.columns\n",
    "df01 = df01[['CODPOLIZA','CODMONEDA','APELLIDORAZONSOCIAL','BIDUDI','BIDFORD']]\n",
    "df01 = df01.rename(columns={'CODPOLIZA':'POLIZA'})\n",
    "df01.head"
   ]
  },
  {
   "cell_type": "code",
   "execution_count": 5,
   "metadata": {},
   "outputs": [
    {
     "data": {
      "text/plain": [
       "<bound method NDFrame.head of         POLIZA                                         AGENCIA  \\\n",
       "0     30846404                CEVER AZCAPOTZALCO, S.A. DE C.V.   \n",
       "1       500000                CEVER AZCAPOTZALCO, S.A. DE C.V.   \n",
       "2     30846405                  GIMSA AUTOMOTRIZ, S.A. DE C.V.   \n",
       "3       500001                  GIMSA AUTOMOTRIZ, S.A. DE C.V.   \n",
       "4     30846406  AUTOS DE HERMOSILLO, S.A. DE C.V. (HERMOSILLO)   \n",
       "...        ...                                             ...   \n",
       "4846    500845                  AUTOMOTRIZ ELFER, S.A. DE C.V.   \n",
       "4847  30847333                  AUTOMOTRIZ ELFER, S.A. DE C.V.   \n",
       "4848    500846                  AUTOMOTRIZ ELFER, S.A. DE C.V.   \n",
       "4849  30847334                   ACASA PERINORTE, S.A. DE C.V.   \n",
       "4850    500847                   ACASA PERINORTE, S.A. DE C.V.   \n",
       "\n",
       "                                            DESCRIPCION  MODELO  \\\n",
       "0     TR1 TITANIUM PLUS FWD SUV AUT AA EE CD BA QC V...    2024   \n",
       "1     TR1 TITANIUM PLUS FWD SUV AUT AA EE CD BA QC V...    2024   \n",
       "2     TR3 AMBIENTE FWD SUV AUT AA EE CD BA 187HP ABS...    2024   \n",
       "3     TR3 AMBIENTE FWD SUV AUT AA EE CD BA 187HP ABS...    2024   \n",
       "4     TR1 TITANIUM PLUS FWD SUV AUT AA EE CD BA QC V...    2024   \n",
       "...                                                 ...     ...   \n",
       "4846  TR3 AMBIENTE FWD SUV AUT AA EE CD BA 187HP ABS...    2024   \n",
       "4847  TR1 TITANIUM PLUS FWD SUV AUT AA EE CD BA QC V...    2024   \n",
       "4848  TR1 TITANIUM PLUS FWD SUV AUT AA EE CD BA QC V...    2024   \n",
       "4849  TR2 TREND FWD SUV AUT AA EE CD BA QC 187HP ABS...    2024   \n",
       "4850  TR2 TREND FWD SUV AUT AA EE CD BA QC 187HP ABS...    2024   \n",
       "\n",
       "     ESTATUS_POLIZA  FECHA_PAGO  PRIMA_NETA_POLIZA  PRIMA_TOTAL_POLIZA MARCA  \\\n",
       "0           VIGENTE         NaN       13189.655273        15300.000000  FORD   \n",
       "1           VIGENTE         NaN        1986.124756         2186.124756  FORD   \n",
       "2           VIGENTE         NaN       21374.146484        25548.007812  FORD   \n",
       "3           VIGENTE         NaN           0.003840          200.003845  FORD   \n",
       "4           VIGENTE         NaN       43615.125000        51347.542969  FORD   \n",
       "...             ...         ...                ...                 ...   ...   \n",
       "4846        VIGENTE         NaN        1203.409912         1403.409912  FORD   \n",
       "4847        VIGENTE         NaN       10898.276367        12990.000000  FORD   \n",
       "4848        VIGENTE         NaN        1152.000000         1352.000000  FORD   \n",
       "4849        VIGENTE         NaN       10898.276367        12990.000000  FORD   \n",
       "4850        VIGENTE         NaN        1152.000000         1352.000000  FORD   \n",
       "\n",
       "               NO_SERIE  Referencia        CONTRATO INI_VIG_RECIBO  \\\n",
       "0     WF0CP6B91G1B56352         NaN           61606     2024-04-05   \n",
       "1     WF0CP6B91G1B56352         NaN           61606     2024-04-05   \n",
       "2     LJXBS5A32RYF34774         NaN             NaN     2024-04-05   \n",
       "3     LJXBS5A32RYF34774         NaN             NaN     2024-04-05   \n",
       "4     PRUEBA14142525124         NaN          784512     2024-04-05   \n",
       "...                 ...         ...             ...            ...   \n",
       "4846  1G11C5SL7EF399776         NaN  75745745674574     2024-04-23   \n",
       "4847  1G8ZY12711Z285850         NaN  45364754345675     2024-04-23   \n",
       "4848  1G8ZY12711Z285850         NaN  45364754345675     2024-04-23   \n",
       "4849  SALMF154X6A230867         NaN  75685685685685     2024-04-23   \n",
       "4850  SALMF154X6A230867         NaN  75685685685685     2024-04-23   \n",
       "\n",
       "     FIN_VIG_RECIBO  NO_RECIBO  RECIBO_TOTALES  \n",
       "0        2025-04-17          1               1  \n",
       "1        2025-04-17          1               1  \n",
       "2        2025-04-05          1               1  \n",
       "3        2025-04-05          1               1  \n",
       "4        2027-04-17          1               1  \n",
       "...             ...        ...             ...  \n",
       "4846     2025-05-01          1               1  \n",
       "4847     2025-05-01          1               1  \n",
       "4848     2025-05-01          1               1  \n",
       "4849     2025-05-01          1               1  \n",
       "4850     2025-05-01          1               1  \n",
       "\n",
       "[4851 rows x 16 columns]>"
      ]
     },
     "execution_count": 5,
     "metadata": {},
     "output_type": "execute_result"
    }
   ],
   "source": [
    "#Segundo DataFrame\n",
    "\n",
    "Name02 = \"Data_Pagadas.xlsx\"\n",
    "PathFileName02 = xlsx_dir / Name02\n",
    "df02 = pd.read_excel(PathFileName02)\n",
    "df02 = df02[['POLIZA_MARSH','AGENCIA','DESCRIPCION','MODELO','ESTATUS_POLIZA',\n",
    "             'FECHA_PAGO','PRIMA_NETA_POLIZA','PRIMA_TOTAL_POLIZA','MARCA','NO_SERIE',\n",
    "             'Referencia','CONTRATO','INI_VIG_RECIBO','FIN_VIG_RECIBO','NO_RECIBO','RECIBO_TOTALES']]\n",
    "df02 = df02.rename(columns={'POLIZA_MARSH':'POLIZA'})\n",
    "df02.head\n"
   ]
  },
  {
   "cell_type": "code",
   "execution_count": 6,
   "metadata": {},
   "outputs": [
    {
     "data": {
      "text/plain": [
       "<NumpyExtensionArray>\n",
       "[             'POLIZA',           'CODMONEDA', 'APELLIDORAZONSOCIAL',\n",
       "              'BIDUDI',             'BIDFORD',             'AGENCIA',\n",
       "         'DESCRIPCION',              'MODELO',      'ESTATUS_POLIZA',\n",
       "          'FECHA_PAGO',   'PRIMA_NETA_POLIZA',  'PRIMA_TOTAL_POLIZA',\n",
       "               'MARCA',            'NO_SERIE',          'Referencia',\n",
       "            'CONTRATO',      'INI_VIG_RECIBO',      'FIN_VIG_RECIBO',\n",
       "           'NO_RECIBO',      'RECIBO_TOTALES']\n",
       "Length: 20, dtype: object"
      ]
     },
     "execution_count": 6,
     "metadata": {},
     "output_type": "execute_result"
    }
   ],
   "source": [
    "#Unión de tablas por Inner Join\n",
    "InnerJoin = pd.merge(df01,df02, on='POLIZA', how='left')\n",
    "InnerJoin.columns.array"
   ]
  },
  {
   "cell_type": "code",
   "execution_count": 7,
   "metadata": {},
   "outputs": [],
   "source": [
    "#Ajustar columnas\n",
    "InnerJoin = InnerJoin.rename(columns={'AGENCIA':'Agencia'})\n",
    "InnerJoin = InnerJoin.rename(columns={'POLIZA':'Poliza'})\n",
    "InnerJoin = InnerJoin.rename(columns={'APELLIDORAZONSOCIAL':'Cliente'})\n",
    "InnerJoin = InnerJoin.rename(columns={'PRIMA_NETA_POLIZA':'Prima Neta'})\n",
    "InnerJoin = InnerJoin.rename(columns={'PRIMA_TOTAL_POLIZA':'Prima Total'})\n",
    "InnerJoin = InnerJoin.rename(columns={'CODMONEDA':'Moneda'})\n",
    "InnerJoin = InnerJoin.rename(columns={'ESTATUS_POLIZA':'Vigente'})\n",
    "InnerJoin = InnerJoin.rename(columns={'FECHA_PAGO':'FecCierre'})\n",
    "InnerJoin = InnerJoin.rename(columns={'MODELO':'VehAño'})\n",
    "InnerJoin = InnerJoin.rename(columns={'DESCRIPCION':'Descripción'})\n",
    "\n",
    "#'MARCA','NO_SERIE','Referencia','CONTRATO','INI_VIG_RECIBO','FIN_VIG_RECIBO','NO_RECIBO','RECIBO_TOTALES'\n",
    "\n",
    "InnerJoin = InnerJoin.rename(columns={'MARCA':'Marca'})\n",
    "InnerJoin = InnerJoin.rename(columns={'NO_SERIE':'No_Serie'})\n",
    "InnerJoin = InnerJoin.rename(columns={'CONTRATO':'Contrato'})\n",
    "InnerJoin = InnerJoin.rename(columns={'INI_VIG_RECIBO':'Ini_Vig_Recibo'})\n",
    "InnerJoin = InnerJoin.rename(columns={'FIN_VIG_RECIBO':'Fin_Vig_Recibo'})\n",
    "InnerJoin = InnerJoin.rename(columns={'NO_RECIBO':'No_Recibo'})\n",
    "InnerJoin = InnerJoin.rename(columns={'RECIBO_TOTALES':'Recibo_Totales'})\n",
    "\n",
    "\n"
   ]
  },
  {
   "cell_type": "code",
   "execution_count": 8,
   "metadata": {},
   "outputs": [],
   "source": [
    "#Campos calculados\n",
    "IVA = 0.16\n",
    "#InnerJoin['%Comisión'] = 24\n",
    "#InnerJoin['Imp.Comisión'] = InnerJoin['Prima Neta']*0.24\n",
    "#InnerJoin['%Com.Paragón'] = 6\n",
    "#InnerJoin['Imp.Com.Paragón'] = InnerJoin['Prima Neta']*0.06\n",
    "\n",
    "\n",
    "InnerJoin['%UDI_Ford'] = 0.06\n",
    "InnerJoin['UDI_Neto_Ford'] = InnerJoin['Prima Neta']*InnerJoin['%UDI_Ford']\n",
    "InnerJoin['UDI_IVA_Ford'] = InnerJoin['UDI_Neto_Ford'] * IVA\n",
    "InnerJoin['UDI_Total_Ford'] = InnerJoin['UDI_Neto_Ford'] * (1+IVA)\n",
    "\n",
    "InnerJoin['Clasificación']=''\n",
    "InnerJoin['Plazo']=''\n",
    "\n",
    "InnerJoin[\"Num_Recibos\"]= \"\"\n",
    "#InnerJoin['Num_Recibos']= pd.merge('No_Recibo','Recibo_Totales',axis=0)\n",
    "\n",
    "InnerJoin['Tipo_de_seguro'] = 'Daños'\n",
    "InnerJoin['Aseguradora'] = 'Zurich'\n",
    "\n",
    "\n"
   ]
  },
  {
   "cell_type": "code",
   "execution_count": 23,
   "metadata": {},
   "outputs": [
    {
     "ename": "KeyError",
     "evalue": "'No_Recibo'",
     "output_type": "error",
     "traceback": [
      "\u001b[1;31m---------------------------------------------------------------------------\u001b[0m",
      "\u001b[1;31mKeyError\u001b[0m                                  Traceback (most recent call last)",
      "File \u001b[1;32mc:\\Users\\u1165269\\AppData\\Local\\Programs\\Python\\Python312\\Lib\\site-packages\\pandas\\core\\indexes\\base.py:3791\u001b[0m, in \u001b[0;36mIndex.get_loc\u001b[1;34m(self, key)\u001b[0m\n\u001b[0;32m   3790\u001b[0m \u001b[38;5;28;01mtry\u001b[39;00m:\n\u001b[1;32m-> 3791\u001b[0m     \u001b[38;5;28;01mreturn\u001b[39;00m \u001b[38;5;28;43mself\u001b[39;49m\u001b[38;5;241;43m.\u001b[39;49m\u001b[43m_engine\u001b[49m\u001b[38;5;241;43m.\u001b[39;49m\u001b[43mget_loc\u001b[49m\u001b[43m(\u001b[49m\u001b[43mcasted_key\u001b[49m\u001b[43m)\u001b[49m\n\u001b[0;32m   3792\u001b[0m \u001b[38;5;28;01mexcept\u001b[39;00m \u001b[38;5;167;01mKeyError\u001b[39;00m \u001b[38;5;28;01mas\u001b[39;00m err:\n",
      "File \u001b[1;32mindex.pyx:152\u001b[0m, in \u001b[0;36mpandas._libs.index.IndexEngine.get_loc\u001b[1;34m()\u001b[0m\n",
      "File \u001b[1;32mindex.pyx:181\u001b[0m, in \u001b[0;36mpandas._libs.index.IndexEngine.get_loc\u001b[1;34m()\u001b[0m\n",
      "File \u001b[1;32mpandas\\_libs\\hashtable_class_helper.pxi:7080\u001b[0m, in \u001b[0;36mpandas._libs.hashtable.PyObjectHashTable.get_item\u001b[1;34m()\u001b[0m\n",
      "File \u001b[1;32mpandas\\_libs\\hashtable_class_helper.pxi:7088\u001b[0m, in \u001b[0;36mpandas._libs.hashtable.PyObjectHashTable.get_item\u001b[1;34m()\u001b[0m\n",
      "\u001b[1;31mKeyError\u001b[0m: 'No_Recibo'",
      "\nThe above exception was the direct cause of the following exception:\n",
      "\u001b[1;31mKeyError\u001b[0m                                  Traceback (most recent call last)",
      "Cell \u001b[1;32mIn[23], line 1\u001b[0m\n\u001b[1;32m----> 1\u001b[0m InnerJoin[\u001b[38;5;124m'\u001b[39m\u001b[38;5;124mNum_Recibos\u001b[39m\u001b[38;5;124m'\u001b[39m] \u001b[38;5;241m=\u001b[39m \u001b[43mInnerJoin\u001b[49m\u001b[43m[\u001b[49m\u001b[38;5;124;43m'\u001b[39;49m\u001b[38;5;124;43mNo_Recibo\u001b[39;49m\u001b[38;5;124;43m'\u001b[39;49m\u001b[43m]\u001b[49m\u001b[38;5;241m.\u001b[39mstr\u001b[38;5;241m.\u001b[39mcat(InnerJoin[\u001b[38;5;124m'\u001b[39m\u001b[38;5;124mRecibo_Totales\u001b[39m\u001b[38;5;124m'\u001b[39m],sep\u001b[38;5;241m=\u001b[39m\u001b[38;5;124m'\u001b[39m\u001b[38;5;124m \u001b[39m\u001b[38;5;124m'\u001b[39m)\n",
      "File \u001b[1;32mc:\\Users\\u1165269\\AppData\\Local\\Programs\\Python\\Python312\\Lib\\site-packages\\pandas\\core\\frame.py:3893\u001b[0m, in \u001b[0;36mDataFrame.__getitem__\u001b[1;34m(self, key)\u001b[0m\n\u001b[0;32m   3891\u001b[0m \u001b[38;5;28;01mif\u001b[39;00m \u001b[38;5;28mself\u001b[39m\u001b[38;5;241m.\u001b[39mcolumns\u001b[38;5;241m.\u001b[39mnlevels \u001b[38;5;241m>\u001b[39m \u001b[38;5;241m1\u001b[39m:\n\u001b[0;32m   3892\u001b[0m     \u001b[38;5;28;01mreturn\u001b[39;00m \u001b[38;5;28mself\u001b[39m\u001b[38;5;241m.\u001b[39m_getitem_multilevel(key)\n\u001b[1;32m-> 3893\u001b[0m indexer \u001b[38;5;241m=\u001b[39m \u001b[38;5;28;43mself\u001b[39;49m\u001b[38;5;241;43m.\u001b[39;49m\u001b[43mcolumns\u001b[49m\u001b[38;5;241;43m.\u001b[39;49m\u001b[43mget_loc\u001b[49m\u001b[43m(\u001b[49m\u001b[43mkey\u001b[49m\u001b[43m)\u001b[49m\n\u001b[0;32m   3894\u001b[0m \u001b[38;5;28;01mif\u001b[39;00m is_integer(indexer):\n\u001b[0;32m   3895\u001b[0m     indexer \u001b[38;5;241m=\u001b[39m [indexer]\n",
      "File \u001b[1;32mc:\\Users\\u1165269\\AppData\\Local\\Programs\\Python\\Python312\\Lib\\site-packages\\pandas\\core\\indexes\\base.py:3798\u001b[0m, in \u001b[0;36mIndex.get_loc\u001b[1;34m(self, key)\u001b[0m\n\u001b[0;32m   3793\u001b[0m     \u001b[38;5;28;01mif\u001b[39;00m \u001b[38;5;28misinstance\u001b[39m(casted_key, \u001b[38;5;28mslice\u001b[39m) \u001b[38;5;129;01mor\u001b[39;00m (\n\u001b[0;32m   3794\u001b[0m         \u001b[38;5;28misinstance\u001b[39m(casted_key, abc\u001b[38;5;241m.\u001b[39mIterable)\n\u001b[0;32m   3795\u001b[0m         \u001b[38;5;129;01mand\u001b[39;00m \u001b[38;5;28many\u001b[39m(\u001b[38;5;28misinstance\u001b[39m(x, \u001b[38;5;28mslice\u001b[39m) \u001b[38;5;28;01mfor\u001b[39;00m x \u001b[38;5;129;01min\u001b[39;00m casted_key)\n\u001b[0;32m   3796\u001b[0m     ):\n\u001b[0;32m   3797\u001b[0m         \u001b[38;5;28;01mraise\u001b[39;00m InvalidIndexError(key)\n\u001b[1;32m-> 3798\u001b[0m     \u001b[38;5;28;01mraise\u001b[39;00m \u001b[38;5;167;01mKeyError\u001b[39;00m(key) \u001b[38;5;28;01mfrom\u001b[39;00m \u001b[38;5;21;01merr\u001b[39;00m\n\u001b[0;32m   3799\u001b[0m \u001b[38;5;28;01mexcept\u001b[39;00m \u001b[38;5;167;01mTypeError\u001b[39;00m:\n\u001b[0;32m   3800\u001b[0m     \u001b[38;5;66;03m# If we have a listlike key, _check_indexing_error will raise\u001b[39;00m\n\u001b[0;32m   3801\u001b[0m     \u001b[38;5;66;03m#  InvalidIndexError. Otherwise we fall through and re-raise\u001b[39;00m\n\u001b[0;32m   3802\u001b[0m     \u001b[38;5;66;03m#  the TypeError.\u001b[39;00m\n\u001b[0;32m   3803\u001b[0m     \u001b[38;5;28mself\u001b[39m\u001b[38;5;241m.\u001b[39m_check_indexing_error(key)\n",
      "\u001b[1;31mKeyError\u001b[0m: 'No_Recibo'"
     ]
    }
   ],
   "source": [
    "InnerJoin['Num_Recibos'] = InnerJoin['No_Recibo'].str.cat(InnerJoin['Recibo_Totales'],sep=' ')"
   ]
  },
  {
   "cell_type": "code",
   "execution_count": 9,
   "metadata": {},
   "outputs": [],
   "source": [
    "#Orden de columnas\n",
    "InnerJoin = InnerJoin[['BIDFORD','Agencia','Poliza','Marca', 'Cliente','Prima Total','Prima Neta', \n",
    "                       '%UDI_Ford','UDI_Neto_Ford','UDI_IVA_Ford','UDI_Total_Ford',\n",
    "                       'Moneda','FecCierre','Vigente','Descripción','No_Serie', 'VehAño','Aseguradora','Clasificación',\n",
    "                       'Tipo_de_seguro','Referencia', 'Contrato','Plazo','Ini_Vig_Recibo','Fin_Vig_Recibo','Num_Recibos']]"
   ]
  },
  {
   "cell_type": "code",
   "execution_count": 10,
   "metadata": {},
   "outputs": [
    {
     "data": {
      "text/plain": [
       "Index(['BIDFORD', 'Agencia', 'Poliza', 'Marca', 'Cliente', 'Prima Total',\n",
       "       'Prima Neta', '%UDI_Ford', 'UDI_Neto_Ford', 'UDI_IVA_Ford',\n",
       "       'UDI_Total_Ford', 'Moneda', 'FecCierre', 'Vigente', 'Descripción',\n",
       "       'No_Serie', 'VehAño', 'Aseguradora', 'Clasificación', 'Tipo_de_seguro',\n",
       "       'Referencia', 'Contrato', 'Plazo', 'Ini_Vig_Recibo', 'Fin_Vig_Recibo',\n",
       "       'Num_Recibos'],\n",
       "      dtype='object')"
      ]
     },
     "execution_count": 10,
     "metadata": {},
     "output_type": "execute_result"
    }
   ],
   "source": [
    "#Base con todos los registros \n",
    "ws =\"DataUDI\"\n",
    "InnerJoin.to_excel(pdf_output_dir / 'All_Data_UDI_Ford.xlsx', sheet_name=ws, index=False)\n",
    "InnerJoin.columns"
   ]
  },
  {
   "cell_type": "code",
   "execution_count": 11,
   "metadata": {},
   "outputs": [
    {
     "data": {
      "text/plain": [
       "array(['CEVER AZCAPOTZALCO, S.A. DE C.V.',\n",
       "       'GIMSA AUTOMOTRIZ, S.A. DE C.V.',\n",
       "       'AUTOS DE HERMOSILLO, S.A. DE C.V. (HERMOSILLO)',\n",
       "       'PLASENCIA MOTORS DE GUADALAJARA, S.A. DE C.V.',\n",
       "       'CMAGUASCALIENTES S.A. DE C.V.', 'AUTO COMERCIAL SANTA FE, S.A.',\n",
       "       'TABASCO AUTOMOVILÍSTICA, S.A. DE C.V.',\n",
       "       'VEHÍCULOS DE TEZIUTLÁN, S.A. DE C.V.',\n",
       "       'AUTOMOTRIZ BAJACAL, S.A. DE C.V.',\n",
       "       'AUTOMOTRIZ JALBRA , S.A. DE C.V.',\n",
       "       'JACOBO RODRIGUEZ MOTORS, S.A. DE C.V.', 'ZAPATA, S.A. DE C.V.',\n",
       "       'AUTOMOVILÍSTICA ANDRADE, S.A. DE C.V.',\n",
       "       'DIST. DE AUTOCAM. DE CHIAPAS, S.A. DE C.V.',\n",
       "       'PRODUCTOS AUTOMOTRICES, S.A. DE C.V.',\n",
       "       'ACASA PERINORTE, S.A. DE C.V.', 'CDA PENINSULA, S.A. DE .C.V',\n",
       "       'AUTOS SS DE SAN LUIS POTOSI, SA DE CV',\n",
       "       'AUTOMOTRIZ MONTERREY, S.A. DE C.V.',\n",
       "       'AUTOMOTORES CUMBRES, S.A. DE C.V.',\n",
       "       'AUTOMOTORES COAHUILENSES, S.A. DE C.V.',\n",
       "       'SÁNCHEZ AUTOMOTRIZ, S.A. DE C.,V.',\n",
       "       'PLASENCIA DE NAYARIT, S.A. DE C.V.',\n",
       "       'AUTOS SS DE IRAPUATO, S.A. DE C.V.',\n",
       "       'LEÓN AUTOMOTRIZ, S.A. DE C.V.', 'AUTOMOVILES DE CABORCA SA DE CV',\n",
       "       'AUTOMOTRIZ REYNOSA, S.A. DE C.V.',\n",
       "       'AUTOS Y TRACTORES DE CULIACÁN, SA DE CV',\n",
       "       'CAR ONE VALLE, S.A. DE C.V.',\n",
       "       'SUPER AUTOS DE JALAPA, S.A. DE C.V.',\n",
       "       'AUTOS Y ACCESORIOS, S.A. DE C.V. (OBREGON)',\n",
       "       'DESERTICA AUTOMOTRIZ, S.A. DE C.V. (TIJUANA)',\n",
       "       'DIMOTORS COATZACOALCOS S.A. DE C.V.',\n",
       "       'SURMAN MEXICO, S.A. DE C.V.', 'RIVERA, S.A. DE C.V.',\n",
       "       'CAMBHER NORESTE, S.A. DE C.V. (TLALPAN)',\n",
       "       'LOMAS AUTOMOTRIZ, S.A DE C.V.',\n",
       "       'AUTOCAMIONES UNIVERSIDAD, S.A. DE C.V.',\n",
       "       'RAVISA MOTORS, S.A. DE C.V. (Querétaro)',\n",
       "       'AUTOMOTRIZ ELFER, S.A. DE C.V.',\n",
       "       'AUTOCAMIONES DE TAPACHULA, S.A. DE C.V.',\n",
       "       'AUTOMOTRIZ MONCLOVA, S.A. DE C.V.', 'CMAMERICAS S.A. DE C.V.',\n",
       "       'DESERTICA AUTOMOTRIZ, S.A. DE C.V.', 'MYLSA, S.A. DE C.V.  (QRO)',\n",
       "       'JÍMENEZ AUTOMOTRIZ, S.A. DE C.V.', 'CEVER DURANGO, S.A. DE C.V.',\n",
       "       'AUTOMOTRIZ DEL VALLE DE BAJA CALIFORNIA, S.A. DE C.V. (MEXICALI)',\n",
       "       'PICACHO AUTOMOTRIZ, S.A. DE C.V.', 'JÍMENEZ, S.A. DE C.V.',\n",
       "       'JALISCO MOTORS, S.A.', 'GEMA AUTOMOTORES, S.A. DE C.V.',\n",
       "       'CAMBHER NORESTE, S.A. DE C.V.',\n",
       "       'PLASENCIA MAZATLÁN, S.A. DE C.V.',\n",
       "       'CAMBHER NORESTE, S.A. DE C.V. (CONDESA)',\n",
       "       'CAMBHER TORREON, S.A. DE C.V.',\n",
       "       'VISTA HERMOSA LAREDO MOTORS, S.A. DE C.V.',\n",
       "       'RIVERA, S.A. DE C.V. LORETO',\n",
       "       'AUTOS DE CALIDAD DE ZACATECAS, S.A. DE C.V.',\n",
       "       'RIVERA S.A. DE C.V. (ANGELOPOLIS)',\n",
       "       'AUTOMOTRIZ DEL VALLE DE ZAMORA, S.A. DE C.V.',\n",
       "       'LINCOLN ESMERALDA ZAPATA', 'MYLSA, S.A. DE C.V.',\n",
       "       'PLASENCIA MOTORS DE PUERTO VALLARTA, S.A. DE C.V.',\n",
       "       'AUTOCOMERCIAL INTERLOMAS',\n",
       "       'GIMSA AUTOMOTRIZ SA DE CV (LOS REYES)',\n",
       "       'CAVSA COLIMA, S.A. DE C.V.', 'MYLSA SANTA FE S.A. DE C.V',\n",
       "       'MOTORES DE MORELOS, S.A. DE C.V.',\n",
       "       'AUTOS SS DE LEÓN, SA DE CV (GUANAJUATO)',\n",
       "       'MYLSA TEHUACÁN, S.A. DE C.V.', 'ECATEPEC, S.A. DE C.V.',\n",
       "       'RAVISA MOTORS, S.A. DE C.V.', 'RISPE AUTOMOTRIZ,\\xa0S.A. DE C.V.',\n",
       "       'DINASTIA AUTOMOTRIZ MEXICO, S.A. DE C.V.',\n",
       "       'CEN. AUT. DE LA LAGUNA, S.A. DE C.V. ',\n",
       "       'DINASTÍA AUTOMOTRIZ DE OAXACA, S.A. DE C.V.',\n",
       "       'VEHÍCULOS AUTOMOTRICES DE LA PIEDAD, S.A. DE C.V.'], dtype=object)"
      ]
     },
     "execution_count": 11,
     "metadata": {},
     "output_type": "execute_result"
    }
   ],
   "source": [
    "#Sacamos los valores únicos de la agencias\n",
    "InnerJoin[\"Agencia\"].unique()"
   ]
  },
  {
   "cell_type": "code",
   "execution_count": 12,
   "metadata": {},
   "outputs": [],
   "source": [
    "#Establecemos el bucle para el análisis\n",
    "import openpyxl\n",
    "\n",
    "for x in InnerJoin[\"Agencia\"].unique():\n",
    "    df_temp = InnerJoin[InnerJoin[\"Agencia\"]== x]\n",
    "    #Convertimos el archivo de excel\n",
    "    df_temp.to_excel(pdf_output_dir / f\"Archivo_UDI_Agencia_{x}.xlsx\", index = False)\n",
    "\n",
    "    #Edición del archivo de excel\n",
    "    wb = openpyxl.load_workbook(pdf_output_dir / f\"Archivo_UDI_Agencia_{x}.xlsx\")\n",
    "    sheet = wb.active\n",
    "    \n",
    "    w = 20\n",
    "    sheet.column_dimensions['A'].width = w\n",
    "    sheet.column_dimensions['B'].width = w\n",
    "    sheet.column_dimensions['C'].width = w\n",
    "    sheet.column_dimensions['D'].width = w\n",
    "    sheet.column_dimensions['E'].width = w\n",
    "    sheet.column_dimensions['F'].width = w\n",
    "    sheet.column_dimensions['G'].width = w\n",
    "    sheet.column_dimensions['H'].width = w\n",
    "    sheet.column_dimensions['I'].width = w\n",
    "    sheet.column_dimensions['J'].width = w\n",
    "    sheet.column_dimensions['K'].width = w\n",
    "    sheet.column_dimensions['L'].width = w\n",
    "    sheet.column_dimensions['M'].width = w\n",
    "    sheet.column_dimensions['N'].width = w\n",
    "    sheet.column_dimensions['O'].width = w\n",
    "    sheet.column_dimensions['P'].width = w\n",
    "    sheet.column_dimensions['Q'].width = w\n",
    "    sheet.column_dimensions['R'].width = w\n",
    "    sheet.column_dimensions['S'].width = w\n",
    "    sheet.column_dimensions['T'].width = w\n",
    "    sheet.column_dimensions['U'].width = w\n",
    "    sheet.column_dimensions['V'].width = w\n",
    "    sheet.column_dimensions['W'].width = w\n",
    "    sheet.column_dimensions['X'].width = w\n",
    "    sheet.column_dimensions['Y'].width = w\n",
    "    sheet.column_dimensions['Z'].width = w\n",
    "\n",
    "    #Color de las columnas\n",
    "\n",
    "    #Insertar Filas\n",
    "\n",
    "    #Insertar logo Marsh\n",
    "\n",
    "    #Guardar el archivo\n",
    "    wb.save(pdf_output_dir / f\"Archivo_UDI_Agencia_{x}.xlsx\")\n"
   ]
  },
  {
   "cell_type": "code",
   "execution_count": null,
   "metadata": {},
   "outputs": [],
   "source": [
    "¡Claro! Aquí tienes un código de Python que puede leer múltiples archivos CSV en una carpeta, eliminar las tres primeras filas de cada archivo y luego combinarlos en un solo archivo:\n",
    "\n",
    "\n",
    "python\n",
    "import os\n",
    "import pandas as pd\n",
    "\n",
    "# Ruta de la carpeta que contiene los archivos CSV\n",
    "carpeta = 'ruta_de_la_carpeta'\n",
    "\n",
    "# Obtener la lista de archivos CSV en la carpeta\n",
    "archivos_csv = [archivo for archivo in os.listdir(carpeta) if archivo.endswith('.csv')]\n",
    "\n",
    "# Crear un DataFrame vacío para almacenar los datos combinados\n",
    "datos_combinados = pd.DataFrame()\n",
    "\n",
    "# Iterar sobre cada archivo CSV\n",
    "for archivo in archivos_csv:\n",
    "    # Leer el archivo CSV en un DataFrame\n",
    "    ruta_archivo = os.path.join(carpeta, archivo)\n",
    "    datos = pd.read_csv(ruta_archivo)\n",
    "    \n",
    "    # Eliminar las tres primeras filas del DataFrame\n",
    "    datos = datos.iloc[3:]\n",
    "    \n",
    "    # Agregar los datos al DataFrame combinado\n",
    "    datos_combinados = datos_combinados.append(datos, ignore_index=True)\n",
    "\n",
    "# Guardar el DataFrame combinado en un nuevo archivo CSV\n",
    "ruta_salida = 'ruta_del_archivo_salida.csv'\n",
    "datos_combinados.to_csv(ruta_salida, index=False)\n",
    "\n",
    "print(\"Archivos combinados exitosamente en\", ruta_salida)\n",
    "Asegúrate de reemplazar 'ruta_de_la_carpeta' con la ruta de la carpeta que contiene tus archivos CSV y 'ruta_del_archivo_salida.csv' con la ruta y nombre que deseas para el archivo combinado resultante.\n",
    "\n",
    "Este código utiliza la biblioteca pandas para leer y manipular los archivos CSV. Asegúrate de tener pandas instalado en tu entorno de Python antes de ejecutar el código.\n",
    "\n",
    "Espero que esto te sea útil. Si tienes alguna otra pregunta, ¡no dudes en preguntar!\n",
    "\n",
    "Why I chose this tool"
   ]
  }
 ],
 "metadata": {
  "kernelspec": {
   "display_name": "Python 3",
   "language": "python",
   "name": "python3"
  },
  "language_info": {
   "codemirror_mode": {
    "name": "ipython",
    "version": 3
   },
   "file_extension": ".py",
   "mimetype": "text/x-python",
   "name": "python",
   "nbconvert_exporter": "python",
   "pygments_lexer": "ipython3",
   "version": "3.12.0"
  }
 },
 "nbformat": 4,
 "nbformat_minor": 2
}
