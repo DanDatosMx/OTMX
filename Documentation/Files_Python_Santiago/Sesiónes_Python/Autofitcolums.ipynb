{
 "cells": [
  {
   "cell_type": "code",
   "execution_count": 38,
   "metadata": {},
   "outputs": [],
   "source": [
    "import openpyxl"
   ]
  },
  {
   "cell_type": "code",
   "execution_count": 39,
   "metadata": {},
   "outputs": [],
   "source": [
    "informe = openpyxl.load_workbook(\"C:/OTMX/Documentation/AutoFitSpecificRowAndColumn.xlsx\")\n"
   ]
  },
  {
   "cell_type": "code",
   "execution_count": 40,
   "metadata": {},
   "outputs": [],
   "source": [
    "\n",
    "sheet = informe.active\n"
   ]
  },
  {
   "cell_type": "code",
   "execution_count": 41,
   "metadata": {},
   "outputs": [],
   "source": [
    "w =20\n",
    "  \n",
    "sheet.column_dimensions['A'].width = 20\n",
    "sheet.column_dimensions['B'].width = 20\n",
    "sheet.column_dimensions['C'].width = 20\n",
    "sheet.column_dimensions['D'].width = 20\n",
    "sheet.column_dimensions['E'].width = 20\n",
    "sheet.column_dimensions['F'].width = 20\n",
    "sheet.column_dimensions['G'].width = 20\n",
    "sheet.column_dimensions['H'].width = 20\n",
    "sheet.column_dimensions['I'].width = 20\n",
    "sheet.column_dimensions['J'].width = 20\n",
    "sheet.column_dimensions['K'].width = 20\n",
    "sheet.column_dimensions['L'].width = 20\n",
    "sheet.column_dimensions['M'].width = 20\n",
    "sheet.column_dimensions['N'].width = 20\n",
    "sheet.column_dimensions['O'].width = 20\n",
    "sheet.column_dimensions['P'].width = 20\n",
    "sheet.column_dimensions['Q'].width = 20\n",
    "\n",
    "\n",
    "\n"
   ]
  },
  {
   "cell_type": "code",
   "execution_count": 42,
   "metadata": {},
   "outputs": [],
   "source": [
    "\n",
    "informe.save(r'archivo.xlsx')"
   ]
  }
 ],
 "metadata": {
  "kernelspec": {
   "display_name": "Python 3",
   "language": "python",
   "name": "python3"
  },
  "language_info": {
   "codemirror_mode": {
    "name": "ipython",
    "version": 3
   },
   "file_extension": ".py",
   "mimetype": "text/x-python",
   "name": "python",
   "nbconvert_exporter": "python",
   "pygments_lexer": "ipython3",
   "version": "3.12.0"
  }
 },
 "nbformat": 4,
 "nbformat_minor": 2
}
