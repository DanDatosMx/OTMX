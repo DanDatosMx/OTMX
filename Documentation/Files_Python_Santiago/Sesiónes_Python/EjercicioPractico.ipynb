{
 "cells": [
  {
   "cell_type": "code",
   "execution_count": 1,
   "metadata": {},
   "outputs": [],
   "source": [
    "import pandas as pd #manejo de datos\n",
    "import os #Para trabajar con los directorios del equipo\n",
    "#import locale #Para cambiar el idioma local a español\n"
   ]
  },
  {
   "cell_type": "code",
   "execution_count": 2,
   "metadata": {},
   "outputs": [],
   "source": [
    "#Subir los datos\n",
    "data = pd.read_excel('C:/OTMX/Documentation/DATAMARSH.xlsx')"
   ]
  },
  {
   "cell_type": "code",
   "execution_count": 3,
   "metadata": {},
   "outputs": [
    {
     "data": {
      "text/plain": [
       "MES DESDE                          int64\n",
       "MES FACTURA                        int64\n",
       "NOMBRE AGENCIA                    object\n",
       "NOMBRE CORTO                      object\n",
       "ESTADO                            object\n",
       "GRUPO                             object\n",
       "SEGMENTO GRUPO                    object\n",
       "RAMO                               int64\n",
       "SUB RAMO                           int64\n",
       "DESCRIPCION FORMA PAGO            object\n",
       "FRECUENCIA PAGO                    int64\n",
       "UNIDAD                            object\n",
       "NOMBRE DEL PRODUCTO               object\n",
       "NOMBRE DEL PLAN                   object\n",
       "NOMBRE ZONA                       object\n",
       "TIPO MOV.POLIZA                   object\n",
       "TIPO MOVIMIENTO                   object\n",
       "NUMERO_DE_POLIZA                  object\n",
       "SEGMENTO POLIZA                   object\n",
       "FECHA_FACTURA             datetime64[ns]\n",
       "DESDE                     datetime64[ns]\n",
       "HASTA                     datetime64[ns]\n",
       "FECHA EMISION             datetime64[ns]\n",
       "POR_COMISION                       int64\n",
       "POR_COMISION_VIDA                  int64\n",
       "SECUENCIA                          int64\n",
       "NOMBRE NEGOCIO                    object\n",
       "PRIMA                            float64\n",
       "MONTO                            float64\n",
       "TOTAL_COMISION                   float64\n",
       "COMISION_VIDA                    float64\n",
       "COMISION                         float64\n",
       "SUMA ASEGURADA                   float64\n",
       "PRODUCTO                          object\n",
       "SUBSEGEMENTO                      object\n",
       "dtype: object"
      ]
     },
     "execution_count": 3,
     "metadata": {},
     "output_type": "execute_result"
    }
   ],
   "source": [
    "#ver los tipos de dataframe\n",
    "data.dtypes"
   ]
  },
  {
   "cell_type": "code",
   "execution_count": 4,
   "metadata": {},
   "outputs": [
    {
     "data": {
      "text/plain": [
       "2710.0016129032247"
      ]
     },
     "execution_count": 4,
     "metadata": {},
     "output_type": "execute_result"
    }
   ],
   "source": [
    "#Obtener la medida de la columna monto\n",
    "data['MONTO'].mean()"
   ]
  },
  {
   "cell_type": "code",
   "execution_count": 5,
   "metadata": {},
   "outputs": [],
   "source": [
    "#Hacer un subconjunto\n",
    "\n",
    "data.columns\n",
    "\n",
    "data01 = data[['NUMERO_DE_POLIZA', 'NOMBRE CORTO','ESTADO','DESDE', 'HASTA','MONTO']]\n"
   ]
  },
  {
   "cell_type": "code",
   "execution_count": 6,
   "metadata": {},
   "outputs": [],
   "source": [
    "#Renombrar columna\n",
    "data01 = data01.rename(columns={'NUMERO_DE_POLIZA': 'POLIZA'})\n",
    "\n"
   ]
  },
  {
   "cell_type": "code",
   "execution_count": 7,
   "metadata": {},
   "outputs": [],
   "source": [
    "#Reempalzar comilla\n",
    "\n",
    "data01['POLIZA']= data01['POLIZA'].str.replace(\"'\",\"\")\n"
   ]
  },
  {
   "cell_type": "code",
   "execution_count": 8,
   "metadata": {},
   "outputs": [],
   "source": [
    "#Columnas año\n",
    "\n",
    "data01['AÑO'] = data01['DESDE'].dt.strftime('%Y')"
   ]
  },
  {
   "cell_type": "code",
   "execution_count": 9,
   "metadata": {},
   "outputs": [],
   "source": [
    "#Columna Mes\n",
    "data01['MES'] = data01['DESDE'].dt.strftime('%m')"
   ]
  },
  {
   "cell_type": "code",
   "execution_count": 10,
   "metadata": {},
   "outputs": [],
   "source": [
    "#Hacer un filtro por el mes 3\n",
    "data01 = data01[data01['MES']=='03']\n"
   ]
  },
  {
   "cell_type": "code",
   "execution_count": 11,
   "metadata": {},
   "outputs": [],
   "source": [
    "#Exdportar archivos\n",
    "\n",
    "import xlsxwriter\n",
    "\n",
    "os.chdir('C:/OTMX/Outputs/Back')\n",
    "\n",
    "writer = pd.ExcelWriter('Files.xlsx')\n",
    "\n",
    "data.to_excel(writer,sheet_name='df',index=False)\n",
    "data01.to_excel(writer,sheet_name='df01',index=False)\n",
    "\n",
    "writer.close()\n"
   ]
  }
 ],
 "metadata": {
  "kernelspec": {
   "display_name": "Python 3",
   "language": "python",
   "name": "python3"
  },
  "language_info": {
   "codemirror_mode": {
    "name": "ipython",
    "version": 3
   },
   "file_extension": ".py",
   "mimetype": "text/x-python",
   "name": "python",
   "nbconvert_exporter": "python",
   "pygments_lexer": "ipython3",
   "version": "3.12.0"
  }
 },
 "nbformat": 4,
 "nbformat_minor": 2
}
