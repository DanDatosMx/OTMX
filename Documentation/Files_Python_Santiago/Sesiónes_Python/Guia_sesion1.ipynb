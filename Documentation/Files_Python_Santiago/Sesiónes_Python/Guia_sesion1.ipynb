{
 "cells": [
  {
   "cell_type": "markdown",
   "metadata": {},
   "source": [
    "CAPACITACIONES PYTHON"
   ]
  },
  {
   "cell_type": "markdown",
   "metadata": {},
   "source": [
    "Siempre importar las librerías primero"
   ]
  },
  {
   "cell_type": "code",
   "execution_count": 44,
   "metadata": {},
   "outputs": [],
   "source": [
    "import pandas as pd\n",
    "import os"
   ]
  },
  {
   "cell_type": "markdown",
   "metadata": {},
   "source": [
    "Subir archivos de Excel"
   ]
  },
  {
   "cell_type": "code",
   "execution_count": 45,
   "metadata": {},
   "outputs": [],
   "source": [
    "data = pd.read_excel('C:/Users/u1295560/OneDrive - MMC/Documents/Archivos cap python/DATAMARSH-MARZO.xls') #se coloca la ruta completa incluyendo el nombre de archivo y extensión"
   ]
  },
  {
   "cell_type": "markdown",
   "metadata": {},
   "source": [
    "Subir CSV"
   ]
  },
  {
   "cell_type": "code",
   "execution_count": 46,
   "metadata": {},
   "outputs": [],
   "source": [
    "datacsv = pd.read_csv('C:/Users/u1295560/OneDrive - MMC/Documents/Archivos cap python/DATAMARSH-ABRIL.csv', sep=\",\")"
   ]
  },
  {
   "cell_type": "markdown",
   "metadata": {},
   "source": [
    "Subir TXT"
   ]
  },
  {
   "cell_type": "code",
   "execution_count": 47,
   "metadata": {},
   "outputs": [
    {
     "name": "stderr",
     "output_type": "stream",
     "text": [
      "C:\\Users\\u1295560\\AppData\\Local\\Temp\\ipykernel_24092\\2853932932.py:1: DtypeWarning: Columns (0,2,3,12,13,14,15,17,18,20,28,29,30) have mixed types. Specify dtype option on import or set low_memory=False.\n",
      "  datatxt = pd.read_csv('C:/Users/u1295560/OneDrive - MMC/Documents/Archivos cap python/anexos_conciliacion_20231018111933.txt', sep=\";\", encoding='UTF-8')\n"
     ]
    }
   ],
   "source": [
    "datatxt = pd.read_csv('C:/Users/u1295560/OneDrive - MMC/Documents/Archivos cap python/anexos_conciliacion_20231018111933.txt', sep=\";\", encoding='UTF-8')"
   ]
  },
  {
   "cell_type": "markdown",
   "metadata": {},
   "source": [
    "Subir todos los archivos de una carpeta"
   ]
  },
  {
   "cell_type": "code",
   "execution_count": 48,
   "metadata": {},
   "outputs": [],
   "source": [
    "ruta = 'C:/Users/u1295560/OneDrive - MMC/Documents/Archivos cap python/CONJUNTO'\n",
    "\n",
    "for archivo in os.listdir(ruta):\n",
    "    if archivo.endswith('.xlsx') or archivo.endswith('.xls'):\n",
    "        ruta_archivo = os.path.join(ruta, archivo)\n",
    "\n",
    "        df = pd.read_excel(ruta_archivo)\n",
    "\n",
    "        nombre_variable =archivo.replace('.xlsx','').replace('.xls','')\n",
    "        globals()[nombre_variable] = df\n",
    "        \n"
   ]
  },
  {
   "cell_type": "markdown",
   "metadata": {},
   "source": [
    "Descripción general de los datos que aparecen como numéricos"
   ]
  },
  {
   "cell_type": "code",
   "execution_count": 49,
   "metadata": {},
   "outputs": [
    {
     "data": {
      "text/html": [
       "<div>\n",
       "<style scoped>\n",
       "    .dataframe tbody tr th:only-of-type {\n",
       "        vertical-align: middle;\n",
       "    }\n",
       "\n",
       "    .dataframe tbody tr th {\n",
       "        vertical-align: top;\n",
       "    }\n",
       "\n",
       "    .dataframe thead th {\n",
       "        text-align: right;\n",
       "    }\n",
       "</style>\n",
       "<table border=\"1\" class=\"dataframe\">\n",
       "  <thead>\n",
       "    <tr style=\"text-align: right;\">\n",
       "      <th></th>\n",
       "      <th>AÑO HASTA</th>\n",
       "      <th>MES DESDE</th>\n",
       "      <th>MES FACTURA</th>\n",
       "      <th>GRUPO SECUNDARIO</th>\n",
       "      <th>RAMO</th>\n",
       "      <th>SUB RAMO</th>\n",
       "      <th>FRECUENCIA PAGO</th>\n",
       "      <th>PORC. COM. COMPARTIDA</th>\n",
       "      <th>COMISION COMPARTIDA</th>\n",
       "      <th>POLIZA</th>\n",
       "      <th>...</th>\n",
       "      <th>FECHA SOLICITADO ASEG. ENDOSO</th>\n",
       "      <th>FECHA RECIBIDO ASEG. ENDOSO</th>\n",
       "      <th>TIPO REPROCESO</th>\n",
       "      <th>RESPONSABLE REPROCESO</th>\n",
       "      <th>FECHA INSTRUCCIÓN NEGOCIO A PLACEMENT BROKER</th>\n",
       "      <th>FECHA ASEGURADORA PIDE DOCUMENTOS</th>\n",
       "      <th>FECHA SOLICITUD A ASEGURADORA</th>\n",
       "      <th>FECHA DE RECIBIDO</th>\n",
       "      <th>ULTIMA FECHA DE SOLICIITUD A LA ASEGURADORA</th>\n",
       "      <th>CANTIDAD DEVOLUCIONES</th>\n",
       "    </tr>\n",
       "  </thead>\n",
       "  <tbody>\n",
       "    <tr>\n",
       "      <th>count</th>\n",
       "      <td>2732.000000</td>\n",
       "      <td>2732.000000</td>\n",
       "      <td>2732.000000</td>\n",
       "      <td>0.0</td>\n",
       "      <td>2732.000000</td>\n",
       "      <td>2732.000000</td>\n",
       "      <td>2732.000000</td>\n",
       "      <td>2732.000000</td>\n",
       "      <td>2732.000000</td>\n",
       "      <td>2732.000000</td>\n",
       "      <td>...</td>\n",
       "      <td>153</td>\n",
       "      <td>153</td>\n",
       "      <td>0.0</td>\n",
       "      <td>0.0</td>\n",
       "      <td>91</td>\n",
       "      <td>7</td>\n",
       "      <td>97</td>\n",
       "      <td>10</td>\n",
       "      <td>1</td>\n",
       "      <td>1.0</td>\n",
       "    </tr>\n",
       "    <tr>\n",
       "      <th>mean</th>\n",
       "      <td>2024.631772</td>\n",
       "      <td>4.299048</td>\n",
       "      <td>3.962665</td>\n",
       "      <td>NaN</td>\n",
       "      <td>13.695827</td>\n",
       "      <td>39.449854</td>\n",
       "      <td>9.598097</td>\n",
       "      <td>6.299414</td>\n",
       "      <td>0.655878</td>\n",
       "      <td>165430.497804</td>\n",
       "      <td>...</td>\n",
       "      <td>2023-08-02 01:24:42.352941056</td>\n",
       "      <td>2023-08-04 09:15:17.647058944</td>\n",
       "      <td>NaN</td>\n",
       "      <td>NaN</td>\n",
       "      <td>2023-12-03 03:09:53.406593280</td>\n",
       "      <td>2023-12-07 17:08:34.285714176</td>\n",
       "      <td>2023-12-09 18:33:24.123711232</td>\n",
       "      <td>2023-08-08 09:36:00</td>\n",
       "      <td>2023-10-25 00:00:00</td>\n",
       "      <td>1.0</td>\n",
       "    </tr>\n",
       "    <tr>\n",
       "      <th>min</th>\n",
       "      <td>2021.000000</td>\n",
       "      <td>1.000000</td>\n",
       "      <td>1.000000</td>\n",
       "      <td>NaN</td>\n",
       "      <td>1.000000</td>\n",
       "      <td>1.000000</td>\n",
       "      <td>1.000000</td>\n",
       "      <td>0.000000</td>\n",
       "      <td>-1710.790000</td>\n",
       "      <td>4406.000000</td>\n",
       "      <td>...</td>\n",
       "      <td>2022-02-24 00:00:00</td>\n",
       "      <td>2022-02-28 00:00:00</td>\n",
       "      <td>NaN</td>\n",
       "      <td>NaN</td>\n",
       "      <td>2022-10-19 00:00:00</td>\n",
       "      <td>2022-10-19 00:00:00</td>\n",
       "      <td>2022-10-19 00:00:00</td>\n",
       "      <td>2022-10-19 00:00:00</td>\n",
       "      <td>2023-10-25 00:00:00</td>\n",
       "      <td>1.0</td>\n",
       "    </tr>\n",
       "    <tr>\n",
       "      <th>25%</th>\n",
       "      <td>2024.000000</td>\n",
       "      <td>4.000000</td>\n",
       "      <td>4.000000</td>\n",
       "      <td>NaN</td>\n",
       "      <td>4.000000</td>\n",
       "      <td>2.000000</td>\n",
       "      <td>12.000000</td>\n",
       "      <td>0.000000</td>\n",
       "      <td>0.000000</td>\n",
       "      <td>151008.750000</td>\n",
       "      <td>...</td>\n",
       "      <td>2023-02-15 00:00:00</td>\n",
       "      <td>2023-02-15 00:00:00</td>\n",
       "      <td>NaN</td>\n",
       "      <td>NaN</td>\n",
       "      <td>2023-09-19 12:00:00</td>\n",
       "      <td>2023-11-16 12:00:00</td>\n",
       "      <td>2023-10-18 00:00:00</td>\n",
       "      <td>2022-10-27 00:00:00</td>\n",
       "      <td>2023-10-25 00:00:00</td>\n",
       "      <td>1.0</td>\n",
       "    </tr>\n",
       "    <tr>\n",
       "      <th>50%</th>\n",
       "      <td>2025.000000</td>\n",
       "      <td>4.000000</td>\n",
       "      <td>4.000000</td>\n",
       "      <td>NaN</td>\n",
       "      <td>13.000000</td>\n",
       "      <td>7.000000</td>\n",
       "      <td>12.000000</td>\n",
       "      <td>0.000000</td>\n",
       "      <td>0.000000</td>\n",
       "      <td>181601.500000</td>\n",
       "      <td>...</td>\n",
       "      <td>2023-09-28 00:00:00</td>\n",
       "      <td>2023-10-12 00:00:00</td>\n",
       "      <td>NaN</td>\n",
       "      <td>NaN</td>\n",
       "      <td>2024-01-16 00:00:00</td>\n",
       "      <td>2024-03-28 00:00:00</td>\n",
       "      <td>2024-01-24 00:00:00</td>\n",
       "      <td>2023-11-20 00:00:00</td>\n",
       "      <td>2023-10-25 00:00:00</td>\n",
       "      <td>1.0</td>\n",
       "    </tr>\n",
       "    <tr>\n",
       "      <th>75%</th>\n",
       "      <td>2025.000000</td>\n",
       "      <td>4.000000</td>\n",
       "      <td>4.000000</td>\n",
       "      <td>NaN</td>\n",
       "      <td>21.000000</td>\n",
       "      <td>39.000000</td>\n",
       "      <td>12.000000</td>\n",
       "      <td>0.000000</td>\n",
       "      <td>0.000000</td>\n",
       "      <td>190387.250000</td>\n",
       "      <td>...</td>\n",
       "      <td>2024-02-28 00:00:00</td>\n",
       "      <td>2024-03-07 00:00:00</td>\n",
       "      <td>NaN</td>\n",
       "      <td>NaN</td>\n",
       "      <td>2024-03-25 00:00:00</td>\n",
       "      <td>2024-04-01 00:00:00</td>\n",
       "      <td>2024-03-25 00:00:00</td>\n",
       "      <td>2024-03-31 00:00:00</td>\n",
       "      <td>2023-10-25 00:00:00</td>\n",
       "      <td>1.0</td>\n",
       "    </tr>\n",
       "    <tr>\n",
       "      <th>max</th>\n",
       "      <td>2027.000000</td>\n",
       "      <td>12.000000</td>\n",
       "      <td>6.000000</td>\n",
       "      <td>NaN</td>\n",
       "      <td>31.000000</td>\n",
       "      <td>233.000000</td>\n",
       "      <td>12.000000</td>\n",
       "      <td>80.000000</td>\n",
       "      <td>4951.270000</td>\n",
       "      <td>513481.000000</td>\n",
       "      <td>...</td>\n",
       "      <td>2024-04-10 00:00:00</td>\n",
       "      <td>2024-04-18 00:00:00</td>\n",
       "      <td>NaN</td>\n",
       "      <td>NaN</td>\n",
       "      <td>2024-04-04 00:00:00</td>\n",
       "      <td>2024-04-01 00:00:00</td>\n",
       "      <td>2024-04-09 00:00:00</td>\n",
       "      <td>2024-04-01 00:00:00</td>\n",
       "      <td>2023-10-25 00:00:00</td>\n",
       "      <td>1.0</td>\n",
       "    </tr>\n",
       "    <tr>\n",
       "      <th>std</th>\n",
       "      <td>0.534275</td>\n",
       "      <td>1.984993</td>\n",
       "      <td>0.221668</td>\n",
       "      <td>NaN</td>\n",
       "      <td>8.835082</td>\n",
       "      <td>67.840774</td>\n",
       "      <td>4.457814</td>\n",
       "      <td>16.295368</td>\n",
       "      <td>103.935880</td>\n",
       "      <td>54131.456167</td>\n",
       "      <td>...</td>\n",
       "      <td>NaN</td>\n",
       "      <td>NaN</td>\n",
       "      <td>NaN</td>\n",
       "      <td>NaN</td>\n",
       "      <td>NaN</td>\n",
       "      <td>NaN</td>\n",
       "      <td>NaN</td>\n",
       "      <td>NaN</td>\n",
       "      <td>NaN</td>\n",
       "      <td>NaN</td>\n",
       "    </tr>\n",
       "  </tbody>\n",
       "</table>\n",
       "<p>8 rows × 35 columns</p>\n",
       "</div>"
      ],
      "text/plain": [
       "         AÑO HASTA    MES DESDE  MES FACTURA  GRUPO SECUNDARIO         RAMO   \n",
       "count  2732.000000  2732.000000  2732.000000               0.0  2732.000000  \\\n",
       "mean   2024.631772     4.299048     3.962665               NaN    13.695827   \n",
       "min    2021.000000     1.000000     1.000000               NaN     1.000000   \n",
       "25%    2024.000000     4.000000     4.000000               NaN     4.000000   \n",
       "50%    2025.000000     4.000000     4.000000               NaN    13.000000   \n",
       "75%    2025.000000     4.000000     4.000000               NaN    21.000000   \n",
       "max    2027.000000    12.000000     6.000000               NaN    31.000000   \n",
       "std       0.534275     1.984993     0.221668               NaN     8.835082   \n",
       "\n",
       "          SUB RAMO  FRECUENCIA PAGO  PORC. COM. COMPARTIDA   \n",
       "count  2732.000000      2732.000000            2732.000000  \\\n",
       "mean     39.449854         9.598097               6.299414   \n",
       "min       1.000000         1.000000               0.000000   \n",
       "25%       2.000000        12.000000               0.000000   \n",
       "50%       7.000000        12.000000               0.000000   \n",
       "75%      39.000000        12.000000               0.000000   \n",
       "max     233.000000        12.000000              80.000000   \n",
       "std      67.840774         4.457814              16.295368   \n",
       "\n",
       "       COMISION COMPARTIDA         POLIZA  ...  FECHA SOLICITADO ASEG. ENDOSO   \n",
       "count          2732.000000    2732.000000  ...                            153  \\\n",
       "mean              0.655878  165430.497804  ...  2023-08-02 01:24:42.352941056   \n",
       "min           -1710.790000    4406.000000  ...            2022-02-24 00:00:00   \n",
       "25%               0.000000  151008.750000  ...            2023-02-15 00:00:00   \n",
       "50%               0.000000  181601.500000  ...            2023-09-28 00:00:00   \n",
       "75%               0.000000  190387.250000  ...            2024-02-28 00:00:00   \n",
       "max            4951.270000  513481.000000  ...            2024-04-10 00:00:00   \n",
       "std             103.935880   54131.456167  ...                            NaN   \n",
       "\n",
       "         FECHA RECIBIDO ASEG. ENDOSO TIPO REPROCESO RESPONSABLE REPROCESO   \n",
       "count                            153            0.0                   0.0  \\\n",
       "mean   2023-08-04 09:15:17.647058944            NaN                   NaN   \n",
       "min              2022-02-28 00:00:00            NaN                   NaN   \n",
       "25%              2023-02-15 00:00:00            NaN                   NaN   \n",
       "50%              2023-10-12 00:00:00            NaN                   NaN   \n",
       "75%              2024-03-07 00:00:00            NaN                   NaN   \n",
       "max              2024-04-18 00:00:00            NaN                   NaN   \n",
       "std                              NaN            NaN                   NaN   \n",
       "\n",
       "       FECHA INSTRUCCIÓN NEGOCIO A PLACEMENT BROKER   \n",
       "count                                            91  \\\n",
       "mean                  2023-12-03 03:09:53.406593280   \n",
       "min                             2022-10-19 00:00:00   \n",
       "25%                             2023-09-19 12:00:00   \n",
       "50%                             2024-01-16 00:00:00   \n",
       "75%                             2024-03-25 00:00:00   \n",
       "max                             2024-04-04 00:00:00   \n",
       "std                                             NaN   \n",
       "\n",
       "       FECHA ASEGURADORA PIDE DOCUMENTOS  FECHA SOLICITUD A ASEGURADORA   \n",
       "count                                  7                             97  \\\n",
       "mean       2023-12-07 17:08:34.285714176  2023-12-09 18:33:24.123711232   \n",
       "min                  2022-10-19 00:00:00            2022-10-19 00:00:00   \n",
       "25%                  2023-11-16 12:00:00            2023-10-18 00:00:00   \n",
       "50%                  2024-03-28 00:00:00            2024-01-24 00:00:00   \n",
       "75%                  2024-04-01 00:00:00            2024-03-25 00:00:00   \n",
       "max                  2024-04-01 00:00:00            2024-04-09 00:00:00   \n",
       "std                                  NaN                            NaN   \n",
       "\n",
       "         FECHA DE RECIBIDO  ULTIMA FECHA DE SOLICIITUD A LA ASEGURADORA   \n",
       "count                   10                                            1  \\\n",
       "mean   2023-08-08 09:36:00                          2023-10-25 00:00:00   \n",
       "min    2022-10-19 00:00:00                          2023-10-25 00:00:00   \n",
       "25%    2022-10-27 00:00:00                          2023-10-25 00:00:00   \n",
       "50%    2023-11-20 00:00:00                          2023-10-25 00:00:00   \n",
       "75%    2024-03-31 00:00:00                          2023-10-25 00:00:00   \n",
       "max    2024-04-01 00:00:00                          2023-10-25 00:00:00   \n",
       "std                    NaN                                          NaN   \n",
       "\n",
       "       CANTIDAD DEVOLUCIONES  \n",
       "count                    1.0  \n",
       "mean                     1.0  \n",
       "min                      1.0  \n",
       "25%                      1.0  \n",
       "50%                      1.0  \n",
       "75%                      1.0  \n",
       "max                      1.0  \n",
       "std                      NaN  \n",
       "\n",
       "[8 rows x 35 columns]"
      ]
     },
     "execution_count": 49,
     "metadata": {},
     "output_type": "execute_result"
    }
   ],
   "source": [
    "DATAMARSH1.describe() #se escribe el dataframe: DATAMARSH1 seguido de .describe()"
   ]
  },
  {
   "cell_type": "code",
   "execution_count": 50,
   "metadata": {},
   "outputs": [
    {
     "data": {
      "text/plain": [
       "count    2732.000000\n",
       "mean        0.655878\n",
       "std       103.935880\n",
       "min     -1710.790000\n",
       "25%         0.000000\n",
       "50%         0.000000\n",
       "75%         0.000000\n",
       "max      4951.270000\n",
       "Name: COMISION COMPARTIDA, dtype: float64"
      ]
     },
     "execution_count": 50,
     "metadata": {},
     "output_type": "execute_result"
    }
   ],
   "source": [
    "DATAMARSH1['COMISION COMPARTIDA'].describe() #Descripción de una sola columna del dataframe"
   ]
  },
  {
   "cell_type": "markdown",
   "metadata": {},
   "source": [
    "Guardar la media de una columna como variable"
   ]
  },
  {
   "cell_type": "code",
   "execution_count": 51,
   "metadata": {},
   "outputs": [],
   "source": [
    "media_comision = DATAMARSH1['COMISION COMPARTIDA'].mean()"
   ]
  },
  {
   "cell_type": "code",
   "execution_count": 52,
   "metadata": {},
   "outputs": [
    {
     "name": "stdout",
     "output_type": "stream",
     "text": [
      "0.6558784773060033\n"
     ]
    }
   ],
   "source": [
    "print(media_comision)"
   ]
  },
  {
   "cell_type": "markdown",
   "metadata": {},
   "source": [
    "SUBCONJUNTO"
   ]
  },
  {
   "cell_type": "code",
   "execution_count": 53,
   "metadata": {},
   "outputs": [],
   "source": [
    "datasub = DATAMARSH1[['NUMERO_DE_POLIZA','DESDE','HASTA']] #se crea el nuevo dataframe datasub que es un subconjunto de tres columnas del dataframe DATAMARSH1"
   ]
  },
  {
   "cell_type": "markdown",
   "metadata": {},
   "source": [
    "BORRAR UNA COLUMNA"
   ]
  },
  {
   "cell_type": "code",
   "execution_count": 54,
   "metadata": {},
   "outputs": [],
   "source": [
    "datasub = datasub.drop(['DESDE'], axis=1)"
   ]
  },
  {
   "cell_type": "markdown",
   "metadata": {},
   "source": [
    "RENOMBRAR UNA COLUMNA"
   ]
  },
  {
   "cell_type": "code",
   "execution_count": 55,
   "metadata": {},
   "outputs": [],
   "source": [
    "datasub = datasub.rename(columns={'NUMERO_DE_POLIZA':'POLIZA'})"
   ]
  },
  {
   "cell_type": "markdown",
   "metadata": {},
   "source": [
    "CREAR UNA NUEVA COLUMNA"
   ]
  },
  {
   "cell_type": "code",
   "execution_count": 56,
   "metadata": {},
   "outputs": [],
   "source": [
    "datasub['VIGENCIA'] = 'ANUAL'"
   ]
  },
  {
   "cell_type": "code",
   "execution_count": 57,
   "metadata": {},
   "outputs": [],
   "source": [
    "datasub['NUEVA_COLUMNA'] = 8*4"
   ]
  },
  {
   "cell_type": "markdown",
   "metadata": {},
   "source": [
    "REEMPLAZAR VALORES DE UNA COLUMNA"
   ]
  },
  {
   "cell_type": "code",
   "execution_count": 58,
   "metadata": {},
   "outputs": [],
   "source": [
    "datasub['POLIZA'] = datasub['POLIZA'].str.replace(\"'\",\"\")"
   ]
  },
  {
   "cell_type": "markdown",
   "metadata": {},
   "source": [
    "ELIMINAR ALGUNA VARIABLE"
   ]
  },
  {
   "cell_type": "code",
   "execution_count": null,
   "metadata": {},
   "outputs": [],
   "source": [
    "del datasub"
   ]
  }
 ],
 "metadata": {
  "kernelspec": {
   "display_name": "Python 3",
   "language": "python",
   "name": "python3"
  },
  "language_info": {
   "codemirror_mode": {
    "name": "ipython",
    "version": 3
   },
   "file_extension": ".py",
   "mimetype": "text/x-python",
   "name": "python",
   "nbconvert_exporter": "python",
   "pygments_lexer": "ipython3",
   "version": "3.11.3"
  },
  "orig_nbformat": 4
 },
 "nbformat": 4,
 "nbformat_minor": 2
}
