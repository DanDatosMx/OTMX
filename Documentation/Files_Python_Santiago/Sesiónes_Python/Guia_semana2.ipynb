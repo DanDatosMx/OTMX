{
 "cells": [
  {
   "cell_type": "markdown",
   "metadata": {},
   "source": [
    "Importo librerías"
   ]
  },
  {
   "cell_type": "code",
   "execution_count": 1,
   "metadata": {},
   "outputs": [],
   "source": [
    "import pandas as pd #manejo de datos\n",
    "import os #Para trabajar con los directorios del equipo\n",
    "import locale #Para cambiar el idioma local a español\n"
   ]
  },
  {
   "cell_type": "code",
   "execution_count": 2,
   "metadata": {},
   "outputs": [
    {
     "data": {
      "text/plain": [
       "'es_ES.UTF-8'"
      ]
     },
     "execution_count": 2,
     "metadata": {},
     "output_type": "execute_result"
    }
   ],
   "source": [
    "locale.setlocale(locale.LC_ALL,'es_ES.UTF-8') #Set en español"
   ]
  },
  {
   "cell_type": "code",
   "execution_count": 3,
   "metadata": {},
   "outputs": [],
   "source": [
    "#Esta parte no es necesaria pero es para que no aparezcan los warning \n",
    "import warnings \n",
    "\n",
    "# Configurar los warnings para que se ignoren\n",
    "warnings.filterwarnings(\"ignore\")"
   ]
  },
  {
   "cell_type": "markdown",
   "metadata": {},
   "source": [
    "Subo archivo"
   ]
  },
  {
   "cell_type": "code",
   "execution_count": 4,
   "metadata": {},
   "outputs": [],
   "source": [
    "data = pd.read_excel('C:/OTMX/Documentation/DATAMARSH.xlsx')"
   ]
  },
  {
   "cell_type": "code",
   "execution_count": 5,
   "metadata": {},
   "outputs": [
    {
     "data": {
      "text/plain": [
       "Index(['MES DESDE', 'MES FACTURA', 'NOMBRE AGENCIA', 'NOMBRE CORTO', 'ESTADO',\n",
       "       'GRUPO', 'SEGMENTO GRUPO', 'RAMO', 'SUB RAMO', 'DESCRIPCION FORMA PAGO',\n",
       "       'FRECUENCIA PAGO', 'UNIDAD', 'NOMBRE DEL PRODUCTO', 'NOMBRE DEL PLAN',\n",
       "       'NOMBRE ZONA', 'TIPO MOV.POLIZA', 'TIPO MOVIMIENTO', 'NUMERO_DE_POLIZA',\n",
       "       'SEGMENTO POLIZA', 'FECHA_FACTURA', 'DESDE', 'HASTA', 'FECHA EMISION',\n",
       "       'POR_COMISION', 'POR_COMISION_VIDA', 'SECUENCIA', 'NOMBRE NEGOCIO',\n",
       "       'PRIMA', 'MONTO', 'TOTAL_COMISION', 'COMISION_VIDA', 'COMISION',\n",
       "       'SUMA ASEGURADA', 'PRODUCTO', 'SUBSEGEMENTO'],\n",
       "      dtype='object')"
      ]
     },
     "execution_count": 5,
     "metadata": {},
     "output_type": "execute_result"
    }
   ],
   "source": [
    "data.columns #veo las columnas"
   ]
  },
  {
   "cell_type": "code",
   "execution_count": 6,
   "metadata": {},
   "outputs": [],
   "source": [
    "subconjunto = data[['DESDE','NOMBRE CORTO','TIPO MOVIMIENTO','NUMERO_DE_POLIZA','MONTO']] #hago un subconjunto"
   ]
  },
  {
   "cell_type": "code",
   "execution_count": 7,
   "metadata": {},
   "outputs": [],
   "source": [
    "subconjunto['DESDE'] = subconjunto['DESDE'].astype(str) #vuelvo a str la columna de fecha solamente para mostrar más adelante cómo volverla a fecha \n",
    "#no necesario"
   ]
  },
  {
   "cell_type": "code",
   "execution_count": 8,
   "metadata": {},
   "outputs": [
    {
     "data": {
      "text/plain": [
       "DESDE                object\n",
       "NOMBRE CORTO         object\n",
       "TIPO MOVIMIENTO      object\n",
       "NUMERO_DE_POLIZA     object\n",
       "MONTO               float64\n",
       "dtype: object"
      ]
     },
     "execution_count": 8,
     "metadata": {},
     "output_type": "execute_result"
    }
   ],
   "source": [
    "subconjunto.dtypes #miro los tipos "
   ]
  },
  {
   "cell_type": "code",
   "execution_count": 9,
   "metadata": {},
   "outputs": [],
   "source": [
    "subconjunto['DESDE'] = pd.to_datetime(subconjunto['DESDE']) #vuelvo la columna DESDE a tipo fecha"
   ]
  },
  {
   "cell_type": "code",
   "execution_count": 10,
   "metadata": {},
   "outputs": [
    {
     "data": {
      "text/plain": [
       "DESDE               datetime64[ns]\n",
       "NOMBRE CORTO                object\n",
       "TIPO MOVIMIENTO             object\n",
       "NUMERO_DE_POLIZA            object\n",
       "MONTO                      float64\n",
       "dtype: object"
      ]
     },
     "execution_count": 10,
     "metadata": {},
     "output_type": "execute_result"
    }
   ],
   "source": [
    "subconjunto.dtypes #miro los tipos"
   ]
  },
  {
   "cell_type": "code",
   "execution_count": 11,
   "metadata": {},
   "outputs": [],
   "source": [
    "#crear una nueva columna año\n",
    "subconjunto['AÑO'] = subconjunto['DESDE'].dt.strftime('%Y')"
   ]
  },
  {
   "cell_type": "code",
   "execution_count": 12,
   "metadata": {},
   "outputs": [],
   "source": [
    "#crear una nueva columna de mes\n",
    "subconjunto['MES'] = subconjunto['DESDE'].dt.strftime('%m')"
   ]
  },
  {
   "cell_type": "code",
   "execution_count": 13,
   "metadata": {},
   "outputs": [],
   "source": [
    "import calendar #con esta librería podemos convertir los números del 1 al 12 a los meses en nombres, ejemplo: el 2 lo convierte en febrero\n",
    "#esta librería convierte los nombres al mes en el idioma en el que esté tu trabajo local, por ese motivo se coloca en español\n",
    "\n",
    "def convertir_mes(numero_mes): #se crea una función a la que le paso el número del mes y por medio del método month_name de calendar me vuelve el número al nombre\n",
    "    return calendar.month_name[numero_mes]"
   ]
  },
  {
   "cell_type": "code",
   "execution_count": 14,
   "metadata": {},
   "outputs": [],
   "source": [
    "#como quiero usar esta columna para convertir los números a mes, debo pasarla primero a tipo int porque calendar no funciona si es str\n",
    "subconjunto['MES'] = subconjunto['MES'].astype(int)"
   ]
  },
  {
   "cell_type": "code",
   "execution_count": 16,
   "metadata": {},
   "outputs": [],
   "source": [
    "subconjunto['NOMBRE_MES'] = subconjunto['MES'].apply(convertir_mes) #creo la columna \"NOMBRE_MES\" y le aplico la función a la columna \"MES\""
   ]
  },
  {
   "cell_type": "code",
   "execution_count": 17,
   "metadata": {},
   "outputs": [],
   "source": [
    "subconjunto['DESDE'] = subconjunto['DESDE'].dt.strftime('%Y-%m-%d') #Puedo convertir la columna DESDE al formato de solamente \"AAAA-mm-dd\" pero en str porque aveces en el Excel no queremos formatos tan largos que incluyan tiempo"
   ]
  },
  {
   "cell_type": "code",
   "execution_count": 18,
   "metadata": {},
   "outputs": [],
   "source": [
    "#FILTROS\n",
    "df_filtrado = subconjunto[subconjunto['TIPO MOVIMIENTO']==\"REN\"] #Aplico filtro de Renovación en TIPO MOVIMIENTO"
   ]
  },
  {
   "cell_type": "code",
   "execution_count": 19,
   "metadata": {},
   "outputs": [],
   "source": [
    "df_filtrado2 = subconjunto[(subconjunto['TIPO MOVIMIENTO']==\"REN\")&(subconjunto['NOMBRE CORTO']==\"ASSA\")] #aplico dos filtros, REN y ASSA"
   ]
  },
  {
   "cell_type": "code",
   "execution_count": 20,
   "metadata": {},
   "outputs": [
    {
     "data": {
      "text/plain": [
       "DESDE               0\n",
       "NOMBRE CORTO        1\n",
       "TIPO MOVIMIENTO     0\n",
       "NUMERO_DE_POLIZA    0\n",
       "MONTO               0\n",
       "AÑO                 0\n",
       "MES                 0\n",
       "NOMBRE_MES          0\n",
       "dtype: int64"
      ]
     },
     "execution_count": 20,
     "metadata": {},
     "output_type": "execute_result"
    }
   ],
   "source": [
    "subconjunto.isna().sum() #Con esto me doy cuenta cuántos NA hay por columna"
   ]
  },
  {
   "cell_type": "code",
   "execution_count": 21,
   "metadata": {},
   "outputs": [],
   "source": [
    "subconjunto = subconjunto.dropna(subset=['NOMBRE CORTO']) #borro las filas que tengan NA en la columna NOMBRE CORTO"
   ]
  },
  {
   "cell_type": "code",
   "execution_count": 22,
   "metadata": {},
   "outputs": [],
   "source": [
    "df_filtrado3 = subconjunto[subconjunto['NOMBRE CORTO'].str.contains('SURA')] #Hago un filtro por la columna NOMBRE CORTO de lo que contenga 'SURA' es decir si el valor es\n",
    "#\"SURAMERICANA\" igual lo va a filtrar porque contiene SURA, esta línea funciona si no hay NA en la misma"
   ]
  },
  {
   "cell_type": "markdown",
   "metadata": {},
   "source": [
    "EXPORTAR ARCHIVOS"
   ]
  },
  {
   "cell_type": "code",
   "execution_count": 23,
   "metadata": {},
   "outputs": [],
   "source": [
    "#UNICA HOJA\n",
    "subconjunto.to_excel('nombrearchivo.xlsx', sheet_name='data', index=False) #subconjunto es el dataframe, nombrearchivo el nombre que quiero ponerle\n",
    "#'data' es el nombre de la hoja del excel donde estará la info, index=False para que no exporte los resultados con el index de Python"
   ]
  },
  {
   "cell_type": "code",
   "execution_count": 24,
   "metadata": {},
   "outputs": [],
   "source": [
    "#VARIAS HOJAS\n",
    "#si quiero en la primer hoja exportar data y en la segunda subconjunto\n",
    "import xlsxwriter\n",
    "\n",
    "os.chdir('C:/OTMX/Documentation') #directorio donde quiero que exporte los resultados en caso de ser diferente\n",
    "#al directorio en el que se encuentra el \n",
    "\n",
    "# cree un escritor \n",
    "writer = pd.ExcelWriter('variashojas.xlsx')\n",
    "\n",
    "#escribe cada DataFrame en una hoja específica\n",
    "data.to_excel (writer, sheet_name='data', index=False)\n",
    "subconjunto.to_excel (writer, sheet_name='subconjunto',index=False)\n",
    "\n",
    "#cierre el escritor de Pandas Excel y genere el archivo de Excel\n",
    "writer.close()"
   ]
  }
 ],
 "metadata": {
  "kernelspec": {
   "display_name": "Python 3",
   "language": "python",
   "name": "python3"
  },
  "language_info": {
   "codemirror_mode": {
    "name": "ipython",
    "version": 3
   },
   "file_extension": ".py",
   "mimetype": "text/x-python",
   "name": "python",
   "nbconvert_exporter": "python",
   "pygments_lexer": "ipython3",
   "version": "3.12.0"
  },
  "orig_nbformat": 4
 },
 "nbformat": 4,
 "nbformat_minor": 2
}
