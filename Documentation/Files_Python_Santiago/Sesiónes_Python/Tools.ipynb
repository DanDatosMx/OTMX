{
 "cells": [
  {
   "cell_type": "code",
   "execution_count": 1,
   "metadata": {},
   "outputs": [],
   "source": [
    "import pandas as pd\n",
    "import os\n",
    "import glob"
   ]
  },
  {
   "cell_type": "markdown",
   "metadata": {},
   "source": [
    "Juntar archivos .csv y ponerlos en un directorio"
   ]
  },
  {
   "cell_type": "code",
   "execution_count": 7,
   "metadata": {},
   "outputs": [],
   "source": [
    "\n",
    "# Ruta de la carpeta que contiene los archivos Excel\n",
    "ruta_carpeta = \"C:/OTMX/Inputs/2024-044/FIles Atlas\"\n",
    "\n",
    "# Obtener la lista de archivos en la carpeta\n",
    "archivos = os.listdir(ruta_carpeta)\n",
    "\n",
    "\n",
    "# Recorrer cada archivo en la lista\n",
    "for archivo in archivos:\n",
    "    # Verificar si el archivo es un archivo Excel\n",
    "    if archivo.endswith(\".csv\"):\n",
    "        # Construir la ruta completa del archivo\n",
    "        ruta_archivo = os.path.join(ruta_carpeta, archivo)\n",
    "        \n",
    "        # Leer el archivo Excel en un DataFrame de pandas\n",
    "        df = pd.read_csv(ruta_archivo,index_col=0, encoding='latin-1',skiprows=3)\n",
    "        \n",
    "        # Omitir la última fila\n",
    "        df = df.iloc[:-2]\n",
    "        \n",
    "        # Guardar el DataFrame modificado en el mismo archivo\n",
    "        df.to_csv(ruta_archivo, index=False)\n",
    "        \n",
    "        print(f\"Archivo {archivo} editado y guardado exitosamente.\")\n",
    "\n",
    "        \n",
    "\n",
    "\n",
    "\n",
    "print(\"Proceso completado.\")\n",
    "\n",
    "\n",
    "\n",
    "os.chdir(ruta_carpeta)\n",
    "extension = 'csv'\n",
    "todos_los_archivos = [i for i in glob.glob('*.{}'.format(extension))]\n",
    "\n",
    "#combina todos los archivos de la lista\n",
    "combinado_csv = pd.concat([pd.read_csv(f) for f in todos_los_archivos ])\n",
    "#exporta a csv\n",
    "combinado_csv.to_csv( \"combinado_csv.csv\", index=False, encoding='utf-8-sig')"
   ]
  },
  {
   "cell_type": "code",
   "execution_count": null,
   "metadata": {},
   "outputs": [],
   "source": [
    "#eliminar = \"Temp\"\n",
    "#PathActual = os.getcwd()\n",
    "\n",
    "#PathActual01 = os.path.join(PathAtlas,eliminar)\n",
    "#PathActual01\n"
   ]
  },
  {
   "cell_type": "code",
   "execution_count": null,
   "metadata": {},
   "outputs": [],
   "source": [
    "#Convertir CSV a XLSX\n",
    "#pd.read_csv(xlsx_dir / NameItem).to_excel(xlsx_dir / 'fact_Status.xlsx', index=False)"
   ]
  },
  {
   "cell_type": "code",
   "execution_count": 6,
   "metadata": {},
   "outputs": [
    {
     "name": "stdout",
     "output_type": "stream",
     "text": [
      "Empty DataFrame\n",
      "Columns: []\n",
      "Index: [0, 1, 2, 3, 4, 5, 6, 7, 8, 9, 10, 11, 12, 13, 14, 15, 16, 17, 18, 19, 20, 21, 22, 23, 24, 25, 26, 27, 28, 29, 30, 31, 32, 33, 34, 35, 36, 37, 38, 39, 40, 41, 42, 43, 44, 45, 46, 47, 48, 49, 50, 51, 52, 53, 54, 55, 56, 57, 58, 59, 60, 61, 62, 63, 64, 65, 66, 67, 68, 69, 70, 71, 72, 73, 74, 75, 76, 77, 78, 79, 80, 81, 82, 83, 84, 85, 86, 87, 88, 89, 90, 91, 92, 93, 94, 95, 96, 97, 98, 99, ...]\n",
      "\n",
      "[11226 rows x 0 columns]\n"
     ]
    }
   ],
   "source": [
    "# Importar librerias\n",
    "import pandas as pd\n",
    "\n",
    "# Lectura del archivo\n",
    "df = pd.read_excel(\"C:/OTMX/Inputs/2024-044/Other Files/EDC_QUALITAS - copia.xlsx\") #index_col = 0 \n",
    "#print(df)\n",
    "\n",
    "# Eliminar filas en blanco\n",
    "clase = df.dropna(axis='columns')\n",
    "print(clase)\n",
    "\n",
    "# Exportar archivo formato excel \n",
    "clase.to_excel(\"C:/OTMX/Inputs/2024-044/Other Files/ejemplo_exportado.xlsx\", index = False) \n",
    "#resultado.info()"
   ]
  }
 ],
 "metadata": {
  "kernelspec": {
   "display_name": "Python 3",
   "language": "python",
   "name": "python3"
  },
  "language_info": {
   "codemirror_mode": {
    "name": "ipython",
    "version": 3
   },
   "file_extension": ".py",
   "mimetype": "text/x-python",
   "name": "python",
   "nbconvert_exporter": "python",
   "pygments_lexer": "ipython3",
   "version": "3.12.0"
  }
 },
 "nbformat": 4,
 "nbformat_minor": 2
}
