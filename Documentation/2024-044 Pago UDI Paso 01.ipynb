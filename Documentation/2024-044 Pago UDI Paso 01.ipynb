{
 "cells": [
  {
   "cell_type": "markdown",
   "metadata": {},
   "source": [
    "2024-044\n",
    "Proceso de pago UDI | Paso 01"
   ]
  },
  {
   "cell_type": "code",
   "execution_count": 124,
   "metadata": {},
   "outputs": [
    {
     "name": "stdout",
     "output_type": "stream",
     "text": [
      "Trace | Import Library\n"
     ]
    }
   ],
   "source": [
    "# LLamar bibliotecas\n",
    "print('Trace | Import Library')\n",
    "import pandas as pd\n",
    "import numpy as np\n",
    "from pathlib import Path\n",
    "import os\n",
    "from openpyxl import workbook,load_workbook\n",
    "from openpyxl.styles import PatternFill, Border, Side, Alignment, Protection, Font\n",
    "import glob\n"
   ]
  },
  {
   "cell_type": "code",
   "execution_count": 125,
   "metadata": {},
   "outputs": [
    {
     "name": "stdout",
     "output_type": "stream",
     "text": [
      "Define path: C:/OTMX | Name Item: 2024-044 \n",
      "Successful folders creation\n"
     ]
    }
   ],
   "source": [
    "# Definir los directorios\n",
    "PathC = \"C:/OTMX\"\n",
    "NameItem = \"2024-044\"\n",
    "Output_dir = Path(PathC) / \"Outputs\" / NameItem\n",
    "Output_dir.mkdir(parents=True, exist_ok=True)\n",
    "\n",
    "#Creamos la carpeta Temp para colocar los archivos modificados\n",
    "#Temp_dir = Path(PathC) / \"Inputs\" / NameItem / \"Temp\"\n",
    "#Temp_dir.mkdir(parents=True, exist_ok=True)\n",
    "\n",
    "print(f'Define path: {PathC} | Name Item: {NameItem} ')\n",
    "\n",
    "print('Successful folders creation')\n",
    "\n"
   ]
  },
  {
   "cell_type": "markdown",
   "metadata": {},
   "source": [
    "Unificar archivos Atlas | Se requiere que sólo estén los puros archivos csv para unificar\n"
   ]
  },
  {
   "cell_type": "code",
   "execution_count": 126,
   "metadata": {},
   "outputs": [
    {
     "name": "stdout",
     "output_type": "stream",
     "text": [
      "Trace | Unificar archivos de Atlas\n"
     ]
    }
   ],
   "source": [
    "print('Trace | Unificar archivos de Atlas')\n",
    "# Ruta de la carpeta que contiene los archivos Excel\n",
    "PathAtlas = Path(PathC) / \"Inputs\" / NameItem / \"Files Atlas\"\n",
    "\n",
    "# Obtener la lista de archivos en la carpeta\n",
    "Inputs_f_Atlas = os.listdir(PathAtlas)\n",
    "#list(PathAtlas.iterdir())\n",
    "\n",
    "# Crear una lista vacía para almacenar los DataFrames individuales\n",
    "dataframes = []\n",
    "\n"
   ]
  },
  {
   "cell_type": "code",
   "execution_count": 127,
   "metadata": {},
   "outputs": [],
   "source": [
    "# Recorrer cada archivo en la lista\n",
    "for archivo in Inputs_f_Atlas:\n",
    "    # Verificar si el archivo es un archivo .csv\n",
    "    if archivo.endswith(\".csv\"):\n",
    "        # Construir la ruta completa del archivo\n",
    "        ruta_archivo = os.path.join(PathAtlas, archivo)\n",
    "        # Leer el archivo en un DataFrame de pandas\n",
    "        df = pd.read_csv(ruta_archivo,index_col=0, encoding='latin-1',skiprows=3)\n",
    "        # Obtener el número de filas en el archivo\n",
    "        num_filas = df.shape[0]\n",
    "        # Omitir la última fila\n",
    "        df = df.iloc[:-2]\n",
    "        #Eliminar cad archivo que ya se colocó en el DataFrame\n",
    "        #os.remove(ruta_archivo)\n",
    "        \n",
    "        # Agregar el DataFrame a la lista\n",
    "        dataframes.append(df)\n",
    "     \n",
    "        # Guardar el DataFrame modificado en el mismo archivo\n",
    "        #df.to_csv(ruta_archivo, index=False)\n",
    "        #df.to_csv(Temp_dir / archivo, index=False)\n",
    "\n",
    "\n",
    "        #print(f\"Archivo {archivo} editado y guardado exitosamente.\")\n",
    "\n",
    "# Combinar los DataFrames en uno solo\n",
    "dfATLAS = pd.concat(dataframes, ignore_index=True)\n",
    "dfATLAS.columns = dfATLAS.columns.str.strip()\n",
    "dfATLAS.columns = dfATLAS.columns.str.replace(' ', '')\n",
    "\n"
   ]
  },
  {
   "cell_type": "code",
   "execution_count": 128,
   "metadata": {},
   "outputs": [
    {
     "data": {
      "text/plain": [
       "Index(['Ram', 'S/Ram', 'Ofna', 'Póliza', 'End', 'Rbo', 'Tipo', 'Inicio',\n",
       "       'Término', 'PrimaNeta', 'Recargo', 'Impto', 'Gasto', 'PrimaTotal',\n",
       "       'PrimaNetaPagada', 'PrimaTotalPagada', 'Comisión', 'Estatus',\n",
       "       'Motivoestatus', 'FechaEstatus', 'Asegurado', 'Contratante',\n",
       "       'conductor', 'AgenteUDI', 'N°Serie', 'F.Exp.', 'Folio', 'TipoMovto',\n",
       "       'F.pago', 'Descripción/C', 'Modelo', 'Días', 'Usuario', 'Agencia',\n",
       "       '%UDI', 'Comisión', 'IVA', 'Total', 'InicioPóliza', 'TérminoPóliza',\n",
       "       'Agente', 'Contrato'],\n",
       "      dtype='object')"
      ]
     },
     "execution_count": 128,
     "metadata": {},
     "output_type": "execute_result"
    }
   ],
   "source": [
    "dfATLAS.columns\n",
    "#Cambiar tipo de comision\n",
    "#dfATLAS['Comisión'] = dfATLAS['Comisión'].astype(float)\n",
    "\n",
    "#columnas_duplicadas = dfATLAS.columns[dfATLAS.columns.duplicated()]\n",
    "#print(columnas_duplicadas)"
   ]
  },
  {
   "cell_type": "code",
   "execution_count": 129,
   "metadata": {},
   "outputs": [],
   "source": [
    "for columna in columnas_duplicadas:\n",
    "    dfATLAS.rename(columns={columna: columna + '_duplicada'}, inplace=True)\n"
   ]
  },
  {
   "cell_type": "code",
   "execution_count": 130,
   "metadata": {},
   "outputs": [],
   "source": [
    "#Ordenar columnas\n",
    "#dfATLAS = dfATLAS[['Ofna', 'Póliza', 'Rbo', 'Inicio','Término', 'Prima Neta','Prima Total', 'Asegurado', 'Agente UDI', 'N° Serie', 'Comisión']]"
   ]
  },
  {
   "cell_type": "code",
   "execution_count": 131,
   "metadata": {},
   "outputs": [
    {
     "name": "stdout",
     "output_type": "stream",
     "text": [
      "Data cleaning process | Done\n"
     ]
    }
   ],
   "source": [
    "\n",
    "# Guardar los datos combinados en un nuevo archivo CSV\n",
    "#datos_combinados.to_csv('datos_combinados.csv', index=False)\n",
    "dfATLAS.to_excel(Path(PathC) / \"Inputs\" / NameItem / \"EDC_ATLAS.xlsx\", index=False)\n",
    "        \n",
    "print(\"Data cleaning process | Done\")"
   ]
  },
  {
   "cell_type": "code",
   "execution_count": 132,
   "metadata": {},
   "outputs": [],
   "source": [
    "# Recorrer cada archivo en la lista\n",
    "#for archivo in Inputs_f_Atlas:\n",
    "    # Verificar si el archivo es un archivo .csv\n",
    " #   if archivo.endswith(\".csv\"):\n",
    "        # Construir la ruta completa del archivo\n",
    "  #      ruta_archivo = os.path.join(PathAtlas, archivo)\n",
    "        # Leer el archivo en un DataFrame de pandas\n",
    "   #     df = pd.read_csv(ruta_archivo,index_col=0, encoding='latin-1',skiprows=3)\n",
    "        # Obtener el número de filas en el archivo\n",
    "    #    num_filas = df.shape[0]\n",
    "        # Omitir la última fila\n",
    "     #   df = df.iloc[:-2]\n",
    "        #Eliminar cad archivo que ya se colocó en el DataFrame\n",
    "        #os.remove(ruta_archivo)\n",
    "        \n",
    "     \n",
    "        # Guardar el DataFrame modificado en el mismo archivo\n",
    "        #df.to_csv(ruta_archivo, index=False)\n",
    "      #  df.to_csv(Temp_dir / archivo, index=False)\n",
    "\n",
    "\n",
    "       # print(f\"Archivo {archivo} editado y guardado exitosamente.\")\n",
    "\n",
    "        \n",
    "#print(\"Proceso limpieza de datos | Complete\")\n"
   ]
  },
  {
   "cell_type": "code",
   "execution_count": 133,
   "metadata": {},
   "outputs": [],
   "source": [
    "#os.chdir(Temp_dir)\n",
    "#extension = 'csv'\n",
    "#todos_los_archivos = [i for i in glob.glob('*.{}'.format(extension))]\n",
    "\n",
    "#combina todos los archivos de la lista\n",
    "#combinado_csv = pd.concat([pd.read_csv(f,encoding='latin-1') for f in todos_los_archivos ])\n",
    "#Seleccionar ciertas columnas\n",
    "#combinado_csv.columns\n"
   ]
  },
  {
   "cell_type": "code",
   "execution_count": 134,
   "metadata": {},
   "outputs": [],
   "source": [
    "\n",
    "#Ordenar columnas\n",
    "#dfATLAS=combinado_csv[['Ofna', 'PÃ³liza', 'Rbo', 'Inicio','TÃ©rmino', 'Prima Neta','Prima Total', \n",
    " #                            'Asegurado', 'Agente UDI', 'NÂ° Serie', ' ComisiÃ³n', ' IVA ', ' Total']]\n"
   ]
  },
  {
   "cell_type": "code",
   "execution_count": 135,
   "metadata": {},
   "outputs": [],
   "source": [
    "#exporta a xlsx\n",
    "#combinado_csv.to_csv(Path(PathC) / \"Inputs\" / NameItem / \"EDC_ATLAS.csv\", index=False, encoding='utf-8-sig')\n",
    "#combinado_csv.to_excel(Path(PathC) / \"Inputs\" / NameItem / \"EDC_ATLAS.xlsx\", index=False)\n"
   ]
  },
  {
   "cell_type": "markdown",
   "metadata": {},
   "source": [
    "Edición de los archivos por aseguradora"
   ]
  },
  {
   "cell_type": "code",
   "execution_count": 136,
   "metadata": {},
   "outputs": [],
   "source": [
    "#Ruta archivos aseguradora\n",
    "PathInsurance = Path(PathC) / \"Inputs\" / NameItem\n"
   ]
  },
  {
   "cell_type": "markdown",
   "metadata": {},
   "source": [
    "Catálogos"
   ]
  },
  {
   "cell_type": "code",
   "execution_count": 137,
   "metadata": {},
   "outputs": [
    {
     "name": "stdout",
     "output_type": "stream",
     "text": [
      "Trace | Catalogues Files\n"
     ]
    },
    {
     "data": {
      "text/plain": [
       "Index(['Agencia Mazda', 'Razón Social', 'Grupo', 'MARSH', 'ATLAS', 'QUALITAS',\n",
       "       'GNP', 'CHUBB'],\n",
       "      dtype='object')"
      ]
     },
     "execution_count": 137,
     "metadata": {},
     "output_type": "execute_result"
    }
   ],
   "source": [
    "print('Trace | Catalogues Files')\n",
    "#Carga de catálogo general\n",
    "dfcat = pd.read_excel(Path(PathC) / \"Catalogues\" / \"c_2024_044.xlsx\", sheet_name='Catalogo')\n",
    "dfcat.columns\n"
   ]
  },
  {
   "cell_type": "code",
   "execution_count": 138,
   "metadata": {},
   "outputs": [
    {
     "data": {
      "text/plain": [
       "Index(['Agente lider', 'HDI', 'Columna1', 'Usuario y contraseña',\n",
       "       'Descripción Perfil', 'Oficina Operativa', 'Agencia Mazda',\n",
       "       'Razón Social', 'UDI Agencia', 'UDI Mazda', 'UDI Santander', 'Comisión',\n",
       "       'DP Total', 'DP HDI', 'DP Mazda', 'DP Marsh'],\n",
       "      dtype='object')"
      ]
     },
     "execution_count": 138,
     "metadata": {},
     "output_type": "execute_result"
    }
   ],
   "source": [
    "\n",
    "#Carga de catálogo HDI\n",
    "dfcatHDI = pd.read_excel(Path(PathC) / \"Catalogues\" / \"c_2024_044.xlsx\", sheet_name='c_HDI')\n",
    "dfcatHDI = dfcatHDI.rename(columns={'Clave Perfil':'HDI'})\n",
    "dfcatHDI = dfcatHDI.rename(columns={'Agencia':'Agencia Mazda'})\n",
    "dfcat.columns = dfcat.columns.str.replace(\"_x\", \"\")\n",
    "dfcat.columns = dfcat.columns.str.replace(\"_y\", \"\")\n",
    "\n",
    "dfcatHDI[\"HDI\"] = pd.to_numeric(dfcatHDI[\"HDI\"], errors=\"coerce\").astype(pd.Int64Dtype())\n",
    "\n",
    "\n",
    "dfcatHDI.columns\n"
   ]
  },
  {
   "cell_type": "markdown",
   "metadata": {},
   "source": [
    "ATLAS"
   ]
  },
  {
   "cell_type": "code",
   "execution_count": 139,
   "metadata": {},
   "outputs": [
    {
     "name": "stdout",
     "output_type": "stream",
     "text": [
      "Trace | Atlas Files\n"
     ]
    },
    {
     "name": "stderr",
     "output_type": "stream",
     "text": [
      "C:\\Users\\u1165269\\AppData\\Local\\Temp\\ipykernel_36296\\2074623843.py:6: FutureWarning: DataFrame.applymap has been deprecated. Use DataFrame.map instead.\n",
      "  dfATLAS = dfATLAS.applymap(lambda x: x.strip() if isinstance(x, str) else x)\n"
     ]
    }
   ],
   "source": [
    "print('Trace | Atlas Files')\n",
    "\n",
    "# Leer base de datos\n",
    "dfATLAS = pd.read_excel(PathInsurance / \"EDC_ATLAS.xlsx\")\n",
    "# Eliminar los espacios en blanco en todas las celdas\n",
    "dfATLAS = dfATLAS.applymap(lambda x: x.strip() if isinstance(x, str) else x)\n"
   ]
  },
  {
   "cell_type": "code",
   "execution_count": 140,
   "metadata": {},
   "outputs": [],
   "source": [
    "# Insertar columnas\n",
    "dfATLAS['Aseguradora'] = 'ATLAS'\n",
    "\n",
    "#Renomrar columna para el cruce\n",
    "dfATLAS = dfATLAS.rename(columns={'AgenteUDI':'ATLAS'})\n",
    "\n",
    "#Hacer los cruces \n",
    "dfATLAS = pd.merge(dfATLAS,dfcat,on='ATLAS',how='left')\n",
    "\n",
    "#Campos calculados\n",
    "## Necesitamos combertir los la columna flotante con un número tipo float \n",
    "dfATLAS['Ofna'] = dfATLAS['Ofna'].apply(lambda x: x.strip() if isinstance(x, str) else x)\n",
    "\n",
    "# Separar la columna por el guion medio\n",
    "#dfATLAS[['Ini Vig', 'Fin Vig']] = dfATLAS['Periodo'].str.split('-', expand=True)\n",
    "dfATLAS['Póliza'] = dfATLAS['Ofna'].apply(str) + '-' + dfATLAS['Póliza'].apply(str)\n",
    "\n",
    "#UDI NETO\n",
    "\n",
    "dfATLAS['UDI Neto'] = dfATLAS['Comisión_duplicada'] + dfATLAS['IVA']\n"
   ]
  },
  {
   "cell_type": "code",
   "execution_count": 141,
   "metadata": {},
   "outputs": [],
   "source": [
    "dfATLAS = dfATLAS[['Grupo','Agencia Mazda','Aseguradora','Póliza','Rbo','Asegurado',\n",
    "                   'N°Serie','Inicio','Término','PrimaNeta','PrimaTotal','UDI Neto','IVA','Total','MARSH']]\n"
   ]
  },
  {
   "cell_type": "code",
   "execution_count": 142,
   "metadata": {},
   "outputs": [
    {
     "data": {
      "text/plain": [
       "Index(['Grupo', 'Dealer', 'Aseguradora', 'Poliza', 'Recibo', 'Asegurado',\n",
       "       'Serie', 'Ini_Vig', 'Fin_Vig', 'Prima_Neta', 'Prima_Total', 'UDI_Neto',\n",
       "       'UDI_IVA', 'UDI_Total', 'Alias'],\n",
       "      dtype='object')"
      ]
     },
     "execution_count": 142,
     "metadata": {},
     "output_type": "execute_result"
    }
   ],
   "source": [
    "#Remobrar para Layout completo\n",
    "dfATLAS = dfATLAS.rename(columns={'Grupo':'Grupo',\n",
    "                                  'Agencia Mazda':'Dealer',\n",
    "                                  'Aseguradora':'Aseguradora',\n",
    "                                  'Póliza':'Poliza',\n",
    "                                  'Rbo':'Recibo',\n",
    "                                  'Asegurado':'Asegurado',\n",
    "                                  'N°Serie':'Serie',\n",
    "                                  'Inicio':'Ini_Vig',\n",
    "                                  'Término':'Fin_Vig',\n",
    "                                  'PrimaNeta':'Prima_Neta',\n",
    "                                  'PrimaTotal':'Prima_Total',\n",
    "                                  'UDI Neto':'UDI_Neto',\n",
    "                                  'IVA':'UDI_IVA',\n",
    "                                  'Total':'UDI_Total',\n",
    "                                  'MARSH':'Alias'                                                         \n",
    "                                  })\n",
    "\n",
    "\n",
    "\n",
    "dfATLAS.columns"
   ]
  },
  {
   "cell_type": "markdown",
   "metadata": {},
   "source": [
    "CHUBB"
   ]
  },
  {
   "cell_type": "code",
   "execution_count": 143,
   "metadata": {},
   "outputs": [
    {
     "name": "stdout",
     "output_type": "stream",
     "text": [
      "Trace | CHUBB Files\n"
     ]
    }
   ],
   "source": [
    "print('Trace | CHUBB Files')\n",
    "\n",
    "#Leer base de datos\n",
    "dfCHUBB = pd.read_excel(PathInsurance / \"EDC_CHUBB.xlsx\")\n"
   ]
  },
  {
   "cell_type": "code",
   "execution_count": 144,
   "metadata": {},
   "outputs": [],
   "source": [
    "\n",
    "#Insertar columnas\n",
    "dfCHUBB['Aseguradora'] = 'CHUBB'\n",
    "#Renomrar columna para el cruce\n",
    "dfCHUBB = dfCHUBB.rename(columns={'Conducto':'CHUBB'})"
   ]
  },
  {
   "cell_type": "code",
   "execution_count": 145,
   "metadata": {},
   "outputs": [],
   "source": [
    "\n",
    "#Hacer los cruces \n",
    "dfCHUBB = pd.merge(dfCHUBB,dfcat,on='CHUBB',how='left')\n"
   ]
  },
  {
   "cell_type": "code",
   "execution_count": 146,
   "metadata": {},
   "outputs": [],
   "source": [
    "\n",
    "#Campos calculados\n",
    "## Necesitamos combertir los la columna flotante con un número tipo float \n",
    "dfCHUBB['ClaveId'] = dfCHUBB['ClaveId'].apply(lambda x: x.strip() if isinstance(x, str) else x)\n",
    "\n",
    "\n",
    "# Separar la columna por el guion medio\n",
    "#dfCHUBB[['Ini Vig', 'Fin Vig']] = dfCHUBB['Periodo'].str.split('-', expand=True)\n",
    "dfCHUBB['Póliza'] = dfCHUBB['ClaveId'].apply(str) + '-' + dfCHUBB['PolizaId'].apply(str)\n",
    "\n"
   ]
  },
  {
   "cell_type": "code",
   "execution_count": 147,
   "metadata": {},
   "outputs": [],
   "source": [
    "# Separar la columna por el guion medio\n",
    "#dfCHUBB[['Ini Vig', 'Fin Vig']] = dfCHUBB['Periodo'].str.split('-', expand=True)\n",
    "dfCHUBB['Póliza'] = dfCHUBB['ClaveId'].apply(str) + '-' + dfCHUBB['PolizaId'].apply(str)\n",
    "\n",
    "#Definir columnas\n",
    "dfCHUBB.columns\n",
    "\n",
    "dfCHUBB = dfCHUBB[['Grupo','Agencia','Aseguradora','Póliza','ReciboId','AseguradoNombre','Serie',\n",
    "                   'InicioVigencia','FinVigencia','PrimaNeta','PrimaTotal','UDINeta','UDIIva','UDITotal','MARSH']]\n",
    "\n",
    "\n",
    "\n",
    "\n",
    "\n",
    "\n"
   ]
  },
  {
   "cell_type": "code",
   "execution_count": 148,
   "metadata": {},
   "outputs": [
    {
     "data": {
      "text/plain": [
       "Index(['Grupo', 'Agencia', 'Aseguradora', 'Poliza', 'Recibo', 'Asegurado',\n",
       "       'Serie', 'Ini_Vig', 'Fin_Vig', 'Prima_Neta', 'Prima_Total', 'UDI_Neto',\n",
       "       'UDI_IVA', 'UDI_Total', 'Alias'],\n",
       "      dtype='object')"
      ]
     },
     "execution_count": 148,
     "metadata": {},
     "output_type": "execute_result"
    }
   ],
   "source": [
    "#Remobrar para Layout completo\n",
    "dfCHUBB = dfCHUBB.rename(columns={'Grupo':'Grupo',\n",
    "                                  'Agencia Mazda':'Dealer',\n",
    "                                  'Aseguradora':'Aseguradora',\n",
    "                                  'Póliza':'Poliza',\n",
    "                                  'ReciboId':'Recibo',\n",
    "                                  'AseguradoNombre':'Asegurado',\n",
    "                                  'Serie':'Serie',\n",
    "                                  'InicioVigencia':'Ini_Vig',\n",
    "                                  'FinVigencia':'Fin_Vig',\n",
    "                                  'PrimaNeta':'Prima_Neta',\n",
    "                                  'PrimaTotal':'Prima_Total',\n",
    "                                  'UDINeta':'UDI_Neto',\n",
    "                                  'UDIIva':'UDI_IVA',\n",
    "                                  'UDITotal':'UDI_Total',\n",
    "                                  'MARSH':'Alias'                                                         \n",
    "                                  })\n",
    "\n",
    "dfCHUBB.columns"
   ]
  },
  {
   "cell_type": "code",
   "execution_count": 149,
   "metadata": {},
   "outputs": [],
   "source": [
    "dfCHUBB.to_excel('ChuubData.xlsx', index=False)"
   ]
  },
  {
   "cell_type": "markdown",
   "metadata": {},
   "source": [
    "GNP"
   ]
  },
  {
   "cell_type": "code",
   "execution_count": 150,
   "metadata": {},
   "outputs": [
    {
     "name": "stdout",
     "output_type": "stream",
     "text": [
      "Trace | GNP Files\n"
     ]
    },
    {
     "data": {
      "text/plain": [
       "Index(['id', 'Negocio', 'Perceptor', 'GNP', 'Trabajo', 'Solicitud', 'Contrato',\n",
       "       'Division', 'Subdivision', 'Numero', 'Linea_Negocio', 'Caratula',\n",
       "       'Poliza', 'Version', 'No_Fraccion', 'Recibo', 'Estatus_Recibo',\n",
       "       'Inicio_vigencia', 'Fin_vigencia', 'Prima_neta', 'Derechos', 'Recargos',\n",
       "       'IVA', 'Prima_total', '% Udi', 'Udi neto', 'Udi IVA', 'Udi total',\n",
       "       'Fecha_generacion', 'clave_agente', 'nombre_agente', 'referencia',\n",
       "       'fecha_aplicacion', 'id_udis', 'Serie', 'Asegurado', 'PTO. VTA',\n",
       "       'Aseguradora', 'Agencia Mazda', 'Razón Social', 'Grupo', 'MARSH',\n",
       "       'ATLAS', 'QUALITAS', 'CHUBB'],\n",
       "      dtype='object')"
      ]
     },
     "execution_count": 150,
     "metadata": {},
     "output_type": "execute_result"
    }
   ],
   "source": [
    "print('Trace | GNP Files')\n",
    "\n",
    "#Leer base de datos\n",
    "dfGNP = pd.read_excel(PathInsurance / \"EDC_GNP.xlsx\")\n",
    "#Insertar columnas calculadas\n",
    "dfGNP['Aseguradora'] = 'GNP'\n",
    "#Renomrar columna para el cruce\n",
    "dfGNP = dfGNP.rename(columns={'Codigo_Intermediario':'GNP'})\n",
    "\n",
    "#Hacer los cruces\n",
    "dfGNP = pd.merge(dfGNP,dfcat,on='GNP',how='left')\n",
    "\n",
    "#Definir columnas\n",
    "dfGNP.columns\n"
   ]
  },
  {
   "cell_type": "code",
   "execution_count": 151,
   "metadata": {},
   "outputs": [],
   "source": [
    "\n",
    "dfGNP = dfGNP[['Grupo','PTO. VTA','Aseguradora','Poliza','No_Fraccion','Asegurado','Serie',\n",
    "          'Inicio_vigencia', 'Fin_vigencia','Prima_neta','Prima_total','Udi neto','Udi IVA', 'Udi total','MARSH']]\n",
    "\n"
   ]
  },
  {
   "cell_type": "code",
   "execution_count": 152,
   "metadata": {},
   "outputs": [
    {
     "data": {
      "text/plain": [
       "Index(['Grupo', 'Dealer', 'Aseguradora', 'Poliza', 'Recibo', 'Asegurado',\n",
       "       'Serie', 'Ini_Vig', 'Fin_Vig', 'Prima_Neta', 'Prima_Total', 'UDI_Neto',\n",
       "       'UDI_IVA', 'UDI_Total', 'Alias'],\n",
       "      dtype='object')"
      ]
     },
     "execution_count": 152,
     "metadata": {},
     "output_type": "execute_result"
    }
   ],
   "source": [
    "#Remobrar para Layout completo\n",
    "dfGNP = dfGNP.rename(columns={'Grupo':'Grupo',\n",
    "                              'PTO. VTA':'Dealer',\n",
    "                              'Aseguradora':'Aseguradora',\n",
    "                              'Poliza':'Poliza',\n",
    "                              'No_Fraccion':'Recibo',\n",
    "                              'Asegurado':'Asegurado',\n",
    "                              'Serie':'Serie',\n",
    "                              'Inicio_vigencia':'Ini_Vig',\n",
    "                              'Fin_vigencia':'Fin_Vig',\n",
    "                              'Prima_neta':'Prima_Neta',\n",
    "                              'Prima_total':'Prima_Total',\n",
    "                              'Udi neto':'UDI_Neto',\n",
    "                              'Udi IVA':'UDI_IVA',\n",
    "                              'Udi total':'UDI_Total',\n",
    "                              'MARSH':'Alias'                            \n",
    "                              })\n",
    "\n",
    "dfGNP.columns\n"
   ]
  },
  {
   "cell_type": "markdown",
   "metadata": {},
   "source": [
    "HDI CONTADO"
   ]
  },
  {
   "cell_type": "code",
   "execution_count": 153,
   "metadata": {},
   "outputs": [
    {
     "name": "stdout",
     "output_type": "stream",
     "text": [
      "Trace | HDI CONTADO Files\n"
     ]
    },
    {
     "data": {
      "text/plain": [
       "Index(['Imprimir', 'Oficina', 'Línea de Negocio', 'Ramo', 'Póliza', 'Serie',\n",
       "       'Año Poliza', 'Folio', 'Certificado', 'Inicio de Vigencia',\n",
       "       'Fin de Vigencia', 'Fecha de Pago', 'Status', 'Causa', 'Fecha Status',\n",
       "       'Forma de Pago Emitido', 'Moneda', 'Asegurado', 'Entidad Gubernamental',\n",
       "       'HDI', 'Agente', 'Pago', 'T.D.', 'Cheque Devuelto/Tarjeta de Crédito',\n",
       "       'Fecha Ingreso', 'Liquidación', 'Origen Ingreso', 'Importe Origen',\n",
       "       'Prima por Módulo', 'Financiamiento por Módulo', 'Protección',\n",
       "       'Prima Neta', 'Comisión por Módulo', 'Financiamiento', 'Comisión',\n",
       "       'Frec. Pago', 'Prima Total', 'Instrumento de Cobro', 'Der. Póliza',\n",
       "       'IVA', 'DP Marsh', 'DP Mazda', 'Tipo Cargo', '% UDI', 'Monto UDI',\n",
       "       'Monto Agencia', 'Mazda', 'Fecha de cargo', 'Banco',\n",
       "       'No. transacción Cargo', 'Programa', 'No. Negocio', 'Numero Endoso',\n",
       "       'Aseguradora', 'Cuenta', 'Instrumento Cargo', 'ID', 'Agente lider',\n",
       "       'Columna1', 'Usuario y contraseña', 'Descripción Perfil',\n",
       "       'Oficina Operativa', 'Agencia Mazda', 'Razón Social', 'UDI Agencia',\n",
       "       'UDI Mazda', 'UDI Santander', 'Comisión', 'DP Total', 'DP HDI',\n",
       "       'DP Mazda', 'DP Marsh', 'MontoAgencia', 'UDI IVA', 'UDI Total', 'Ofc',\n",
       "       'Razón Social', 'Grupo', 'MARSH', 'ATLAS', 'QUALITAS', 'GNP', 'CHUBB'],\n",
       "      dtype='object')"
      ]
     },
     "execution_count": 153,
     "metadata": {},
     "output_type": "execute_result"
    }
   ],
   "source": [
    "print('Trace | HDI CONTADO Files')\n",
    "\n",
    "#Leer base de datos\n",
    "dfHDI_C = pd.read_excel(PathInsurance / \"EDC_HDI_CONTADO.xlsx\")\n",
    "#Insertar columnas calculadas\n",
    "dfHDI_C['Aseguradora'] = 'HDI CONTADO'\n",
    "#dfHDI_C['Grupo'] = ''\n",
    "#dfHDI_C['MARSH'] = ''\n",
    "\n",
    "#Renomrar columna para el cruce\n",
    "dfHDI_C = dfHDI_C.rename(columns={'Nip Agente':'HDI'})\n",
    "\n",
    "#Hacer los cruces\n",
    "dfHDI_C = pd.merge(dfHDI_C,dfcatHDI,on='HDI',how='left')\n",
    "\n",
    "\n",
    "dfHDI_C.columns = dfHDI_C.columns.str.replace(\"_x\", \"\")\n",
    "dfHDI_C.columns = dfHDI_C.columns.str.replace(\"_y\", \"\")\n",
    "\n",
    "#Insertar columnas\n",
    "IVA = 0.16\n",
    "#Campos calculados\n",
    "dfHDI_C['MontoAgencia'] = dfHDI_C['Prima Neta'] * 0.22\n",
    "dfHDI_C['UDI IVA'] = dfHDI_C['MontoAgencia'] * IVA\n",
    "dfHDI_C['UDI Total'] = dfHDI_C['MontoAgencia'] + dfHDI_C['UDI IVA']\n",
    "\n",
    "##Se tiene que sacar los primero dígitos\n",
    "dfHDI_C['Ofc'] = dfHDI_C['Oficina'].astype(str).str[:3]\n",
    "## Necesitamos combertir los la columna flotante con un número tipo float \n",
    "dfHDI_C['Ofc'] = dfHDI_C['Ofc'].apply(lambda x: x.strip() if isinstance(x, str) else x)\n",
    "dfHDI_C['Certificado'] = dfHDI_C['Certificado'].apply(lambda x: x.strip() if isinstance(x, str) else x)\n",
    "## Separar la columna por el guion medio\n",
    "dfHDI_C['Póliza'] = dfHDI_C['Ofc'].apply(str) + '-' + dfHDI_C['Póliza'].apply(str) + '-' + dfHDI_C['Certificado'].apply(str) \n",
    "\n",
    "#dfHDI_C.columns\n",
    "\n",
    "#Hacer el cruce con el cat\n",
    "#Hacer los cruces\n",
    "dfHDI_C = pd.merge(dfHDI_C,dfcat,on='Agencia Mazda',how='left')\n",
    "\n",
    "dfHDI_C.columns = dfHDI_C.columns.str.replace(\"_x\", \"\")\n",
    "dfHDI_C.columns = dfHDI_C.columns.str.replace(\"_y\", \"\")\n",
    "\n",
    "dfHDI_C.columns\n",
    "\n"
   ]
  },
  {
   "cell_type": "code",
   "execution_count": 154,
   "metadata": {},
   "outputs": [],
   "source": [
    "#Seleccionar colummas\n",
    "dfHDI_C = dfHDI_C[['Grupo', 'Agencia Mazda','Aseguradora','Póliza','Certificado','Asegurado','Serie',\n",
    "                  'Inicio de Vigencia','Fin de Vigencia','Prima Neta','Prima Total','Monto UDI','UDI IVA','UDI Total','MARSH']]"
   ]
  },
  {
   "cell_type": "code",
   "execution_count": 155,
   "metadata": {},
   "outputs": [],
   "source": [
    "#Remobrar para Layout completo\n",
    "dfHDI_C = dfHDI_C.rename(columns={ 'Grupo':'Grupo',\n",
    "                                'Agencia Mazda':'Dealer',\n",
    "                                'Aseguradora':'Aseguradora',\n",
    "                                'Póliza':'Poliza',\n",
    "                                'Certificado':'Recibo',  \n",
    "                                'Asegurado':'Asegurado',  \n",
    "                                'Serie':'Serie',  \n",
    "                                'Inicio de Vigencia':'Ini_Vig',\n",
    "                                'Fin de Vigencia':'Fin_Vig',\n",
    "                                'Prima Neta':'Prima_Neta',\n",
    "                                'Prima Total':'Prima_Total',\n",
    "                                'Monto UDI':'UDI_Neto',\n",
    "                                'UDI IVA':'UDI_IVA',\n",
    "                                'UDI Total':'UDI_Total',\n",
    "                                'MARSH':'Alias'\n",
    "                                  })"
   ]
  },
  {
   "cell_type": "markdown",
   "metadata": {},
   "source": [
    "HDI FINANCIADO"
   ]
  },
  {
   "cell_type": "code",
   "execution_count": 156,
   "metadata": {},
   "outputs": [
    {
     "name": "stdout",
     "output_type": "stream",
     "text": [
      "Trace | HDI FINANCIADO Files\n"
     ]
    },
    {
     "data": {
      "text/plain": [
       "Index(['Imprimir', 'Oficina', 'Línea de Negocio', 'Ramo', 'Póliza',\n",
       "       'Año Poliza', 'Folio', 'Certificado', 'Inicio de Vigencia',\n",
       "       'Fin de Vigencia', 'Fecha de Pago', 'Status', 'Causa', 'Fecha Status',\n",
       "       'Serie', 'Periodo', 'Forma de Pago Emitido', 'Moneda', 'Asegurado',\n",
       "       'HDI', 'Nip Agente 2', 'NIP Beneficiario', 'Beneficiario', 'Agente',\n",
       "       'Pago', 'T.D.', 'Cheque Devuelto/Tarjeta de Crédito', 'Fecha Ingreso',\n",
       "       'Liquidación', 'Origen Ingreso', 'Importe Origen', 'Prima por Módulo',\n",
       "       'Financiamiento por Módulo', 'Protección', 'Prima Neta',\n",
       "       'Financiamiento', 'Comisión por Módulo', 'Comisión', 'Frec. Pago',\n",
       "       'Prima Total', 'Instrumento de Cobro', 'Der. Póliza', 'IVA', 'DP Marsh',\n",
       "       'DP Mazda', 'Tipo Cargo', '% UDI', 'Monto UDI', 'UDI Agencias',\n",
       "       'UDI Mazda', 'UDI Santander', 'Fecha de cargo', 'Banco',\n",
       "       'No. transacción Cargo', 'Programa', 'No. Negocio', 'Numero Endoso',\n",
       "       'Aseguradora', 'Cuenta', 'Instrumento Cargo', 'ID Recibo',\n",
       "       'Agente lider', 'Columna1', 'Usuario y contraseña',\n",
       "       'Descripción Perfil', 'Oficina Operativa', 'Agencia Mazda',\n",
       "       'Razón Social', 'UDI Agencia', 'UDI Mazda', 'UDI Santander', 'Comisión',\n",
       "       'DP Total', 'DP HDI', 'DP Mazda', 'DP Marsh', 'MontoAgencia', 'UDI IVA',\n",
       "       'UDI Total', 'Ofc', 'Razón Social', 'Grupo', 'MARSH', 'ATLAS',\n",
       "       'QUALITAS', 'GNP', 'CHUBB'],\n",
       "      dtype='object')"
      ]
     },
     "execution_count": 156,
     "metadata": {},
     "output_type": "execute_result"
    }
   ],
   "source": [
    "print('Trace | HDI FINANCIADO Files')\n",
    "\n",
    "#Leer base de datos\n",
    "dfHDI_F = pd.read_excel(PathInsurance / \"EDC_HDI_FINANCIADO.xlsx\")\n",
    "#Insertar columnas calculadas\n",
    "dfHDI_F['Aseguradora'] = 'HDI FINANCIADO'\n",
    "#dfHDI_F['Grupo'] = ''\n",
    "#dfHDI_F['MARSH'] = ''\n",
    "\n",
    "\n",
    "#Renomrar columna para el cruce\n",
    "dfHDI_F = dfHDI_F.rename(columns={'Nip Agente':'HDI'})\n",
    "\n",
    "#Hacer los cruces\n",
    "dfHDI_F = pd.merge(dfHDI_F,dfcatHDI,on='HDI',how='left')\n",
    "\n",
    "\n",
    "dfHDI_F.columns = dfHDI_F.columns.str.replace(\"_x\", \"\")\n",
    "dfHDI_F.columns = dfHDI_F.columns.str.replace(\"_y\", \"\")\n",
    "\n",
    "#Insertar columnas\n",
    "IVA = 0.16\n",
    "#Campos calculados\n",
    "dfHDI_F['MontoAgencia'] = dfHDI_F['Prima Neta'] * 0.22\n",
    "dfHDI_F['UDI IVA'] = dfHDI_F['MontoAgencia'] * IVA\n",
    "dfHDI_F['UDI Total'] = dfHDI_F['MontoAgencia'] + dfHDI_F['UDI IVA']\n",
    "\n",
    "##Se tiene que sacar los primero dígitos\n",
    "dfHDI_F['Ofc'] = dfHDI_F['Oficina'].astype(str).str[:3]\n",
    "## Necesitamos combertir los la columna flotante con un número tipo float \n",
    "dfHDI_F['Ofc'] = dfHDI_F['Ofc'].apply(lambda x: x.strip() if isinstance(x, str) else x)\n",
    "dfHDI_F['Certificado'] = dfHDI_F['Certificado'].apply(lambda x: x.strip() if isinstance(x, str) else x)\n",
    "## Separar la columna por el guion medio\n",
    "dfHDI_F['Póliza'] = dfHDI_F['Ofc'].apply(str) + '-' + dfHDI_F['Póliza'].apply(str) + '-' + dfHDI_F['Certificado'].apply(str) \n",
    "\n",
    "#dfHDI_F.columns\n",
    "\n",
    "#Hacer el cruce con el cat\n",
    "#Hacer los cruces\n",
    "dfHDI_F = pd.merge(dfHDI_F,dfcat,on='Agencia Mazda',how='left')\n",
    "\n",
    "dfHDI_F.columns = dfHDI_F.columns.str.replace(\"_x\", \"\")\n",
    "dfHDI_F.columns = dfHDI_F.columns.str.replace(\"_y\", \"\")\n",
    "\n",
    "dfHDI_F.columns\n",
    "\n"
   ]
  },
  {
   "cell_type": "code",
   "execution_count": 157,
   "metadata": {},
   "outputs": [],
   "source": [
    "#Seleccionar colummas\n",
    "dfHDI_F = dfHDI_F[['Grupo', 'Agencia Mazda','Aseguradora','Póliza','Certificado','Asegurado','Serie',\n",
    "                  'Inicio de Vigencia','Fin de Vigencia','Prima Neta','Prima Total','Monto UDI','UDI IVA','UDI Total','MARSH']]"
   ]
  },
  {
   "cell_type": "code",
   "execution_count": 158,
   "metadata": {},
   "outputs": [],
   "source": [
    "#Remobrar para Layout completo\n",
    "dfHDI_F = dfHDI_F.rename(columns={ 'Grupo':'Grupo',\n",
    "                                'Agencia Mazda':'Dealer',\n",
    "                                'Aseguradora':'Aseguradora',\n",
    "                                'Póliza':'Poliza',\n",
    "                                'Certificado':'Recibo',  \n",
    "                                'Asegurado':'Asegurado',  \n",
    "                                'Serie':'Serie',  \n",
    "                                'Inicio de Vigencia':'Ini_Vig',\n",
    "                                'Fin de Vigencia':'Fin_Vig',\n",
    "                                'Prima Neta':'Prima_Neta',\n",
    "                                'Prima Total':'Prima_Total',\n",
    "                                'Monto UDI':'UDI_Neto',\n",
    "                                'UDI IVA':'UDI_IVA',\n",
    "                                'UDI Total':'UDI_Total',\n",
    "                                'MARSH':'Alias'\n",
    "                                  })"
   ]
  },
  {
   "cell_type": "markdown",
   "metadata": {},
   "source": [
    "QUALITAS"
   ]
  },
  {
   "cell_type": "code",
   "execution_count": 159,
   "metadata": {},
   "outputs": [
    {
     "name": "stdout",
     "output_type": "stream",
     "text": [
      "Trace | QUALITAS Files\n"
     ]
    }
   ],
   "source": [
    "print('Trace | QUALITAS Files')\n",
    "\n",
    "#Leer base de datos\n",
    "dfQUA = pd.read_excel(PathInsurance / \"EDC_QUALITAS.xlsx\")\n",
    "#limpiar la base de datos\n",
    "\n",
    "dfQUA = dfQUA.dropna(subset=['Unnamed: 8'])\n",
    "\n",
    "dfQUA = dfQUA[dfQUA['Unnamed: 8'].str.strip() != \"\"]\n",
    "dfQUA = dfQUA[dfQUA['Unnamed: 8'].str.strip() != \"MONEDA NAL\"]\n",
    "dfQUA = dfQUA[dfQUA['Unnamed: 8'] != 0]\n",
    "\n",
    "dfQUA.columns = dfQUA.iloc[1,]\n",
    "\n",
    "dfQUA = dfQUA[dfQUA['AGENTE'].str.strip() != \"AGENTE\"]\n",
    "\n",
    "dfQUA['AGENCIA'] = dfQUA['AGENTE'].where(dfQUA['AGENTE'].str.startswith('AGENCIA NUM:')).ffill()\n",
    "\n",
    "dfQUA = dfQUA.dropna(subset=['POLIZA'])\n",
    "dfQUA['AGENCIA'] = dfQUA['AGENCIA'].str.replace(\"AGENCIA NUM: \",\"\")\n",
    "\n",
    "#Renomrar columna para el cruce\n",
    "dfQUA = dfQUA.rename(columns={'AGENCIA':'QUALITAS'})\n"
   ]
  },
  {
   "cell_type": "code",
   "execution_count": 160,
   "metadata": {},
   "outputs": [],
   "source": [
    "#Insertar columnas calculadas\n",
    "dfQUA['Aseguradora'] = 'QUALITAS'\n",
    "dfQUA['Ini_Vig'] = ''\n",
    "dfQUA['Fin_Vig'] = ''\n",
    "dfQUA['Prima_Neta'] = dfQUA['IMPORTE']\n",
    "dfQUA['Prima_Total'] = ''\n",
    "dfQUA['UDI_Neto'] = dfQUA['HON.']\n",
    "dfQUA['UDI_IVA'] = dfQUA['IVA_PAG']\n",
    "dfQUA['UDI_Total'] = dfQUA['ABONO'] - dfQUA['CARGO']\n",
    "\n",
    "#Insertar columnas calculadas\n",
    "dfQUA['Aseguradora'] = 'QUALITAS'\n",
    "\n",
    "#cambio col QUA\n",
    "dfQUA['QUALITAS'] = dfQUA['QUALITAS'].astype('int64')\n",
    "\n",
    "dfQUA.to_excel(Path(PathC) / \"Outputs\" / NameItem / \"EDC_QUALITAS_V2.xlsx\", index=False)\n",
    "\n"
   ]
  },
  {
   "cell_type": "code",
   "execution_count": 161,
   "metadata": {},
   "outputs": [],
   "source": [
    "#Hacer los cruces\n",
    "dfQUA = pd.merge(dfQUA,dfcat,on='QUALITAS',how='left')\n"
   ]
  },
  {
   "cell_type": "code",
   "execution_count": 162,
   "metadata": {},
   "outputs": [],
   "source": [
    "dfQUA.columns\n",
    "dfQUA = dfQUA[['Grupo','Agencia Mazda','Aseguradora','POLIZA','RECIBO','CONCEPTO','NIV',\n",
    "          'Ini_Vig','Fin_Vig','Prima_Neta','Prima_Total','UDI_Neto','UDI_IVA','UDI_Total','MARSH']]\n",
    "\n"
   ]
  },
  {
   "cell_type": "code",
   "execution_count": 163,
   "metadata": {},
   "outputs": [
    {
     "data": {
      "text/plain": [
       "Index(['Grupo', 'Dealer', 'Aseguradora', 'Poliza', 'Recibo', 'Asegurado',\n",
       "       'Serie', 'Ini_Vig', 'Fin_Vig', 'Prima_Neta', 'Prima_Total', 'UDI_Neto',\n",
       "       'UDI_IVA', 'UDI_Total', 'Alias'],\n",
       "      dtype='object')"
      ]
     },
     "execution_count": 163,
     "metadata": {},
     "output_type": "execute_result"
    }
   ],
   "source": [
    "#Remobrar para Layout completo\n",
    "dfQUA = dfQUA.rename(columns={  'Grupo':'Grupo',\n",
    "                                'Agencia Mazda':'Dealer',\n",
    "                                'Aseguradora':'Aseguradora',\n",
    "                                'POLIZA':'Poliza',\n",
    "                                'RECIBO':'Recibo',\n",
    "                                'CONCEPTO':'Asegurado',\n",
    "                                'NIV':'Serie',\n",
    "                                'Inicio de Vigencia':'Ini_Vig',\n",
    "                                'Fin de Vigencia':'Fin_Vig',\n",
    "                                'Prima Neta':'Prima_Neta',\n",
    "                                'Prima Total':'Prima_Total',\n",
    "                                'Monto UDI':'UDI_Neto',\n",
    "                                'UDI IVA':'UDI_IVA',\n",
    "                                'UDI Total':'UDI_Total',\n",
    "                                'MARSH':'Alias'\n",
    "                              })\n",
    "\n",
    "dfQUA.to_excel(Path(PathC) / \"Outputs\" / NameItem / \"EDC_QUALITAS_V3.xlsx\", index=False)\n",
    "\n",
    "dfQUA.columns\n"
   ]
  },
  {
   "cell_type": "markdown",
   "metadata": {},
   "source": [
    "Base de datos completas"
   ]
  },
  {
   "cell_type": "code",
   "execution_count": 164,
   "metadata": {},
   "outputs": [
    {
     "name": "stdout",
     "output_type": "stream",
     "text": [
      "Trace | Merged Files\n"
     ]
    }
   ],
   "source": [
    "print('Trace | Merged Files')\n",
    "\n",
    "# Unir los DataFrames de las aseguradora en uno solo\n",
    "df_merged = pd.concat([dfATLAS,dfCHUBB, dfGNP, dfHDI_C,dfHDI_F,dfQUA], ignore_index=True)\n",
    "\n",
    "#Agregar columnas restantes\n",
    "df_merged['Canal']=''\n",
    "df_merged['Tipo Poliza']=''\n",
    "df_merged['Limite']=''\n",
    "\n",
    "#\n",
    "df_merged.columns\n",
    "\n",
    "df_merged = df_merged[['Grupo', 'Dealer', 'Aseguradora', 'Canal', 'Tipo Poliza','Poliza', 'Recibo', 'Asegurado',\n",
    "       'Serie', 'Ini_Vig', 'Fin_Vig', 'Prima_Neta', 'Prima_Total', 'UDI_Neto',\n",
    "       'UDI_IVA', 'UDI_Total', 'Limite','Alias']]\n",
    "\n",
    "\n"
   ]
  },
  {
   "cell_type": "code",
   "execution_count": 165,
   "metadata": {},
   "outputs": [],
   "source": [
    "from datetime import date\n",
    "\n",
    "# Supongamos que tienes un dataframe llamado \"df\" que deseas guardar en un archivo de Excel\n",
    "# Puedes obtener la fecha actual utilizando la biblioteca datetime\n",
    "fecha_actual = date.today().strftime(\"%d-%m-%Y\")\n",
    "\n",
    "# Luego, puedes utilizar el método to_excel() de Pandas para guardar el dataframe en un archivo de Excel\n",
    "nombre_archivo = f\"Files_{fecha_actual}.xlsx\"\n",
    "df_merged.to_excel(Path(PathC) / \"Outputs\" / NameItem / nombre_archivo, index=False)\n",
    "\n",
    "# El dataframe se guardará en un archivo de Excel con el nombre que incluye la fecha actual\n"
   ]
  },
  {
   "cell_type": "code",
   "execution_count": 166,
   "metadata": {},
   "outputs": [],
   "source": [
    "#exporta a csv\n",
    "#combinado_csv.to_csv(Path(PathC) / \"Outputs\" / NameItem / \"File_Atlas_All.csv\", index=False, encoding='utf-8-sig')\n",
    "\n",
    "#df_merged.to_excel(Path(PathC) / \"Outputs\" / NameItem / \"Files_All.xlsx\", index=False)"
   ]
  },
  {
   "cell_type": "code",
   "execution_count": 167,
   "metadata": {},
   "outputs": [
    {
     "name": "stdout",
     "output_type": "stream",
     "text": [
      "Los DataFrames se han unido y la información se ha guardado en 'resultado.xlsx'.\n"
     ]
    }
   ],
   "source": [
    "# Guardar el DataFrame unido en un archivo de Excel\n",
    "print(\"Los DataFrames se han unido y la información se ha guardado en 'resultado.xlsx'.\")\n"
   ]
  }
 ],
 "metadata": {
  "kernelspec": {
   "display_name": "Python 3",
   "language": "python",
   "name": "python3"
  },
  "language_info": {
   "codemirror_mode": {
    "name": "ipython",
    "version": 3
   },
   "file_extension": ".py",
   "mimetype": "text/x-python",
   "name": "python",
   "nbconvert_exporter": "python",
   "pygments_lexer": "ipython3",
   "version": "3.12.0"
  }
 },
 "nbformat": 4,
 "nbformat_minor": 2
}
