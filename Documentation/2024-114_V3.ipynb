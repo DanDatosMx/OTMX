{
 "cells": [
  {
   "cell_type": "code",
   "execution_count": 61,
   "metadata": {},
   "outputs": [],
   "source": [
    "import pandas as pd\n",
    "from docx import Document\n",
    "from openpyxl import load_workbook\n",
    "import os\n",
    "from pathlib import Path"
   ]
  },
  {
   "cell_type": "code",
   "execution_count": 62,
   "metadata": {},
   "outputs": [],
   "source": [
    "# Cargar el archivo Excel\n",
    "ruta_archivo = \"C:/OTMX/Inputs/2024-114/Data_Renovaciones_FORD.xlsx\"  # Reemplaza con la ruta de tu archivo Excel\n",
    "datos_excel = pd.read_excel(ruta_archivo)\n"
   ]
  },
  {
   "cell_type": "code",
   "execution_count": 63,
   "metadata": {},
   "outputs": [],
   "source": [
    "# Ruta del archivo de Word y de Excel\n",
    "archivo_word = \"C:/OTMX/Inputs/2024-114/CotizaciónFord.docx\"\n",
    "archivo_excel = \"C:/OTMX/Inputs/2024-114/Data_Renovaciones_FORD.xlsx\"\n",
    "PathC = \"C:/OTMX\"\n",
    "NameItem = \"2024-114\"\n",
    "\n",
    "carpeta_output = Path(PathC) / \"Outputs\" / NameItem\n",
    "\n",
    "Output_dir = Path(PathC) / \"Outputs\" / NameItem\n",
    "Output_dir.mkdir(parents=True, exist_ok=True)"
   ]
  },
  {
   "cell_type": "code",
   "execution_count": 64,
   "metadata": {},
   "outputs": [],
   "source": [
    "# Cargar el archivo de Word\n",
    "documento_base = Document(archivo_word)"
   ]
  },
  {
   "cell_type": "code",
   "execution_count": 65,
   "metadata": {},
   "outputs": [
    {
     "name": "stdout",
     "output_type": "stream",
     "text": [
      "Archivo Word generado para la fila 1: 1000101727\n",
      "Archivo Word generado para la fila 2: 5590704159\n",
      "Archivo Word generado para la fila 3: 5590704160\n",
      "Archivo Word generado para la fila 4: 5591734061\n",
      "Archivo Word generado para la fila 5: 5599732923\n",
      "Archivo Word generado para la fila 6: 5590704154\n",
      "Archivo Word generado para la fila 7: 5590704161\n",
      "Archivo Word generado para la fila 8: 5591734053\n",
      "Archivo Word generado para la fila 9: 5592754001\n",
      "Archivo Word generado para la fila 10: 5598733225\n",
      "Archivo Word generado para la fila 11: 5590704153\n",
      "Archivo Word generado para la fila 12: 5591734055\n",
      "Archivo Word generado para la fila 13: 5594733806\n",
      "Archivo Word generado para la fila 14: 5594733891\n",
      "Archivo Word generado para la fila 15: 5598733272\n",
      "Archivo Word generado para la fila 16: 5599732961\n",
      "Archivo Word generado para la fila 17: 5592734004\n",
      "Archivo Word generado para la fila 18: 5592734006\n",
      "Archivo Word generado para la fila 19: 5594733887\n",
      "Archivo Word generado para la fila 20: 5595733689\n",
      "Archivo Word generado para la fila 21: 5593733955\n",
      "Archivo Word generado para la fila 22: 5596733557\n",
      "Archivo Word generado para la fila 23: 5590704151\n",
      "Archivo Word generado para la fila 24: 5590704155\n",
      "Archivo Word generado para la fila 25: 5598733125\n",
      "Archivo Word generado para la fila 26: 5595733621\n",
      "Archivo Word generado para la fila 27: 5595733696\n",
      "Archivo Word generado para la fila 28: 5590704157\n",
      "Archivo Word generado para la fila 29: 5598733131\n",
      "Archivo Word generado para la fila 30: 5591734058\n",
      "Archivo Word generado para la fila 31: 5592734005\n",
      "Archivo Word generado para la fila 32: 5593733959\n"
     ]
    }
   ],
   "source": [
    "# Imprimir cada fila con el número de póliza\n",
    "for indice, fila in datos_excel.iterrows():\n",
    "\n",
    "    # Obtener la información de las celdas\n",
    "    documento_base = Document(archivo_word)\n",
    "    \n",
    "    # Identificación\n",
    "    Folio = fila[\"Póliza\"]\n",
    "    Ini_Vig = fila[\"Inicio de Vigencia\"]\n",
    "    Fin_Vig = fila[\"Fin de Vigencia\"]\n",
    "\n",
    "    # Crear una copia del documento base para cada fila\n",
    "    documento = Document()\n",
    "    documento = documento_base\n",
    "\n",
    "\n",
    "    # Reemplazar las variables en el archivo de Word\n",
    "    for paragraph in documento.paragraphs:\n",
    "        #Identificación\n",
    "        if \"<<Folio>>\" in paragraph.text:\n",
    "            paragraph.text = paragraph.text.replace(\"<<Folio>>\", str(Folio))\n",
    "  \n",
    "    # Guardar el archivo de Word en la carpeta de salida\n",
    "    nombre_archivo = os.path.splitext(os.path.basename(archivo_word))[0]\n",
    "    archivo_salida = os.path.join(carpeta_output, f\"{\"Archivo\"}_{Folio}.docx\")\n",
    "    documento.save(archivo_salida)\n",
    "    \n",
    "    \n",
    "    print(f\"Archivo Word generado para la fila {indice + 1}: {Folio}\")"
   ]
  }
 ],
 "metadata": {
  "kernelspec": {
   "display_name": "Python 3",
   "language": "python",
   "name": "python3"
  },
  "language_info": {
   "codemirror_mode": {
    "name": "ipython",
    "version": 3
   },
   "file_extension": ".py",
   "mimetype": "text/x-python",
   "name": "python",
   "nbconvert_exporter": "python",
   "pygments_lexer": "ipython3",
   "version": "3.12.0"
  }
 },
 "nbformat": 4,
 "nbformat_minor": 2
}
