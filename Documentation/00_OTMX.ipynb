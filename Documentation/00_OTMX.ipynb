{
 "cells": [
  {
   "cell_type": "code",
   "execution_count": 1,
   "metadata": {},
   "outputs": [],
   "source": [
    "from pathlib import Path"
   ]
  },
  {
   "cell_type": "code",
   "execution_count": 2,
   "metadata": {},
   "outputs": [],
   "source": [
    "#Carpeta original OTMX\n",
    "OTMX_dir = Path('C:/') / \"OTMX01\"\n",
    "OTMX_dir.mkdir(parents=True, exist_ok=True)"
   ]
  },
  {
   "cell_type": "code",
   "execution_count": 3,
   "metadata": {},
   "outputs": [],
   "source": [
    "#Serie de carpetas\n",
    "##Documentation\n",
    "DOC_dir = OTMX_dir / 'Documentation'\n",
    "DOC_dir.mkdir(parents=True, exist_ok=True)\n",
    "##Catalogues\n",
    "CAT_dir = OTMX_dir / 'Catalogues'\n",
    "CAT_dir.mkdir(parents=True, exist_ok=True)\n",
    "##Inputs\n",
    "INP_dir = OTMX_dir / 'Inputs'\n",
    "INP_dir.mkdir(parents=True, exist_ok=True)\n",
    "##Templates\n",
    "TEM_dir = OTMX_dir / 'Templates'\n",
    "TEM_dir.mkdir(parents=True, exist_ok=True)\n",
    "##Outputs\n",
    "OUT_dir = OTMX_dir / 'Outputs'\n",
    "OUT_dir.mkdir(parents=True, exist_ok=True)\n",
    "#Scripts\n",
    "SCR_dir = OTMX_dir / 'Scripts'\n",
    "SCR_dir.mkdir(parents=True, exist_ok=True)\n",
    "#App\n",
    "APP_dir = OTMX_dir / 'Apps'\n",
    "APP_dir.mkdir(parents=True, exist_ok=True)\n",
    "#Path\n",
    "PATH_dir = OTMX_dir / 'Path'\n",
    "PATH_dir.mkdir(parents=True, exist_ok=True)"
   ]
  }
 ],
 "metadata": {
  "kernelspec": {
   "display_name": "Python 3",
   "language": "python",
   "name": "python3"
  },
  "language_info": {
   "codemirror_mode": {
    "name": "ipython",
    "version": 3
   },
   "file_extension": ".py",
   "mimetype": "text/x-python",
   "name": "python",
   "nbconvert_exporter": "python",
   "pygments_lexer": "ipython3",
   "version": "3.12.0"
  }
 },
 "nbformat": 4,
 "nbformat_minor": 2
}
