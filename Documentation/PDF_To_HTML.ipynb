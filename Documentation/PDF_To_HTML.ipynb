{
 "cells": [
  {
   "cell_type": "code",
   "execution_count": 2,
   "metadata": {},
   "outputs": [
    {
     "ename": "ModuleNotFoundError",
     "evalue": "No module named 'pdf2htmlEX'",
     "output_type": "error",
     "traceback": [
      "\u001b[1;31m---------------------------------------------------------------------------\u001b[0m",
      "\u001b[1;31mModuleNotFoundError\u001b[0m                       Traceback (most recent call last)",
      "Cell \u001b[1;32mIn[2], line 1\u001b[0m\n\u001b[1;32m----> 1\u001b[0m \u001b[38;5;28;01mimport\u001b[39;00m \u001b[38;5;21;01mpdf2htmlEX\u001b[39;00m\n",
      "\u001b[1;31mModuleNotFoundError\u001b[0m: No module named 'pdf2htmlEX'"
     ]
    }
   ],
   "source": [
    "import pdf2htmlEX\n"
   ]
  },
  {
   "cell_type": "code",
   "execution_count": null,
   "metadata": {},
   "outputs": [],
   "source": [
    "\n",
    "# Ruta del archivo PDF\n",
    "pdf_file = \"CV_OscarT_Sp_2024.pdf\"\n",
    "\n",
    "# Ruta de salida del archivo HTML\n",
    "html_file = \"CV_OscarT_Sp_2024.html\"\n",
    "\n",
    "# Convertir el archivo PDF a HTML\n",
    "pdf2htmlEX.convert_pdf_to_html(pdf_file, html_file)\n",
    "\n",
    "# Agregar un botón para cambiar el idioma\n",
    "html_content = open(html_file, \"r\").read()\n",
    "html_content_with_button = html_content + \"\"\"\n",
    "<button onclick=\"changeLanguage('english')\">English</button>\n",
    "<button onclick=\"changeLanguage('spanish')\">Español</button>\n",
    "<script>\n",
    "function changeLanguage(language) {\n",
    "    // Lógica para cambiar el idioma aquí\n",
    "}\n",
    "</script>\n",
    "\"\"\"\n",
    "\n",
    "# Guardar el archivo HTML actualizado\n",
    "with open(html_file, \"w\") as file:\n",
    "    file.write(html_content_with_button)\n"
   ]
  }
 ],
 "metadata": {
  "kernelspec": {
   "display_name": "Python 3",
   "language": "python",
   "name": "python3"
  },
  "language_info": {
   "codemirror_mode": {
    "name": "ipython",
    "version": 3
   },
   "file_extension": ".py",
   "mimetype": "text/x-python",
   "name": "python",
   "nbconvert_exporter": "python",
   "pygments_lexer": "ipython3",
   "version": "3.12.0"
  }
 },
 "nbformat": 4,
 "nbformat_minor": 2
}
